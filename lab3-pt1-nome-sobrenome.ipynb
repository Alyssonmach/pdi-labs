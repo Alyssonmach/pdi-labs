{
 "cells": [
  {
   "cell_type": "markdown",
   "id": "0f662b44",
   "metadata": {},
   "source": [
    "![banner-pdi](https://user-images.githubusercontent.com/58775072/141189378-b5df3287-e8c0-48a1-ad11-825ba317463b.png)"
   ]
  },
  {
   "cell_type": "markdown",
   "id": "3812ab62",
   "metadata": {},
   "source": [
    "## Universidade Federal de Campina Grande (UFCG)\n",
    "## Centro de Engenharia Elétrica e Informática (CEEI) \n",
    "## Disciplina: Int. ao Processamento de Imagem Digital e Visão Computacional\n",
    "## Professora: Luciana Ribeiro Veloso\n",
    "## Aluno(a): Coloque seu nome aqui"
   ]
  },
  {
   "cell_type": "markdown",
   "id": "d1ab7f1d",
   "metadata": {},
   "source": [
    "# <span style='color:red'>Laboratório 3.1: Processamento Digital de Imagens</span>\n",
    "***"
   ]
  },
  {
   "cell_type": "markdown",
   "id": "22ba467a",
   "metadata": {},
   "source": [
    "## Observações\n",
    "***\n",
    "\n",
    "1. Os arquivos de laboratório devem ser salvos seguindo o seguinte padrão: `lab-x-nome-sobrenome.ipynb`.\n",
    "2. Não esqueça de colocar o seu nome no cabeçalho acima.\n",
    "3. Não altere a ordem das células e realize as implementações somente nos campos específicados.  \n",
    "4. Ao longo do laboratório será solicitado perguntas teóricas relativas aos assuntos das aulas da disciplina e implementações de código utilizando a linguagem de programação Python. \n",
    "5. As células de implementação com código serão indicadas pelos seguintes comentários: `# IMPLEMENTE O SEU CÓDIGO AQUI`.\n",
    "6. Para editar uma célula de texto, basta clicar duas vezes com o cursos do mouse para editar, e `Ctrl + Enter` para finalizar a edição. \n",
    "7. Para rodar as células com os códigos desenvolvidos, digite `Ctrl + Enter` ou clique em `Run` no menu do Jupyter.\n",
    "8. Dúvidas, problemas de execução de código ou dificuldades com a linguagem de programação Python devem ser feitas durante as aulas de laboratório, encaminhadas para o grupo de WhatsApp da turma ou fórum do PVAE da disciplina.\n",
    "9. Os laboratórios devem ser enviados nos campos especificados pelo PVAE. ATENTE-SE AOS PRAZOS DE ENTREGA!"
   ]
  },
  {
   "cell_type": "markdown",
   "id": "4d91f021",
   "metadata": {},
   "source": [
    "### Importação dos Pacotes"
   ]
  },
  {
   "cell_type": "code",
   "execution_count": null,
   "id": "986f67bf",
   "metadata": {},
   "outputs": [],
   "source": [
    "import cv2 as cv                     # opencv para manipulação de imagens\n",
    "import numpy as np                   # numpy para manipulação de matrizes e arrays\n",
    "import matplotlib.pyplot as plt      # pyplot para plotagem de gráficos e imagens\n",
    "import urllib.request as url         # urllib para baixar arquivos via HTTPS\n",
    "import zipfile                       # zipfile para lidar com pastas compactadas\n",
    "import random                        # trabalhando com números randômicos\n",
    "import math                          # math para lidar com funções matemáticas"
   ]
  },
  {
   "cell_type": "code",
   "execution_count": null,
   "id": "2199aaad",
   "metadata": {},
   "outputs": [],
   "source": [
    "# baixando as imagens de referência\n",
    "url.urlretrieve('https://github.com/Alyssonmach/pdi-labs/raw/main/imagens.zip', 'imagens.zip')\n",
    "with zipfile.ZipFile('imagens.zip', 'r') as zip_ref:\n",
    "    zip_ref.extractall('')"
   ]
  },
  {
   "cell_type": "markdown",
   "id": "648aa08d",
   "metadata": {},
   "source": [
    "### Adição de ruído a imagem"
   ]
  },
  {
   "cell_type": "markdown",
   "id": "15589194",
   "metadata": {},
   "source": [
    "O ruído em uma imagem é apenas uma espécie de interferência que se manifesta sob a forma de pixels de cores bem diferentes da realidade. Tecnicamente, ruído é descrito como uma variação aleatória do brilho ou cor. Um ruído comum de ocorrem em imagens digitais é o chamado ruído sal e pimenta, na qual se caracteriza como pontos aleatórios na imagem de cor preta e branca (valores extremos de intensidade na imagem)."
   ]
  },
  {
   "cell_type": "code",
   "execution_count": null,
   "id": "quarterly-fruit",
   "metadata": {},
   "outputs": [],
   "source": [
    "# Abaixo uma função definida para gerar ruído a imagem\n",
    "def sp_noise(image, prob):\n",
    "    \n",
    "    output = np.zeros(image.shape, np.uint8)\n",
    "    thres = 1 - prob \n",
    "    for i in range(image.shape[0]):\n",
    "        for j in range(image.shape[1]):\n",
    "            rdn = random.random()\n",
    "            if rdn < prob: output[i][j] = 0\n",
    "            elif rdn > thres: output[i][j] = 255\n",
    "            else: output[i][j] = image[i][j]\n",
    "                \n",
    "    return output"
   ]
  },
  {
   "cell_type": "code",
   "execution_count": null,
   "id": "52b81a75",
   "metadata": {},
   "outputs": [],
   "source": [
    "img = cv.imread('imagens/lenna.jpg')\n",
    "img = cv.cvtColor(img, cv.COLOR_BGR2RGB) \n",
    "\n",
    "fig, axs = plt.subplots(nrows = 1, ncols = 3, figsize = (15, 15))\n",
    "\n",
    "axs[0].imshow(img)\n",
    "axs[0].set_title('Imagem Original', size = 15)\n",
    "img_noise = sp_noise(image=img, prob = 0.01)\n",
    "axs[1].imshow(img_noise)\n",
    "axs[1].set_title('Imagem com Ruído (prob = 0.01)', size = 15)\n",
    "img_noise = sp_noise(image=img, prob=0.1)\n",
    "axs[2].imshow(img_noise)\n",
    "axs[2].set_title('Imagem com Ruído (prob = 0.1)', size = 15)"
   ]
  },
  {
   "cell_type": "markdown",
   "id": "2ab62222",
   "metadata": {},
   "source": [
    "### Transformação de potência\n",
    "\n",
    "Os pixels de uma imagem podem ser submetidos a uma função de transformação ponto-a-ponto, da forma $y = x^γ$ , onde um fator $γ$ positivo e maior que $1$ produzirá uma imagem resultante mais escura que a imagem original, enquanto um fator $γ$ entre $0$ e $1$ produzirá uma imagem resultante mais clara que a imagem original. No python essa função de transformação  está disponível através da função **intensity_transform.gammaCorrection** da biblioteca do OpenCv\n",
    "\n",
    "**Sintaxe:** `cv.intensity_transform.gammaCorrection(img_in, img_out, gamma)`\n",
    "\n",
    "**Descrição:** Dada uma imagem colorida (BGR) ou em tons de cinza de entrada e a constante gama, aplique a transformação de lei de potência, também conhecida como correção de gama à imagem no domínio [0, 255] e retorne a imagem resultante.\n",
    "\n",
    "**Obs.:** Antes de executar essa função é necessário definir a imagem de entrada. Você pode usar o seguinte comando:\n",
    "\n",
    "`img_out = np.zeros (img_in.shape, img_in.dtype)`,\n",
    "\n",
    "que cria uma imagem preenchida com zeros com a mesma forma e tipo da imagem de entrada."
   ]
  },
  {
   "cell_type": "markdown",
   "id": "e1794b47",
   "metadata": {},
   "source": [
    "### Alargamento de contraste\n",
    "\n",
    "\n",
    "O alagamento de contraste é uma técnica de aprimoramento de imagem que tenta melhorar o contraste ampliando os valores de intensidade de uma imagem para preencher toda a faixa dinâmica. A função de transformação usada é sempre linear e monotonicamente crescente.\n",
    "\n",
    "A figura abaixo mostra uma função de transformação típica usada para alongamento de contraste.\n",
    "\n",
    "![image.png](https://user-images.githubusercontent.com/58775072/125873345-4a539ffb-b415-42a8-939e-96c82ab4e034.png)\n",
    "\n",
    "**Sintaxe:**  `cv.intensity_transform.contrastStretching(img_in, img_out, r1, s1, r2, s2)`\n",
    "\n",
    "**Descrição:** Dada uma imagem colorida (BGR) ou em tons de cinza de entrada, aplique alongamento de contraste linear no domínio [0, 255] e retorne a imagem resultante.\n",
    "\n",
    "**Parâmetros:** \n",
    "\n",
    "`img_in` ->\tentrada de imagem em BGR ou em tons de cinza.\n",
    "\n",
    "`img_out` ->\timagem resultante do alongamento do contraste.\n",
    "\n",
    "`r1`\t-> coordenada x do primeiro ponto (r1, s1) na função de transformação.\n",
    "\n",
    "`s1`  ->\tcoordenada y do primeiro ponto (r1, s1) na função de transformação.\n",
    "\n",
    "`r2`\t-> coordenada x do segundo ponto (r2, s2) na função de transformação.\n",
    "\n",
    "`s2`\t-> coordenada y do segundo ponto (r2, s2) na função de transformação.\n",
    "\n"
   ]
  },
  {
   "cell_type": "markdown",
   "id": "noticed-auditor",
   "metadata": {},
   "source": [
    " ## <span style='color:blue'>Questão 1: [Valor da Questão: 1.5][Taxa de acerto: x.x]</span>\n",
    "* (a) Processe a imagem **Fig0304(a)(breast_digital_Xray).tif** usando as funções de transformação abaixo. Mostre as três imagens resultantes e comente os resultados encontrados\n",
    "\n",
    "    * (a-1) `cv.intensity_transform.contrastStretching (img_in, g1, 0, 255, 255, 0)`\n",
    "\n",
    "    * (a-2) `cv.intensity_transform.contrastStretching (img_in, g2, 128, 191, 0, 255)`\n",
    "\n",
    "    * (a-3) `cv.intensity_transform.gammaCorrection (img, g3, 2)`\n",
    "\n",
    "* (b) Verificar o efeito de aplicar transformações de intensidade a uma imagem com valores de γ menores que 1 em uma imagem da sua escolha."
   ]
  },
  {
   "cell_type": "code",
   "execution_count": null,
   "id": "9fafce1e",
   "metadata": {},
   "outputs": [],
   "source": [
    "# IMPLEMENTE SEU CÓDIGO AQUI --> QUESTÃO 1 - letra (a-1)"
   ]
  },
  {
   "cell_type": "code",
   "execution_count": null,
   "id": "92eab54c",
   "metadata": {},
   "outputs": [],
   "source": [
    "# IMPLEMENTE SEU CÓDIGO AQUI --> QUESTÃO 1 - letra (a-2)"
   ]
  },
  {
   "cell_type": "code",
   "execution_count": null,
   "id": "2818da6d",
   "metadata": {},
   "outputs": [],
   "source": [
    "# IMPLEMENTE SEU CÓDIGO AQUI --> QUESTÃO 1 - letra (a-3) e (b)"
   ]
  },
  {
   "cell_type": "markdown",
   "id": "146df68f",
   "metadata": {},
   "source": [
    "## <span style='color:green'>Respostas da Questão 1:</span>\n",
    "\n",
    "* (a) Adicione sua resposta aqui.\n",
    "* (b) Adicione sua resposta aqui."
   ]
  },
  {
   "cell_type": "markdown",
   "id": "ceramic-abuse",
   "metadata": {},
   "source": [
    "### Transformações logarítmicas\n",
    "\n",
    "As transformações logarítmicas e de alargamento de contraste são ferramentas básicas para manipulação da faixa dinâmica da imagem. Os pixels de uma imagem podem ser submetidos a uma função de transformação logarítmica ponto-a-ponto, da forma $y = log ( 1 + x )$, através do comando **cv.intensity_transform.logTransform** da biblioteca do OpenCv\n",
    "\n",
    "**Sintaxe:** `cv.intensity_transform.logTransform(img_in, img_out)`\n",
    "\n",
    "**Descrição:** Dada uma imagem BGR ou em tons de cinza de entrada, aplique a transformação de log à imagem no domínio [0, 255] e retorne a imagem resultante.\n",
    "\n",
    "**Parâmetros:**\n",
    "\n",
    "`img_in` ->  imagem de entrada BGR ou em tons de cinza.  \n",
    "`img_out` -> imagem resultante de transformações de log.\n"
   ]
  },
  {
   "cell_type": "markdown",
   "id": "5b8e6e16",
   "metadata": {},
   "source": [
    " ## <span style='color:blue'>Questão 2: [Valor da Questão: 2.0][Taxa de acerto: x.x]</span>\n",
    " \n",
    " * (a) Processe a imagem **face.bmp** usando as funções de transformação abaixo. É necessário converter a imagem de entrada para int32 para que se possa fazer a operação.\n",
    "\n",
    "    * `F1=2f-40`\n",
    "    * `F2=30log10(f+1)`\n",
    "    * `F3=f^1.4`\n",
    "    * `F4=f^0.6`\n",
    "\n",
    "* Processe a imagem **Fig0305(a)(DFT_no_log).tif** usando a transformação logarítmica. Analise e comente os resultados.\n"
   ]
  },
  {
   "cell_type": "code",
   "execution_count": null,
   "id": "injured-recorder",
   "metadata": {},
   "outputs": [],
   "source": [
    "# IMPLEMENTE SEU CÓDIGO AQUI --> QUESTÃO 2 - letra (a)"
   ]
  },
  {
   "cell_type": "code",
   "execution_count": null,
   "id": "da61899d",
   "metadata": {},
   "outputs": [],
   "source": [
    "# IMPLEMENTE SEU CÓDIGO AQUI -> QUESTÃO 2 - letra (b)"
   ]
  },
  {
   "cell_type": "markdown",
   "id": "dbdcc9fa",
   "metadata": {},
   "source": [
    "## <span style='color:green'>Respostas da Questão 2:</span>\n",
    "* (b) Adicione sua resposta aqui."
   ]
  },
  {
   "cell_type": "markdown",
   "id": "official-offense",
   "metadata": {},
   "source": [
    "### Cálculo do Histogramas\n",
    "\n",
    "O histograma é uma ferramenta estatística, também  conhecida como distribuição de frequências,  que representa graficamente a distribuição dos dados em classes (ou bins). Podemos usar a função **calcHist** da biblioteca do OpenCV para calcular o histograma de uma imagem.\n",
    "\n",
    "**Sintaxe**: `hist = cv.calcHist(images, channels, mask, histSize, ranges, accumulate)`\n",
    "\n",
    "**Descrição**:  calcula o histograma de uma ou mais matrizes. \n",
    "\n",
    "**Parâmetros**:\n",
    "\n",
    "`images` -> matriz de entrada (imagem de entrada)\n",
    "\n",
    "`channels` -> Lista das dimensões dos canais usados para calcular o histograma\n",
    "\n",
    "`mask` -> Máscara opcional. Se a matriz não estiver vazia, deve ser uma matriz de 8 bits com o mesmo tamanho das imagens. Os elementos da máscara não-zero marcam os elementos da matriz contados no histograma. \n",
    "\n",
    "`histSize` -> Histograma de saída, que é uma matriz densa ou esparsa dims -dimensional.\n",
    "\n",
    "`ranges` -> Matriz com as dimensões da caixa de histograma.\n",
    "\n",
    "`accmulate` -> Bandeira de acumulação (Nesse experimento usamos False).\n",
    "\n",
    "Para maiores detalhes: https://docs.opencv.org/master/d6/dc7/group__imgproc__hist.html#ga4b2b5fd75503ff9e6844cc4dcdaed35d\n"
   ]
  },
  {
   "cell_type": "code",
   "execution_count": null,
   "id": "driven-thickness",
   "metadata": {},
   "outputs": [],
   "source": [
    "im = cv.imread('imagens/mandrill.tiff')\n",
    "im = cv.cvtColor(im, cv.COLOR_BGR2RGB)\n",
    "\n",
    "if im is None:\n",
    "    print('Could not open or find the image:', args.input)\n",
    "    exit(0)\n",
    "    \n",
    "im_planes = cv.split(im) \n",
    " \n",
    "histSize = 256\n",
    "\n",
    "histRange = (0, 256) \n",
    "    \n",
    "b_hist = cv.calcHist(im_planes, [0], None, [histSize], histRange, accumulate = False)\n",
    "g_hist = cv.calcHist(im_planes, [1], None, [histSize], histRange, accumulate = False)\n",
    "r_hist = cv.calcHist(im_planes, [2], None, [histSize], histRange, accumulate = False)    \n",
    "\n",
    "[M, N, channels] = im.shape  \n",
    "    \n",
    "r_hist = 100 * r_hist / (M * N)\n",
    "g_hist = 100 * g_hist / (M * N)\n",
    "b_hist = 100 * b_hist / (M * N)\n",
    "\n",
    "fig, axs = plt.subplots(nrows = 1, ncols = 2, figsize = (6, 6))\n",
    "axs[0].imshow(im, vmin = im.min(), vmax = im.max())\n",
    "axs[0].set_title('Imagem Original', size= 15)\n",
    "fig.set_figheight(6)\n",
    "fig.set_figwidth(12)\n",
    "axs[1].plot(r_hist,'r')\n",
    "axs[1].plot(b_hist,'b')\n",
    "axs[1].plot(g_hist,'g')\n",
    "axs[1].set_title('Histograma', size = 15)\n",
    "axs[1].set_xlabel('Intensidades dos Pixels')\n",
    "axs[1].set_ylabel('Frequência')"
   ]
  },
  {
   "cell_type": "markdown",
   "id": "declared-drawing",
   "metadata": {},
   "source": [
    "### Equalização de histogramas\n",
    "\n",
    "Para aprimorar o contraste de uma imagem, uma das técnicas mais comuns é a equalização de seu histograma. Esta equalização reorganiza os valores de intensidade da imagem, produzindo imagens com histogramas mais lineares. Podemos usar a função **equalizeHist** da biblioteca do OpenCV para equalizar a imagem em escala de cinza.\n",
    "\n",
    "**Sintaxe**: `im_out = cv.equalizeHist(im_in)`\n",
    "\n",
    "**Descrição**:  Equaliza a imagem de entrada\n",
    "\n",
    "**Parâmetros** \n",
    "\n",
    "`im_in` -> imagem a ser equalizada com 8 bits com apenas 1 canal  \n",
    "`im_out` -> imagem equalizada do mesmo tipo e tamanho da imagem de entrada\n",
    " "
   ]
  },
  {
   "cell_type": "code",
   "execution_count": null,
   "id": "civil-diameter",
   "metadata": {},
   "outputs": [],
   "source": [
    "im_eq = np.zeros(im.shape, im.dtype)\n",
    "\n",
    "im_eq[:,:,0] = cv.equalizeHist(im[:,:,0])\n",
    "im_eq[:,:,1] = cv.equalizeHist(im[:,:,1])\n",
    "im_eq[:,:,2] = cv.equalizeHist(im[:,:,2])\n",
    "\n",
    "im_yuv_eq = cv.cvtColor(im, cv.COLOR_BGR2YCrCb)\n",
    "\n",
    "im_yuv_eq[:,:,0] = cv.equalizeHist(im_yuv_eq[:,:,0])\n",
    "#im_yuv_eq[:,:,1] = cv.equalizeHist(im_yuv_eq[:,:,1])\n",
    "#im_yuv_eq[:,:,2] = cv.equalizeHist(im_yuv_eq[:,:,2])\n",
    "\n",
    "im_eq = cv.cvtColor(im_eq, cv.COLOR_BGR2RGB)\n",
    "im_yuv_eq = cv.cvtColor(im_yuv_eq, cv.COLOR_YCrCb2RGB)\n",
    "\n",
    "fig, axs = plt.subplots(nrows = 1, ncols = 3, figsize=(30, 30))\n",
    "axs[0].imshow(im, vmin = im.min(), vmax = im.max())\n",
    "axs[0].set_title(\"Imagem original\", size = 40)\n",
    "axs[1].imshow(im_eq, vmin = im.min(), vmax = im.max())\n",
    "axs[1].set_title(\"Imagem RGB equalizada\",size = 40)\n",
    "axs[2].imshow(im_yuv_eq, vmin = im.min(), vmax = im.max())\n",
    "axs[2].set_title(\"Imagem YCrCb equalizada\", size = 40)"
   ]
  },
  {
   "cell_type": "markdown",
   "id": "infrared-investment",
   "metadata": {},
   "source": [
    "## <span style='color:blue'>Questão 3: [Valor da Questão: 2.0][Taxa de acerto: x.x]</span>\n",
    "\n",
    "* (a) Converta a imagem **babuino.jpg** para nível de cinza e equalize essa imagem. Mostre a imagem em nível de cinza e a imagem equalizada e seus respectivo histogramas. Descreva o que ocorreu com a imagem equalizada.\n",
    "\n",
    "* (b) O que acontece se a imagem equalizada for equalizada diversas vezes? Teste e comente os resultados."
   ]
  },
  {
   "cell_type": "code",
   "execution_count": null,
   "id": "local-orientation",
   "metadata": {},
   "outputs": [],
   "source": [
    "# IMPLEMENTE SEU CÓDIGO AQUI -> QUESTÃO 3 - LETRA (a)"
   ]
  },
  {
   "cell_type": "code",
   "execution_count": null,
   "id": "45440b18",
   "metadata": {},
   "outputs": [],
   "source": [
    "# IMPLEMENTE SEU CÓDIGO AQUI -> QUESTÃO 3 - letra (b)"
   ]
  },
  {
   "cell_type": "markdown",
   "id": "7d38241a",
   "metadata": {},
   "source": [
    "## <span style = 'color:green'>Resposta da Questão 3:</span>\n",
    "\n",
    "* (a) Adicione sua resposta aqui.\n",
    "* (b) Adicione sua resposta aqui."
   ]
  },
  {
   "cell_type": "markdown",
   "id": "helpful-camel",
   "metadata": {},
   "source": [
    "### Filtragem espacial \n",
    "A operação de filtragem espacial é realizada pela função **filter2D()** da bibioteca OpenCV, que realiza a operação de convolução de uma imagem com uma máscara (elemento estruturante).\n",
    "\n",
    "**Sintaxe:** `im_out = cv.filter2D(im_in, ddepth, kernel)`\n",
    "\n",
    "**Descrição:** Realiza a operação de filtragem linear entre a imagem de entrada e a máscara\n",
    "\n",
    "**Parametros**:\n",
    "\n",
    "`im_in`\t-> imagem de entrada.\n",
    "\n",
    "`im-out`\t-> imagem de saída de mesmo tamanho e o mesmo número de canais que im_in.\n",
    "\n",
    "`ddepth`\t-> profundidade desejada da imagem de destino.\n",
    "\n",
    "`kernel`\t-> máscara de convolução (ou melhor, um kernel de correlação), uma matriz de ponto flutuante de um único canal; se você quiser aplicar diferentes núcleos a diferentes canais, divida a imagem em planos de cores separados  e processe-os individualmente.\n",
    "\n",
    "\n"
   ]
  },
  {
   "cell_type": "code",
   "execution_count": null,
   "id": "committed-bathroom",
   "metadata": {},
   "outputs": [],
   "source": [
    "im = cv.imread('imagens/lenna.tif')\n",
    "\n",
    "kernel = np.ones((3, 3), np.float32) / 9\n",
    "\n",
    "im_out = cv.filter2D(im, -1, kernel)\n",
    "\n",
    "fig, axs = plt.subplots(nrows = 1, ncols = 2, figsize = (15, 15))\n",
    "axs[0].imshow(im)\n",
    "axs[0].set_title(\"Imagem original\", size = 15)\n",
    "axs[1].imshow(im_out)\n",
    "axs[1].set_title(\"Imagem filtrada com o filtro da média\",size = 15)"
   ]
  },
  {
   "cell_type": "markdown",
   "id": "suburban-energy",
   "metadata": {},
   "source": [
    "### Suavização de imagens\n",
    "\n",
    "Uma das aplicações mais comuns das técnicas de processamento de imagens está nas áreas de remoção de ruídos e aprimoramento da qualidade de uma imagem. Nesta prática abordaremos duas técnicas de remoção de ruído, que equivalem a filtros passa-baixa, que são:\n",
    "* **Filtragem pela média**: nesta técnica, o pixel central de uma janela (normalmente 3 x 3) é substituído pela média dos valores de intensidade de seus 8 vizinhos. Isso pode ser feito plea função `im_out = cv.blur(im_in, size)`.\n",
    "* **Filtragem pela mediana**: nesta técnica, o pixel central de uma janela (normalmente 3 x 3) é substituído pela mediana dos valores de intensidade de seus 8 vizinhos. Isso pode ser feito plea função `im_out = cv.medianBlur(im_in, ksize)`.\n",
    "\n",
    "* **Filtragem Gaussiana**: nesta técnica, o pixel central de uma janela (normalmente 3 x 3) é substituído pelo resultado da convolucão da imagem com uma máscara Gaussiana com determinado desvio padrão. Isso pode ser feito plea função `im_out = cv.GaussianBlur(im_in, size, sigma)`.\n",
    "\n",
    "Para maiores detalhes dessas funções consulte https://docs.opencv.org/4.5.2/index.html"
   ]
  },
  {
   "cell_type": "code",
   "execution_count": null,
   "id": "aging-values",
   "metadata": {},
   "outputs": [],
   "source": [
    "im=cv.imread('imagens/dali.png')\n",
    "\n",
    "nsize = 21\n",
    "size = (nsize,nsize)\n",
    "sigma = 10\n",
    "im_out1 = cv.blur(im, size)\n",
    "im_out2 = cv.medianBlur(im, nsize)\n",
    "im_out3 = cv.GaussianBlur(im, size, sigma)\n",
    "\n",
    "im = cv.cvtColor(im, cv.COLOR_BGR2RGB)\n",
    "im_out1 = cv.cvtColor(im_out1, cv.COLOR_BGR2RGB)\n",
    "im_out2 = cv.cvtColor(im_out2, cv.COLOR_BGR2RGB)\n",
    "im_out3 = cv.cvtColor(im_out3, cv.COLOR_BGR2RGB)\n",
    "\n",
    "fig, axs = plt.subplots(nrows = 2, ncols = 2, figsize = (15, 15))\n",
    "axs[0,0].imshow(im)\n",
    "axs[0,0].set_title(\"Imagem Original\", size = 15)\n",
    "axs[0,1].imshow(im_out1)\n",
    "axs[0,1].set_title(\"Filtro da Média\",size = 15)\n",
    "axs[1,0].imshow(im_out2)\n",
    "axs[1,0].set_title(\"Filtro da Mediana\",size = 15)\n",
    "axs[1,1].imshow(im_out3)\n",
    "axs[1,1].set_title(\"Filtro Gaussiano\",size = 15)"
   ]
  },
  {
   "cell_type": "markdown",
   "id": "4bb5f122",
   "metadata": {},
   "source": [
    "## <span style='color:blue'>Questão 4: [Valor da Questão: 2.0][Taxa de acerto: x.x]</span>\n",
    "\n",
    "* (a) Nesta questão vamos avaliar os filtros da média, da mediana e o gaussiano na filtragem de imagens com ruído sal e pimenta na imagem **boat.512.tiff**. Portanto incialmente aplique o ruido sal e pimenta na imagem, para tanto utilize o seguinte comando `im_noise = sp_noise(im, 0.05)`. A seguir, utilize os filtros da média, da mediana e o gaussiano para filtrar esse ruído, escolhar os seus parâmetros com cuidado, para reduzir o ruído sem comprometer a imagem.\n",
    "* (b) Comente os resultados obtidos e quais filtros obtiveram um melhor resultado na filtragem do ruído."
   ]
  },
  {
   "cell_type": "code",
   "execution_count": null,
   "id": "developed-somerset",
   "metadata": {},
   "outputs": [],
   "source": [
    "# IMPLEMENTE SEU CÓDIGO AQUI -> QUESTÃO 4 - letra (a)"
   ]
  },
  {
   "cell_type": "markdown",
   "id": "6930d864",
   "metadata": {},
   "source": [
    "## <span style = 'color:green'>Resposta da Questão 4:</span>\n",
    "\n",
    "* (b) Adicione sua resposta aqui."
   ]
  },
  {
   "attachments": {
    "image-2.png": {
     "image/png": "[encoded data removed]"
    }
   },
   "cell_type": "markdown",
   "id": "royal-chamber",
   "metadata": {},
   "source": [
    "### Aguçamento de imagens\n",
    "\n",
    "As bordas e outras mudanças abruptas de intensidade em imagens são associadas a componentes de alta frequência, o aguçamento de imagens tem como objetivo tem como objetivo salientar essas saliências nas imagens. Essas regiões podem ser filtros que realizam a diferenciação de uma imagem, realçando as bordas e outras descontinuidades (**como o ruído**) enquanto atenua as áreas com intensidades de variação mais suave. O gradiente de sobel consite na operação de convloução da imagem com  duas máscaras $g_x$ e $g_y$. Após o processo de convolução deve-se calcular o valor absoluto do resultado. \n",
    "![image-2.png](attachment:image-2.png)\n",
    "\n"
   ]
  },
  {
   "cell_type": "code",
   "execution_count": null,
   "id": "imported-arbor",
   "metadata": {},
   "outputs": [],
   "source": [
    "im=cv.imread('imagens/sudoku.png')\n",
    "im1 = im.astype(np.int16)\n",
    "    \n",
    "gx = np.array([[-1, -2, -1], [0, 0, 0], [1, 2, 1]])\n",
    "gy = np.array([[-1, 0, 1], [-2, 0, 2], [-1, 0, 1]])\n",
    "\n",
    "Gx = abs(cv.filter2D(im1, -1, gx))\n",
    "Gy = abs(cv.filter2D(im1, -1, gy))\n",
    "im_out = Gx + Gy\n",
    "\n",
    "Gx = Gx.astype(np.uint8)\n",
    "Gy = Gy.astype(np.uint8)\n",
    "im_out = im_out.astype(np.uint8)\n",
    "\n",
    "# show image\n",
    "fig, axs = plt.subplots(nrows = 2, ncols = 2, figsize = (15,15))\n",
    "axs[0,0].imshow(im)\n",
    "axs[0,0].set_title(\"Imagem original\", size = 15)\n",
    "axs[0,1].imshow(Gx)\n",
    "axs[0,1].set_title(\"Imagem filtrada com o filtro $g_x$\", size = 15)\n",
    "axs[1,0].imshow(Gy)\n",
    "axs[1,0].set_title(\"Imagem filtrada com o filtro $g_x$\", size = 15)\n",
    "axs[1,1].imshow(im_out)\n",
    "axs[1,1].set_title(\"Imagem filtrada com o filtro $|Gx|+|Gy|$\", size = 15)"
   ]
  },
  {
   "cell_type": "markdown",
   "id": "b78d1998",
   "metadata": {},
   "source": [
    "## <span style='color:blue'>Questão 5: [Valor da Questão: 2.5][Taxa de acerto: x.x]</span>"
   ]
  },
  {
   "cell_type": "markdown",
   "id": "terminal-rainbow",
   "metadata": {},
   "source": [
    "* Implemente a filtragem conforme foi descrito na aula e por conviniência mostrado no slide abaixo. E teste sua implementação na imagem **Fig0340(a)(dipxe_text).tif**. Utilize como filtro passa baixa o filtro gaussiano.\n",
    "\n",
    "    * Filtragem de alto reforço\n",
    "        * Máscara de nitidez (*unsharp masking*):  \n",
    "            > $g_{máscara} = f(x,y) - f(x,y)_{passa-baixa}$\n",
    "        * Filtro alto-reforço (*high-boost*): acrescenta uma imagem a saída do filtro passa alta:\n",
    "            > $g(x,y) = f(x,y) + B.g_{máscara}$\n",
    "            * Escolher $B < 1$ atenua a contribuição da máscara;\n",
    "            * O ruído desempenha um papel significativo na aparência visual da imagem filtrada pelo filtro de alto reforço,                   realçando o ruído juntamente com outras transições abruptas;"
   ]
  },
  {
   "cell_type": "code",
   "execution_count": null,
   "id": "a49607cc",
   "metadata": {},
   "outputs": [],
   "source": [
    "# COLOQUE SEU CÓDIGO AQUI --> QUESTÃO 5 "
   ]
  },
  {
   "cell_type": "markdown",
   "id": "99699926",
   "metadata": {},
   "source": [
    "***\n",
    "![image](https://user-images.githubusercontent.com/58775072/135618990-92198239-b4bf-4ce9-aa70-2b3df34e3bde.gif)"
   ]
  }
 ],
 "metadata": {
  "kernelspec": {
   "display_name": "Python 3 (ipykernel)",
   "language": "python",
   "name": "python3"
  },
  "language_info": {
   "codemirror_mode": {
    "name": "ipython",
    "version": 3
   },
   "file_extension": ".py",
   "mimetype": "text/x-python",
   "name": "python",
   "nbconvert_exporter": "python",
   "pygments_lexer": "ipython3",
   "version": "3.8.10"
  }
 },
 "nbformat": 4,
 "nbformat_minor": 5
}
