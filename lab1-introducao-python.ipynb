{
 "cells": [
  {
   "cell_type": "markdown",
   "metadata": {},
   "source": [
    "![banner-pdi](https://user-images.githubusercontent.com/58775072/141189378-b5df3287-e8c0-48a1-ad11-825ba317463b.png)"
   ]
  },
  {
   "cell_type": "markdown",
   "metadata": {},
   "source": [
    "## Universidade Federal de Campina Grande (UFCG)\n",
    "## Centro de Engenharia Elétrica e Informática (CEEI) \n",
    "## Disciplina: Int. ao Processamento de Imagem Digital e Visão Computacional\n",
    "## Professora: Luciana Ribeiro Veloso"
   ]
  },
  {
   "cell_type": "markdown",
   "metadata": {
    "id": "1WRSLjkWEFJy"
   },
   "source": [
    "# <span style=\"color:red\">Laboratório 1: Introdução a Linguagem de Programação Python</span>\n",
    "***\n",
    "Neste laboratório, serão analisadas as estruturas básicas da linguagem de programação Python. É pertinente saber que tal linguagem possui bastante uso atualmente, sendo uma das mais simples de se utilizar. Graças a colaboratividade dos usuários, atualmente há inúmeros pacotes prontos para uso que nos possibilitam executar diversas tarefas complexas. "
   ]
  },
  {
   "cell_type": "markdown",
   "metadata": {
    "id": "ms4H-ZtBEFJ2"
   },
   "source": [
    "`\"Python é uma linguagem de programação de alto nível, interpretada, de script, imperativa, orientada a objetos, funcional, de tipagem dinâmica e forte. Foi lançada por Guido van Rossum em 1991. Atualmente possui um modelo de desenvolvimento comunitário, aberto e gerenciado pela organização sem fins lucrativos Python Software Foundation.\"` [Wikipédia](https://pt.wikipedia.org/wiki/Python)"
   ]
  },
  {
   "cell_type": "markdown",
   "metadata": {
    "id": "yoqWzNwoEFJ2"
   },
   "source": [
    "### Dissecando a Definição"
   ]
  },
  {
   "cell_type": "markdown",
   "metadata": {
    "id": "Z0vchhTVEFJ4"
   },
   "source": [
    "`Características da Linguagem de Programação Python`  \n",
    "\n",
    "- **Linguagem de Progamação de Alto Nível:** Python é uma linguagem que sua escrita é bem próxima da linguagem humana. Dessa forma, podemos nos comunicar com a máquina através de um forte e intuitivo interpretador.  \n",
    "***\n",
    "- **Linguagem Interpretada:** o código fonte nessa linguagem é executado por um programa de computador chamado interpretador, que em seguida é executado pelo sistema operacional ou processador. Método esse que difere das linguagens que são compiladas para a linguagem de máquina, tais como a linguagem de progamação C e C++.\n",
    "***\n",
    "- **Linguagem de Script:** é básicamente o ato de desenvolver um algoritmo para automatizar a execução de tarefas que poderiam alternativamente ser executadas uma por vez por um operador humano.\n",
    "***\n",
    "- **Linguagem Imperativa:** Trata do ato de usar ações para dar ordens, ou seja, através de comandos podemos dar ordens para serem executadas determinadas ações pelo programa. Desse modo, surgem os laços de repetição, estruturas condicionais, atribuição de valor à variáveis e controle de estado.\n",
    "***\n",
    "- **Linguagem Orientada a Objetos:** Trata da ideia de se ter uma linguagem de programação voltada ao conceito de \"objetos\", usando para isso atributos e métodos.\n",
    "***\n",
    "- **Linguagem Funcional:** Trata da ideia de possuir uma linguagem com avaliação de funções para executar determinadas ações. Especificamente o Python, possui inúmeras bibliotecas repletas de funções para serem importadas e usadas, dando ênfase a inúmeros campos de estudo na qual a programação se aplica.\n",
    "***\n",
    "- **Linguagem de Tipagem Dinâmica:** sendo uma caracteristica positiva para o Python, esse tipo de tipagem permite o uso de variáveis que não exigem declarações de tipos de dados, pois são capazes de escolher que tipo utilizar dinamicamente para cada variável, podendo alterá-lo durante a compilação ou a execução do programa.\n",
    "***\n",
    "- **Linguagem forte:** Python é uma linguagem de programação multi-plataforma, e atualmente está presente em diversos sistemas operacionais, sejam eles embarcados ou não. "
   ]
  },
  {
   "cell_type": "markdown",
   "metadata": {
    "id": "Yn45w05dEFJ6"
   },
   "source": [
    "Agora que alguns conceitos foram definidos, está na hora de colocar a mão na massa. É interessante ressaltar que este conteúdo está sendo escrito levando em consideração que o leitor já foi introduzido a programação e, dado a amplitude de recursos que o Python possui, vamos nos ater somente a comandos básicos que permitem um bom início com ela, visando trazer todo o conhecimento necessário para lidar com os outros programas utilizados ao longo da disciplina."
   ]
  },
  {
   "cell_type": "markdown",
   "metadata": {
    "id": "HrXBq0MfEFJ6"
   },
   "source": [
    "### Imprimindo Dados de Saída (Outputs)"
   ]
  },
  {
   "cell_type": "markdown",
   "metadata": {
    "id": "LOjj2tT2EFJ7"
   },
   "source": [
    "Podemos utilizar diretamente o **prompt de comando** do Python para imprimir dados de saída simples como"
   ]
  },
  {
   "cell_type": "code",
   "execution_count": null,
   "metadata": {
    "colab": {
     "base_uri": "https://localhost:8080/"
    },
    "id": "eeDSSuwnEFJ7",
    "outputId": "50f37392-629e-4533-ee01-e7cf7b0f7102"
   },
   "outputs": [],
   "source": [
    "3 + 4"
   ]
  },
  {
   "cell_type": "markdown",
   "metadata": {
    "id": "S0V4ir_QEFJ-"
   },
   "source": [
    "ou até"
   ]
  },
  {
   "cell_type": "code",
   "execution_count": null,
   "metadata": {
    "colab": {
     "base_uri": "https://localhost:8080/",
     "height": 35
    },
    "id": "Lrh6aY9wEFJ_",
    "outputId": "f264ef57-764f-45fb-f4a0-b7309e7d231d"
   },
   "outputs": [],
   "source": [
    "\"Processamento\" + \" de Imagens\""
   ]
  },
  {
   "cell_type": "markdown",
   "metadata": {
    "id": "7kGS7g-qEFKC"
   },
   "source": [
    "Entretanto, esse tipo de impressão dos dados de saída na tela é demasiadamente utilizado em operações simples, sendo de maior uso para testar recursos triviais que podem ser implementados em funções maiores."
   ]
  },
  {
   "cell_type": "markdown",
   "metadata": {
    "id": "E8N2jjP9EFKD"
   },
   "source": [
    "Quando lidamos com programas mais bem estruturados, devemos utilizar o comando `print()`."
   ]
  },
  {
   "cell_type": "code",
   "execution_count": null,
   "metadata": {
    "colab": {
     "base_uri": "https://localhost:8080/"
    },
    "id": "hF_561CnEFKE",
    "outputId": "6156f1fe-65be-4991-aa53-a78a95551dd7"
   },
   "outputs": [],
   "source": [
    "print(3 + 4)\n",
    "print(\"Processamento\" + \" de Imagens\")"
   ]
  },
  {
   "cell_type": "markdown",
   "metadata": {
    "id": "i8uTwumbEFKF"
   },
   "source": [
    "### Tipagem Dinâmica: Tipos de Dados em Variáveis"
   ]
  },
  {
   "cell_type": "markdown",
   "metadata": {
    "id": "NjTqEthEEFKF"
   },
   "source": [
    "Como foi explanado anteriormente, no Python, não há mais a necessidade de se inicializar variáveis, pois usamos um recurso chamado `Tipagem Dinâmica`, esse que permite o uso de variáveis que não exigem declarações de `Tipos de Dados`, pois a linguagem é capaz de escolher que tipo utilizar dinamicamente para cada variável, podendo ter seu valor e tipo alterados na memória a qualquer momento."
   ]
  },
  {
   "cell_type": "markdown",
   "metadata": {
    "id": "7gFENT65EFKG"
   },
   "source": [
    "|**Tipos de Dados Básicos**|**Comandos**|\n",
    "|:--------------------------|:------------|\n",
    "|Números|int, float e complex|\n",
    "|Strings|str|\n",
    "|Lista e Tuplas|list, tuple|\n",
    "|Dicionários|dict|\n",
    "|Arquívos|file|\n",
    "|Booleanos|bool(True, False)|\n",
    "|Conjuntos|set, frozenset|"
   ]
  },
  {
   "cell_type": "markdown",
   "metadata": {
    "id": "ZItiJwRpEFKG"
   },
   "source": [
    "### Dados númericos"
   ]
  },
  {
   "cell_type": "code",
   "execution_count": null,
   "metadata": {
    "colab": {
     "base_uri": "https://localhost:8080/"
    },
    "id": "J3foHe_sEFKG",
    "outputId": "3bd08523-ad3b-467e-cafc-527d2e4f1ac7"
   },
   "outputs": [],
   "source": [
    "int_ = 1\n",
    "float_ = 1.5\n",
    "complex_ = 5 + 4j \n",
    "\n",
    "print('inteiro:', int_, 'type:', type(int_))\n",
    "print('número real: {:.2f} type: {}'.format(float_, type(float_)))\n",
    "print('número complexo: ' + str(complex_) + ' type: ' + str(type(complex_))) "
   ]
  },
  {
   "cell_type": "markdown",
   "metadata": {
    "id": "JvbUnx9FEFKH"
   },
   "source": [
    "Além disso, a definição de tipagem dinâmica garante que é possível alterar o tipo de dado de uma variável a qualquer momento do programa, então podemos ter o seguinte processo:"
   ]
  },
  {
   "cell_type": "code",
   "execution_count": null,
   "metadata": {
    "colab": {
     "base_uri": "https://localhost:8080/"
    },
    "id": "QcHetFwfEFKH",
    "outputId": "42fa943c-17b5-46cb-a825-a56d354ce2a5"
   },
   "outputs": [],
   "source": [
    "int_ = 1.234567765432 + 4.4567876543j\n",
    "\n",
    "print('é inteiro?', int_ == int)\n",
    "print('\\tnúmero complexo:', int_, 'type:', type(int_))\n",
    "\n",
    "int_ = 'a' + \" vida\" + \"\"\" é\"\"\" + ''' bela''' # observe as diferentes formas de se utilizar as aspas\n",
    "\n",
    "print('\\nainda é complexo?', int_ == int)\n",
    "print('\\tstring:', int_, 'type:', type(int_)) # semelhante ao C, caracteres especiais como \\n e \\t também são úteis"
   ]
  },
  {
   "cell_type": "markdown",
   "metadata": {
    "id": "FtQLi-TXEFKI"
   },
   "source": [
    "Logo, a tipagem dinâmica nos permite mais versatilidade na criação dos nossos progamas. De modo que não há necessida de se manter preso ao cuidado de não alterar o tipo de dado de uma variável. Todavia, o mesmo recurso que pode ser de grande ajuda também pode permitir erros lógicos, sendo necessário ter bastante cuidado."
   ]
  },
  {
   "cell_type": "markdown",
   "metadata": {
    "id": "LAKdXj43EFKI"
   },
   "source": [
    "## Cadeias de caracteres (strings)"
   ]
  },
  {
   "cell_type": "markdown",
   "metadata": {
    "id": "pjqnQPvBEFKJ"
   },
   "source": [
    "Usar strings no python não tem muito mistério, a concatenção entre duas strings podem ser feitas através do operador de adição `+`, e qualquer outro tipo de dado numérico pode ser facilmente convertido em strings usando `str()`. Veja abaixo algumas implementações. "
   ]
  },
  {
   "cell_type": "code",
   "execution_count": null,
   "metadata": {
    "colab": {
     "base_uri": "https://localhost:8080/"
    },
    "id": "mRGbpioeEFKJ",
    "outputId": "8a2fb72e-fba1-4ef9-c515-c40d3338e8d0"
   },
   "outputs": [],
   "source": [
    "mandamentos_python = \"\"\"The Zen of Python, by Tim Peters\n",
    "\n",
    "                        Beautiful is better than ugly.\n",
    "                        Explicit is better than implicit.\n",
    "                        Simple is better than complex.\n",
    "                        Complex is better than complicated.\n",
    "                        Flat is better than nested.\n",
    "                        Sparse is better than dense.\n",
    "                        Readability counts.\n",
    "                        Special cases aren't special enough to break the rules.\n",
    "                        Although practicality beats purity.\n",
    "                        Errors should never pass silently.\n",
    "                        Unless explicitly silenced.\n",
    "                        In the face of ambiguity, refuse the temptation to guess.\n",
    "                        There should be one-- and preferably only one --obvious way to do it.\n",
    "                        Although that way may not be obvious at first unless you're Dutch.\n",
    "                        Now is better than never.\n",
    "                        Although never is often better than *right* now.\n",
    "                        If the implementation is hard to explain, it's a bad idea.\n",
    "                        If the implementation is easy to explain, it may be a good idea.\n",
    "                        Namespaces are one honking great idea -- let's do more of those!\"\"\"\n",
    "\n",
    "print(mandamentos_python) # digite 'import this' no interpretador do python e veja o que acontece!"
   ]
  },
  {
   "cell_type": "code",
   "execution_count": null,
   "metadata": {
    "colab": {
     "base_uri": "https://localhost:8080/"
    },
    "id": "yWMeGtDiEFKL",
    "outputId": "3e4b7150-41b4-4647-ff50-baece87736b0"
   },
   "outputs": [],
   "source": [
    "str_ = 'Two could be'\n",
    "str_ += ' complete without'\n",
    "str_ = str_.__add__(' the rest of the world') \n",
    "# acabei de usar um dos 'métodos mágicos' do python, busque mais a respeito sobre eles!\n",
    "\n",
    "print(str_)"
   ]
  },
  {
   "cell_type": "markdown",
   "metadata": {
    "id": "z6KqRWuNEFKM"
   },
   "source": [
    "### Listas e Tuplas, qual a principal diferença entre elas?"
   ]
  },
  {
   "cell_type": "markdown",
   "metadata": {
    "id": "wqENcV68EFKN"
   },
   "source": [
    "Uma confusão muito comum quando se usa uma **Lista** ou uma **Tupla** em Python é saber diferenciar cada uma delas. Do ponto de vista conceitual devemos utilizar `tuplas para dados fixos` enquanto a `lista deveria ser usada para dados mutáveis`, ou seja, todos seus elementos deveriam ser do mesmo tipo. Veja que a lista contém diferentes tipos de dados armazenados em uma única variável."
   ]
  },
  {
   "cell_type": "code",
   "execution_count": null,
   "metadata": {
    "colab": {
     "base_uri": "https://localhost:8080/"
    },
    "id": "uwpXmMY7EFKN",
    "outputId": "9ff163de-af21-4195-c961-2e692b3b37a1"
   },
   "outputs": [],
   "source": [
    "list_ = ['café', 'mais café', 'café com leite', 'cappuccino']\n",
    "\n",
    "print('alimentação básica do estudante: ', list_)"
   ]
  },
  {
   "cell_type": "code",
   "execution_count": null,
   "metadata": {
    "colab": {
     "base_uri": "https://localhost:8080/"
    },
    "id": "XM2KuisFEFKN",
    "outputId": "b654875b-615f-4858-c5df-04d616bbd0fb"
   },
   "outputs": [],
   "source": [
    "variedades = ['computadores', 12, 12.0, 4 + 5j, ['tablets', 'celulares'], list_]\n",
    "\n",
    "print(variedades)"
   ]
  },
  {
   "cell_type": "code",
   "execution_count": null,
   "metadata": {
    "colab": {
     "base_uri": "https://localhost:8080/"
    },
    "id": "in432L5CEFKO",
    "outputId": "7edd9756-1d16-41aa-988f-8550f18083c9"
   },
   "outputs": [],
   "source": [
    "list_.append('água') \n",
    "\n",
    "print(list_)\n",
    "\n",
    "del list_[3] # delentando o elemento no índice 3 do array\n",
    "\n",
    "print(list_)"
   ]
  },
  {
   "cell_type": "markdown",
   "metadata": {
    "id": "MtXu-83oEFKO"
   },
   "source": [
    "Veja acima que foi definido uma lista com diferentes tipos de dados. Além disso, podemos acessar cada elemento individual das listas, tuplas ou arrays sabendo que os elementos são númerados no intervalo de `(0, n-1) n = len(list)`, dado que o último elemento é o número de parada."
   ]
  },
  {
   "cell_type": "code",
   "execution_count": null,
   "metadata": {
    "colab": {
     "base_uri": "https://localhost:8080/"
    },
    "id": "hh4soHWJEFKP",
    "outputId": "2812c6b0-5012-4373-a0c9-f04992d3a881"
   },
   "outputs": [],
   "source": [
    "tuple_ = (1, 12.0, 3 + 4j, list_)\n",
    "\n",
    "print(tuple_, '\\n', type(tuple_))"
   ]
  },
  {
   "cell_type": "code",
   "execution_count": null,
   "metadata": {
    "colab": {
     "base_uri": "https://localhost:8080/",
     "height": 164
    },
    "id": "Sd6teLkwEFKQ",
    "outputId": "b6143cb9-c972-45eb-fc77-fc3e5fc37867"
   },
   "outputs": [],
   "source": [
    "try:\n",
    "    del tuple_[0]\n",
    "except:\n",
    "    print('Um erro ocorreu!')"
   ]
  },
  {
   "cell_type": "code",
   "execution_count": null,
   "metadata": {
    "colab": {
     "base_uri": "https://localhost:8080/",
     "height": 164
    },
    "id": "pU2bWU_aEFKQ",
    "outputId": "59cd80d7-a0c8-4d74-c596-dc9ef1c318b8"
   },
   "outputs": [],
   "source": [
    "try:\n",
    "    tuple_.append(7)\n",
    "except:\n",
    "    print('Um erro ocorreu!')"
   ]
  },
  {
   "cell_type": "markdown",
   "metadata": {
    "id": "kMRjgNGkEFKR"
   },
   "source": [
    "Veja que não é possível adicionar ou remover nenhum elemento da tupla. Portanto, essas são as principais diferenças entre listas e tuplas no Python. Ou seja, em relação a mutabilidade a lista é plástica e a tupla é rígida."
   ]
  },
  {
   "cell_type": "markdown",
   "metadata": {
    "id": "fQSqPIHpEFKR"
   },
   "source": [
    "### Dicionários"
   ]
  },
  {
   "cell_type": "markdown",
   "metadata": {
    "id": "5q86ACrNEFKR"
   },
   "source": [
    "Dicionários são um tipo de dado muito interessante. Sabendo utilizá-los bem, é possível montar toda uma aplicação em que o salvamento de arquivos pode ser totalmente baseados em estruturas de dicionário! a sua estrutura obedece a seguinte sintaxe: `{'chave': elementos}`. Outra importância dos dicionários é a compactação de informações em um so elemento, veja o exemplo abaixo."
   ]
  },
  {
   "cell_type": "code",
   "execution_count": null,
   "metadata": {
    "colab": {
     "base_uri": "https://localhost:8080/"
    },
    "id": "-efIDqhvEFKS",
    "outputId": "e9e8aa1b-81b2-4023-f5ea-dfef737d8ca2"
   },
   "outputs": [],
   "source": [
    "# === Montando uma mala ===\n",
    "pessoal = ['sabonete', 'shampoo', 'condicionador', 'escova de dentes']\n",
    "livros = ['flores para algernon', 'fahrenheit 451', 'State of art in Deep Learning']\n",
    "roupas = ['camisas', 'calças', 'meias', 'sapato']\n",
    "local = 'Natal - Rio Grande do Norte'\n",
    "pessoas = 5\n",
    "mala = {'itens pessoais': pessoal, \n",
    "        'livros': livros,\n",
    "        'tipos de roupas': roupas,\n",
    "        'local da viagem': local,\n",
    "        'total de pessoas': pessoas}\n",
    "\n",
    "mala['não esquecer'] = ['passaporte', 'casaco', 'colocar comida dos doguinhos']\n",
    "\n",
    "print(mala)"
   ]
  },
  {
   "cell_type": "code",
   "execution_count": null,
   "metadata": {
    "colab": {
     "base_uri": "https://localhost:8080/"
    },
    "id": "GGBLJIV2EFKS",
    "outputId": "d3207785-5eca-42ca-d214-72e736cd9825"
   },
   "outputs": [],
   "source": [
    "for chaves in mala.keys():\n",
    "    print(chaves, mala[chaves])"
   ]
  },
  {
   "cell_type": "markdown",
   "metadata": {
    "id": "Kdm7zWZUEFKT"
   },
   "source": [
    "### Operadores Aritméticos"
   ]
  },
  {
   "cell_type": "markdown",
   "metadata": {
    "id": "RtXEjUhYEFKT"
   },
   "source": [
    "|**Operadores Aritméticos**|**Comando**|\n",
    "|--------------------------|-----------|\n",
    "|Soma                      |+          |\n",
    "|Subtração                 |-          |\n",
    "|Multiplicação             |*          |\n",
    "|Divisão                   |/          |\n",
    "|Exponenciação             |**         |"
   ]
  },
  {
   "cell_type": "markdown",
   "metadata": {
    "id": "f5Kto740EFKT"
   },
   "source": [
    "Como já dizia **Bill Gates**, progamar não é nada mais e nada menos do que somar, subtrair, multiplicar e dividir. De fato, a partir desses princípios matemáticos básicos podemos desenvolver qualquer operação complexa sob tutela da manipulações aritméticas. Então, vamos mostrar exemplos de uso para cada operador individualmente. Antes de fazermos isso, é importante saber a ordem pela qual as operações são realizadas, visando contornar erros lógicos em seus progamas."
   ]
  },
  {
   "cell_type": "markdown",
   "metadata": {
    "id": "GnQyz0tuEFKT"
   },
   "source": [
    "|**Ordem de Precedência dos Operadores Aritméticos**|\n",
    "|---------------------------------------------------|\n",
    "|1 - Parentêses                                     |\n",
    "|2 - Exponenciação                                  |\n",
    "|3 - Multiplicação e Divisão                        |\n",
    "|4 - Soma e Subtração                               |"
   ]
  },
  {
   "cell_type": "markdown",
   "metadata": {
    "id": "agM3MwtBEFKU"
   },
   "source": [
    "Os operadores com a mesma precedência são avaliados da esquerda para a direita. Quando essa ordem não for tão clara assim, opte por usar parênteses para forçar as ordens das operações, seja por motivos de esquecimentos ou motivos propositais."
   ]
  },
  {
   "cell_type": "code",
   "execution_count": null,
   "metadata": {
    "colab": {
     "base_uri": "https://localhost:8080/"
    },
    "id": "4qLELBfqEFKU",
    "outputId": "d6b3e581-c0f0-4da6-d59d-65b2696901ed"
   },
   "outputs": [],
   "source": [
    "2 ** (((3 + 7) - (-10 + 15) * 2) / 5 ) "
   ]
  },
  {
   "cell_type": "markdown",
   "metadata": {
    "id": "mS15SdmtEFKV"
   },
   "source": [
    "### Funções da biblioteca Python"
   ]
  },
  {
   "cell_type": "markdown",
   "metadata": {
    "id": "665ABUP2EFKV"
   },
   "source": [
    "A própia linguagem de progamação Python oferece inúmeras **funções** para implentar em nossos progamas. Não nos cabe listar todas elas aqui, pois ao longo dos progamas desenvolvidos no nosso repositório elas vão sendo usados e bem comentadas, permitindo que o seu aprendizado seja mais aprofundado nos recursos da linguagem. Vale salientar que podemos utilizar a função **\"dir\"** para saber quais funções estão disponíveis para um tipo de variável. Veja abaixo como utilizar esse recurso."
   ]
  },
  {
   "cell_type": "code",
   "execution_count": null,
   "metadata": {
    "colab": {
     "base_uri": "https://localhost:8080/"
    },
    "id": "AwCy8wbnEFKW",
    "outputId": "7f4c479a-64ba-4ee1-8d70-33f259f64774"
   },
   "outputs": [],
   "source": [
    "dir(list_)"
   ]
  },
  {
   "cell_type": "markdown",
   "metadata": {
    "id": "mNhhafpfEFKW"
   },
   "source": [
    "Assim, de acordo com a necessidade de implementação de recursos em um progama, podemos usar a função **\"dir\"** para conseguir olhar todos os **atributos/propiedades** e **funções/métodos disponíveis** para uma determinada variável."
   ]
  },
  {
   "cell_type": "markdown",
   "metadata": {
    "id": "_dx5cVW3EFKW"
   },
   "source": [
    "### Recebendo Dados de Entrada"
   ]
  },
  {
   "cell_type": "markdown",
   "metadata": {
    "id": "ar4-3K9TEFKX"
   },
   "source": [
    "Vamos usar a função **\"input\"** para receber um dado de entrada e adicinar esses dados em variáveis."
   ]
  },
  {
   "cell_type": "code",
   "execution_count": null,
   "metadata": {
    "colab": {
     "base_uri": "https://localhost:8080/"
    },
    "id": "JDp4LW5BEFKX",
    "outputId": "bc9a99eb-7afc-4f84-8a6c-6bff0a9ae3b0"
   },
   "outputs": [],
   "source": [
    "entrada = input(\"Insira Algo: \") \n",
    "\n",
    "print(entrada)"
   ]
  },
  {
   "cell_type": "code",
   "execution_count": null,
   "metadata": {
    "colab": {
     "base_uri": "https://localhost:8080/",
     "height": 215
    },
    "id": "70r64y2TEFKX",
    "outputId": "81fa61d3-6f6d-4d03-fd58-2eaa5db9d382"
   },
   "outputs": [],
   "source": [
    "numero = input('Insira um número: ')\n",
    "\n",
    "try:\n",
    "    print(numero + 4) \n",
    "except:\n",
    "    print('Um erro ocorreu!')"
   ]
  },
  {
   "cell_type": "markdown",
   "metadata": {
    "id": "Ezf_FIWQEFKZ"
   },
   "source": [
    "Observe que foi digitado um número inteiro, mas foi armazenado como uma string. Isso ocorre porque a função `input` não funciona com tipagem dinâmica. Caso seja necessário receber algum tipo de dado do usuário, devemos ter em mente qual tipo de dado será solicitado e inicializá-lo."
   ]
  },
  {
   "cell_type": "code",
   "execution_count": null,
   "metadata": {
    "colab": {
     "base_uri": "https://localhost:8080/"
    },
    "id": "4PlT3H-4EFKZ",
    "outputId": "7d9ec4a8-7a8a-4367-efb0-f87eb55d52d3"
   },
   "outputs": [],
   "source": [
    "numero1 = int(input('Insira um número: '))\n",
    "numero2 = input('Insira um outro número: ')\n",
    "\n",
    "print(numero1 + int(numero2)) "
   ]
  },
  {
   "cell_type": "markdown",
   "metadata": {
    "id": "HQTrMSfHEFKZ"
   },
   "source": [
    "### Fatiamento"
   ]
  },
  {
   "cell_type": "markdown",
   "metadata": {
    "id": "uSpm_mz7EFKa"
   },
   "source": [
    "O **fatiamento** pode ser utilizado principalmente em **strings** (que são cadeias de caracteres), **listas**, **tuplas** e **arrays** (esse que será estudado com maior profundidade em outro progama). Basicamente, trata-se do ato de pegar uma parte do todo de qualquer um desses elementos citados acima. Para fazer isso, vamos utilizar os exemplos já criados."
   ]
  },
  {
   "cell_type": "code",
   "execution_count": null,
   "metadata": {
    "colab": {
     "base_uri": "https://localhost:8080/"
    },
    "id": "te6JLHgqEFKa",
    "outputId": "4516d817-c88f-4715-e219-56b189537ddf"
   },
   "outputs": [],
   "source": [
    "print(str_)\n",
    "print(str_[13: 14 + len('complete without the rest of the world')])"
   ]
  },
  {
   "cell_type": "code",
   "execution_count": null,
   "metadata": {
    "colab": {
     "base_uri": "https://localhost:8080/"
    },
    "id": "iI2R3HEoEFKb",
    "outputId": "a6eb1a31-a10b-4504-cec5-ded405bd3031"
   },
   "outputs": [],
   "source": [
    "history = list()\n",
    "\n",
    "for index in range(0, 10000):\n",
    "    history.append(index)\n",
    "    \n",
    "print(history[:10])\n",
    "print(history[-10: -1])\n",
    "print(len(history))"
   ]
  },
  {
   "cell_type": "markdown",
   "metadata": {
    "id": "kvdgIw08EFKb"
   },
   "source": [
    "### Operadores Lógicos"
   ]
  },
  {
   "cell_type": "markdown",
   "metadata": {
    "id": "xxEZTzQeEFKb"
   },
   "source": [
    "|**Operadores Lógicos**|**Comandos**|\n",
    "|----------------------|------------|\n",
    "|Igual                 |==          |\n",
    "|Diferente             |!=          |\n",
    "|Menor                 |<           |\n",
    "|Maior                 |>           |\n",
    "|Menor igual           |<=          |\n",
    "|Maior Igual           |>=          |\n",
    "|Booleanos             |True, False |\n",
    "|Conectivos            |and, or     |"
   ]
  },
  {
   "cell_type": "markdown",
   "metadata": {
    "id": "pGP4aQrZEFKc"
   },
   "source": [
    "Os **operadores lógicos** são usados para representar situações lógicas responsáveis por ajudar na tomada de decisões pela máquina e escolhas de opções definidas. Também são chamados conectivos lógicos por unirem duas expressões simples numa composta. Dessa forma, podemos ter ótimas ferramentas computacionais para realizar os nossos algoritmos."
   ]
  },
  {
   "cell_type": "code",
   "execution_count": null,
   "metadata": {
    "colab": {
     "base_uri": "https://localhost:8080/"
    },
    "id": "DPuwSuVTEFKc",
    "outputId": "3a942281-6308-47ba-bcb7-ba055909737b"
   },
   "outputs": [],
   "source": [
    "# analisando o operador lógico de igualdade\n",
    "7 == 8"
   ]
  },
  {
   "cell_type": "code",
   "execution_count": null,
   "metadata": {
    "colab": {
     "base_uri": "https://localhost:8080/"
    },
    "id": "XPGAY-t8EFKd",
    "outputId": "576a424f-b402-47d6-aa1a-edee70b2f1f0"
   },
   "outputs": [],
   "source": [
    "# analisando o operador lógico de igualdade\n",
    "7 == 7"
   ]
  },
  {
   "cell_type": "code",
   "execution_count": null,
   "metadata": {
    "colab": {
     "base_uri": "https://localhost:8080/"
    },
    "id": "gxYIaw3-EFKd",
    "outputId": "4e801e67-3c2e-4360-f261-03b1352612bb"
   },
   "outputs": [],
   "source": [
    "# analisando o operador lógico de diferença\n",
    "7 != 8"
   ]
  },
  {
   "cell_type": "code",
   "execution_count": null,
   "metadata": {
    "colab": {
     "base_uri": "https://localhost:8080/"
    },
    "id": "xOjDwKT6EFKd",
    "outputId": "9ef5084f-56d5-4d5e-ef26-abc9a27f3e3e"
   },
   "outputs": [],
   "source": [
    "# analisando o operador lógico de diferença\n",
    "7 != 7"
   ]
  },
  {
   "cell_type": "code",
   "execution_count": null,
   "metadata": {
    "colab": {
     "base_uri": "https://localhost:8080/"
    },
    "id": "4Ch-x7t_EFKe",
    "outputId": "3548c8ee-374b-4802-887c-fed8a0ec3eb0"
   },
   "outputs": [],
   "source": [
    "# analisando o operador lógico de menor\n",
    "8 < 4"
   ]
  },
  {
   "cell_type": "code",
   "execution_count": null,
   "metadata": {
    "colab": {
     "base_uri": "https://localhost:8080/"
    },
    "id": "AcBq_gFbEFKe",
    "outputId": "4a4047e4-bf6a-4c3c-fd02-ebf5e6e55527"
   },
   "outputs": [],
   "source": [
    "# analisando o operador lógico de menor ou igual\n",
    "5 <= 5"
   ]
  },
  {
   "cell_type": "code",
   "execution_count": null,
   "metadata": {
    "colab": {
     "base_uri": "https://localhost:8080/"
    },
    "id": "zyMRQChHEFKf",
    "outputId": "be514890-79f6-455e-8289-a58d8e377140"
   },
   "outputs": [],
   "source": [
    "# analisando o operador lógico de maior\n",
    "8 > 4"
   ]
  },
  {
   "cell_type": "code",
   "execution_count": null,
   "metadata": {
    "colab": {
     "base_uri": "https://localhost:8080/"
    },
    "id": "DZTKaKKsEFKf",
    "outputId": "ec63c4ec-e1e2-4223-cad5-ad2e072370ab"
   },
   "outputs": [],
   "source": [
    "# analisando o operador lógico de maior ou igual\n",
    "5 >= 5"
   ]
  },
  {
   "cell_type": "code",
   "execution_count": null,
   "metadata": {
    "colab": {
     "base_uri": "https://localhost:8080/"
    },
    "id": "EM8AcCK2EFKf",
    "outputId": "e3dee24b-606f-4b01-c127-76f23e7b9f73"
   },
   "outputs": [],
   "source": [
    "# analisando o concectivo and (e)\n",
    "(7 == 8 and 5 != 7)"
   ]
  },
  {
   "cell_type": "code",
   "execution_count": null,
   "metadata": {
    "colab": {
     "base_uri": "https://localhost:8080/"
    },
    "id": "Rss702LPEFKg",
    "outputId": "de178e2a-61ba-4b98-c211-70ff259f68c6"
   },
   "outputs": [],
   "source": [
    "# analisando o conectivo or (ou)\n",
    "(7 == 8 or 5 != 7)"
   ]
  },
  {
   "cell_type": "markdown",
   "metadata": {
    "id": "XxMuTPIuEFKg"
   },
   "source": [
    "### Estrutura de Decisão"
   ]
  },
  {
   "cell_type": "markdown",
   "metadata": {
    "id": "OjD6P8KDEFKh"
   },
   "source": [
    "Vamos agora ver estruturas responsáveis por tomadas de decisões, como **\"if\"**, **\"elif\"** e **\"else\"**. Basicamente podemos entender esses comandos, respectivamente, da seguinte forma: se, se não se e caso contrário."
   ]
  },
  {
   "cell_type": "markdown",
   "metadata": {
    "id": "VgQNt7BLEFKh"
   },
   "source": [
    "Veja isso em um exemplo abaixo:"
   ]
  },
  {
   "cell_type": "code",
   "execution_count": null,
   "metadata": {
    "colab": {
     "base_uri": "https://localhost:8080/"
    },
    "id": "mmLrD8-MEFKi",
    "outputId": "7e509179-c7c6-4744-a828-176364519a26"
   },
   "outputs": [],
   "source": [
    "numero1 = int(input(\"Insira um primeiro número inteiro: \"))\n",
    "numero2 = int(input(\"Insira um segundo número inteiro: \"))\n",
    "\n",
    "print(\"\\nnúmero 01 = {} e número 02 = {}\\n\".format(numero1, numero2))\n",
    "\n",
    "if(numero1 > numero2):\n",
    "    print(\"{} é maior a {}\".format(numero1, numero2))\n",
    "elif(numero1 == numero2):\n",
    "    print(\"{} é igual a {}\".format(numero1, numero2))\n",
    "else:\n",
    "    print(\"{} é menor a {}\".format(numero1, numero2))"
   ]
  },
  {
   "cell_type": "markdown",
   "metadata": {
    "id": "1FZoCXvBEFKi"
   },
   "source": [
    "Nesse exemplo, observe que os comandos `if`, `elif` e `else` devem estar acompanhados por `dois pontos` para indicar o momento pelo qual o conteúdo para cada decisão deve ser implementado. Além disso, observe o `recuo` entre as linhas de código, esse que muito além de estilístico, é usado para indicar `subcomandos de comandos superiores`, sendo obrigatório o seu uso. Além disso, o comando `\\n\"` é um caractere especial que indica ao progama uma quebra de linha."
   ]
  },
  {
   "cell_type": "markdown",
   "metadata": {
    "id": "ELHWqOgVEFKi"
   },
   "source": [
    "### Estrutura de Repetição: for"
   ]
  },
  {
   "cell_type": "markdown",
   "metadata": {
    "id": "_W06pRCsEFKj"
   },
   "source": [
    "A estrutura de repetição `for` é utilizada quando se deseja repetir determinados passos programados em um número determinando de vezes previamente conhecidos. E para esse fim, geralmente, mas não necessariamente, deve-se utilizar o comando auxiliar `range`, esse que recebe dois comandos de entrada: o número inicial da contagem e o número pela qual deve-se parar. Veja abaixo um exemplo simples de como deve-se usar a estrutura de repetição `for`."
   ]
  },
  {
   "cell_type": "code",
   "execution_count": null,
   "metadata": {
    "colab": {
     "base_uri": "https://localhost:8080/"
    },
    "id": "TV4TJ3d0EFKj",
    "outputId": "627d65c7-b5b2-44f4-f95d-8185986f112f"
   },
   "outputs": [],
   "source": [
    "for indice in range(0,11):\n",
    "    print(indice)"
   ]
  },
  {
   "cell_type": "code",
   "execution_count": null,
   "metadata": {
    "colab": {
     "base_uri": "https://localhost:8080/"
    },
    "id": "IW0pkx86EFKj",
    "outputId": "44732418-ceb7-4f84-9caa-bb8abd6deec7"
   },
   "outputs": [],
   "source": [
    "frase = [\"Você\", \"construiu\", \"uma\", \"máquina\", \"do\", \"tempo\", \"com\", \"um\", \"Delorean?\"]\n",
    "\n",
    "for itens in frase:\n",
    "    print(itens, end = \" \")\n",
    "    "
   ]
  },
  {
   "cell_type": "markdown",
   "metadata": {
    "id": "5NDbW5AqEFKj"
   },
   "source": [
    "### Estrutura de repetição: While"
   ]
  },
  {
   "cell_type": "markdown",
   "metadata": {
    "id": "9onfG5GFEFKk"
   },
   "source": [
    "A estrutura de repetição `while` ela está nas mesmas condições que a estrutura de repetição `for`. A diferença notável entre as duas é que a `ordem de parada` do `for` é previsível e a do `while` não. Por esse motivo, devemos criar uma estrutura de condição para a ordem de parada em uma estrutura de repetição `while`. Veja um exemplo abaixo:"
   ]
  },
  {
   "cell_type": "code",
   "execution_count": null,
   "metadata": {
    "colab": {
     "base_uri": "https://localhost:8080/"
    },
    "id": "0dBsw9inEFKk",
    "outputId": "5dce57e3-47e6-42ac-db9b-f008aabb5bf2"
   },
   "outputs": [],
   "source": [
    "a, b = 1, 1 \n",
    "\n",
    "while True:\n",
    "    print(\"{}, {}\".format(a, b))\n",
    "    a *= 2\n",
    "    b *= 3\n",
    "    if(a >= 500 or b >= 500):\n",
    "        break"
   ]
  },
  {
   "cell_type": "markdown",
   "metadata": {
    "id": "ocroEKp6EFKk"
   },
   "source": [
    "Veja que foi definido a estrutura de repetição `while` como verdadeira a todo momento. Caso não fosse especificado uma ordem de parada, responsável por quebrar essa repetição, ela entraria em um `laço loop`, tendo como consequência a execução desenfreada dos subcomandos do `while`. Para contornar esse problema, usamos o comando `break`, que vamos falar mais um pouco sobre ele agora."
   ]
  },
  {
   "cell_type": "markdown",
   "metadata": {
    "id": "p5mi-4aTEFKk"
   },
   "source": [
    "### Comandos: break e continue"
   ]
  },
  {
   "cell_type": "markdown",
   "metadata": {
    "id": "DsZ4wneyEFKl"
   },
   "source": [
    "O uso de comandos `break` e `continue` são grandes aliados para se usar em estruturas de repetições. Com o `break` o comando irá parar de vez, vamos pensar nele como um freio de mão de um carro, que o faz parar e não é mais possível acelerá-lo. Já o comando `continue` ele permite dar uma pausa para depois continuar na execução do comando, vamos pensar nele como se fosse um freio de um carro, que o faz desacelerar, mas após isso podemos continuar o processo de aceleração do automóvel. Vamos usar a estrutura de repetição `for` para tornar essa ideia mais clara."
   ]
  },
  {
   "cell_type": "code",
   "execution_count": null,
   "metadata": {
    "colab": {
     "base_uri": "https://localhost:8080/"
    },
    "id": "3bzGSXXnEFKl",
    "outputId": "79dc72b1-039d-4351-ecc5-ccc1078c62c1"
   },
   "outputs": [],
   "source": [
    "for indice in range(1, 11):\n",
    "    print(indice)\n",
    "    if(indice == 5):\n",
    "        break"
   ]
  },
  {
   "cell_type": "code",
   "execution_count": null,
   "metadata": {
    "colab": {
     "base_uri": "https://localhost:8080/"
    },
    "id": "N-c0ME8BEFKl",
    "outputId": "d1adeea4-befa-4167-bc40-419e835cdc74"
   },
   "outputs": [],
   "source": [
    "for indice in range(1, 11):\n",
    "    print(indice)\n",
    "    if(indice == 5):\n",
    "        continue"
   ]
  },
  {
   "cell_type": "markdown",
   "metadata": {
    "id": "3DEuOGmKEFKm"
   },
   "source": [
    "### Criando Suas Própias Funções"
   ]
  },
  {
   "cell_type": "markdown",
   "metadata": {
    "id": "LkSL1BRUEFKm"
   },
   "source": [
    "Como já foi visto, a linguagem de progamação Python é muito rica por possuir inúmeras **funções** prontas para uso. Entretanto, sempre é necessário criar funções própias para finalidades específicas, possibilitando a criação de inúmeros progamas para diversos fins. Vamos analisar como se dá a estrutura de uma função. Para isso, vamos trabalhar com o algoritmo da **sequência de fibonacci** pelo **método recursivo** (função que chama ela mesma, com uma ordem específica de parada)."
   ]
  },
  {
   "cell_type": "code",
   "execution_count": null,
   "metadata": {
    "id": "24sl6futEFKn"
   },
   "outputs": [],
   "source": [
    "def fibonacci (termo):\n",
    "    if(termo == 1): return 1\n",
    "    elif(termo == 2): return 1\n",
    "    else: return fibonacci(termo - 1) + fibonacci(termo - 2)"
   ]
  },
  {
   "cell_type": "markdown",
   "metadata": {
    "id": "kpLoSErmEFKo"
   },
   "source": [
    "Como toda operação com funções, precisamos de uma `função principal` para organizar o nosso programa."
   ]
  },
  {
   "cell_type": "code",
   "execution_count": null,
   "metadata": {
    "id": "cexmIt97EFKo"
   },
   "outputs": [],
   "source": [
    "def main():\n",
    "    print(\"Programa Sequência de Fibonacci.\\n\\n\")\n",
    "    n = int(input(\"Digite o termo da sequência desejada, em números inteiros: \"))\n",
    "    for indice in range(1, n + 1):\n",
    "        print(fibonacci(indice), \",\", end  = \"\")\n",
    "    return 0"
   ]
  },
  {
   "cell_type": "markdown",
   "metadata": {
    "id": "xoqgn8T1EFKp"
   },
   "source": [
    "Por fim, após definir que a função principal está chamado a função fibonacci definida, vamos agora fazer a chamada da função principal para executar o progama exemplo."
   ]
  },
  {
   "cell_type": "code",
   "execution_count": null,
   "metadata": {
    "colab": {
     "base_uri": "https://localhost:8080/"
    },
    "id": "7pPcZNEXEFKp",
    "outputId": "98d69247-562c-42cf-cbb1-73b021bf012c"
   },
   "outputs": [],
   "source": [
    "if __name__ == '__main__':\n",
    "    main()"
   ]
  },
  {
   "cell_type": "markdown",
   "metadata": {
    "id": "O9bwYxWBEFKp"
   },
   "source": [
    "### Tratamento de excessões e erros"
   ]
  },
  {
   "cell_type": "markdown",
   "metadata": {
    "id": "Cgn2GDJjEFKp"
   },
   "source": [
    "Tratamento de excessões e erros é uma forma prática de garantir que o programa não termine sua execução no meio da operação. Através de seu uso, é possível garantir que determinados erros não travem um programa por completo. Abaixo, será ilustrado alguns problemas comuns."
   ]
  },
  {
   "cell_type": "code",
   "execution_count": null,
   "metadata": {
    "colab": {
     "base_uri": "https://localhost:8080/"
    },
    "id": "41307FduEFKq",
    "outputId": "9176f629-5857-4b33-8897-78c3f28c06aa"
   },
   "outputs": [],
   "source": [
    "try:\n",
    "    12 / 0\n",
    "except ZeroDivisionError:\n",
    "    print('Não é possível dividir por zero!')"
   ]
  },
  {
   "cell_type": "code",
   "execution_count": null,
   "metadata": {
    "colab": {
     "base_uri": "https://localhost:8080/"
    },
    "id": "H2bIqcIWEFKq",
    "outputId": "7f8e95ae-f702-499c-b91b-ae50f7c7f996"
   },
   "outputs": [],
   "source": [
    "try:\n",
    "    lista = [1, 2, 3]\n",
    "    print(list[4])\n",
    "except:\n",
    "    print('Um erro ocorreu!')"
   ]
  },
  {
   "cell_type": "code",
   "execution_count": null,
   "metadata": {
    "id": "y1OP9MEPEFKr"
   },
   "outputs": [],
   "source": [
    "try:\n",
    "    x, y, z = 1, 0 , 1\n",
    "    coordenadas = (x, y)\n",
    "    coordenadas.append(z)\n",
    "except AttributeError:\n",
    "    pass"
   ]
  },
  {
   "cell_type": "markdown",
   "metadata": {
    "id": "1FPgDrL6EFKr"
   },
   "source": [
    "## Utilizando pacotes"
   ]
  },
  {
   "cell_type": "markdown",
   "metadata": {
    "id": "lQWsrrmqEFKr"
   },
   "source": [
    "É uma prática comum na programação utilizar ferramentas já prontas e implementadas, de modo que seja possível abstrair diversas operações e focar em problemas mais complexos. O Python, em particular, possui uma grande comunidade de contribuidores na plataforma [PyPi](https://pypi.org/), essa que tem o propósito de disponibilizar milhões de pacotes práticos e úteis para qualquer usuário utilizar. Além disso, o processo de obtenção e uso é simples, de modo que através de linhas de comando (considerando que a pasta de scripts do python está configurada nas váriaveis do sistema), o usuário consiga obté-las. "
   ]
  },
  {
   "cell_type": "markdown",
   "metadata": {
    "id": "1tKapn8KEFKs"
   },
   "source": [
    "`OBS: execute os códigos abaixo como linha de comando no sistema, não são interpretáveis pelo Python.`"
   ]
  },
  {
   "cell_type": "markdown",
   "metadata": {
    "id": "p4lyLIrxEFKs"
   },
   "source": [
    "- `Instalar um pacote`: **pip install nome_do_pacote1 nome_do_pacote2 ... nome_do_pacote_n**\n",
    "> `pip install numpy`\n",
    "> `pip install numpy seaborn matplotlib`\n",
    "- `Desinstalar um pacote`: **pip uninstall nome_do_pacote1 nome_do_pacote2 ... nome_do_pacote_n**\n",
    "> `pip uninstall numpy`\n",
    "> `pip uninstall numpy seaborn matplotlib`\n",
    "- `Atualizar pacote existente`: **pip instal nome_do_pacote --upgrade**\n",
    "> `pip install tensorflow --upgrade`\n",
    "- `Instalar uma versão específica`: **pip install nome_do_pacote==version**\n",
    "> `pip install tensorflow==2.0.0`\n",
    "- `Visualizar pacotes instalados`: **pip list**\n",
    "> pip list"
   ]
  },
  {
   "cell_type": "code",
   "execution_count": null,
   "metadata": {
    "colab": {
     "base_uri": "https://localhost:8080/",
     "height": 607
    },
    "id": "NB258oI9EFKs",
    "outputId": "faf49ed6-3e02-4217-dc23-5449b4064ff6"
   },
   "outputs": [],
   "source": [
    "# exemplo de como a utilização de pacotes pode facilitar nossa vida\n",
    "\n",
    "import numpy as np\n",
    "import matplotlib.pyplot as plt\n",
    "from matplotlib.collections import LineCollection\n",
    "\n",
    "from sklearn.linear_model import LinearRegression\n",
    "from sklearn.isotonic import IsotonicRegression\n",
    "from sklearn.utils import check_random_state\n",
    "\n",
    "n = 100\n",
    "x = np.arange(n)\n",
    "rs = check_random_state(0)\n",
    "y = rs.randint(-50, 50, size=(n,)) + 50. * np.log(1 + np.arange(n))\n",
    "\n",
    "ir = IsotonicRegression()\n",
    "\n",
    "y_ = ir.fit_transform(x, y)\n",
    "\n",
    "lr = LinearRegression()\n",
    "lr.fit(x[:, np.newaxis], y) \n",
    "\n",
    "segments = [[[i, y[i]], [i, y_[i]]] for i in range(n)]\n",
    "lc = LineCollection(segments, zorder=0)\n",
    "lc.set_array(np.ones(len(y)))\n",
    "lc.set_linewidths(0.5 * np.ones(n))\n",
    "\n",
    "fig = plt.figure(figsize = (15,10))\n",
    "plt.plot(x, y, 'r.', markersize=12)\n",
    "plt.plot(x, y_, 'g.-', markersize=12)\n",
    "plt.plot(x, lr.predict(x[:, np.newaxis]), 'b-')\n",
    "plt.gca().add_collection(lc)\n",
    "plt.legend(('Data', 'Isotonic Fit', 'Linear Fit'), loc='lower right')\n",
    "plt.title('Isotonic regression')\n",
    "plt.show()"
   ]
  },
  {
   "cell_type": "markdown",
   "metadata": {
    "id": "v06JJEpnEFKs"
   },
   "source": [
    "### Orientação a objetos"
   ]
  },
  {
   "cell_type": "markdown",
   "metadata": {
    "id": "3x-YuhfPEFKt"
   },
   "source": [
    "Programação Orientada a Objetos `(POO)` é um modelo de análise, projeto e programação de software baseado na composição e interação entre diversas unidades chamadas de 'objetos'. A linguagem de programação Python também suporta POO, de modo que em poucas linhas classes úteis podem ser implementadas. Abaixo será exemplificado a construção de uma classe para resolução de problemas em regressão linear. Tudo bem se você não entender muito o que está acontecendo nos códigos abaixo, esse conteúdo será abordado posteriormente. Preste atenção em como uma classe é construida e em como os objetos são instanciados."
   ]
  },
  {
   "cell_type": "code",
   "execution_count": null,
   "metadata": {
    "id": "fR8ZP9rzEFKt"
   },
   "outputs": [],
   "source": [
    "import numpy as np\n",
    "import matplotlib.pyplot as plt\n",
    "\n",
    "class SimpleLinearRegression():\n",
    "    '''classe que resolve problemas de regressão linear simples'''\n",
    "    \n",
    "    def __init__(self, len_scatter):\n",
    "        '''construtor da classe'''\n",
    "        \n",
    "        self.len_scatter = len_scatter\n",
    "        self.X = []\n",
    "        self.y = []\n",
    "        self.parameters = []\n",
    "    \n",
    "    def generate_linear_data(self, seed = 42):\n",
    "        '''método para geração de dados lineares arbitrários'''\n",
    "        \n",
    "        np.random.seed(seed)\n",
    "        self.X = np.random.randint(1, seed, (self.len_scatter, 1))\n",
    "        self.y = self.X * seed\n",
    "        \n",
    "        return (self.X, self.y)\n",
    "    \n",
    "    def get_parameters(self, X, y):\n",
    "        '''retorna os parâmetros do modelo (equação linear) a partir do ajuste nos dados'''\n",
    "        \n",
    "        m = self.y.size\n",
    "        X_bias = np.concatenate([np.ones((m, 1)), self.X], axis=1)\n",
    "        self.parameters = np.dot(np.dot(np.linalg.inv(np.dot(X_bias.T, X_bias)), X_bias.T), self.y)\n",
    "        \n",
    "        return self.parameters\n",
    "    \n",
    "    def plot_model(self, X, y, parameters):\n",
    "        '''visualização gráfica do modelo treinado'''\n",
    "        \n",
    "        plt.figure(figsize = (10,5))\n",
    "        plt.scatter(X, y, label = 'data')\n",
    "        plt.plot(np.arange(min(X) - 5, max(X) + 5), parameters[0] + parameters[1] * np.arange(min(X) - 5, max(X) + 5), label = 'model')\n",
    "        plt.xlabel('X')\n",
    "        plt.ylabel('y')\n",
    "        plt.title('Linear Regression with Normal Equation - Vectorized')\n",
    "        plt.legend()\n",
    "        plt.grid(False)\n",
    "        plt.box(False)\n",
    "        plt.show()"
   ]
  },
  {
   "cell_type": "code",
   "execution_count": null,
   "metadata": {
    "colab": {
     "base_uri": "https://localhost:8080/",
     "height": 350
    },
    "id": "4DmwrkIDEFKt",
    "outputId": "8394d29f-36c9-4498-a15e-9ade5f33a295"
   },
   "outputs": [],
   "source": [
    "# instanciação de um objeto da classe\n",
    "regressor = SimpleLinearRegression(len_scatter = 10)\n",
    "\n",
    "# obtendo os dados lineares a partir de uma semente de geração randômica\n",
    "X, y = regressor.generate_linear_data(seed = 42)\n",
    "\n",
    "# obtendo os parâmetros do modelo \n",
    "parameters = regressor.get_parameters(X, y)\n",
    "\n",
    "# visualizando o modelo treinado com os dados\n",
    "regressor.plot_model(X, y, parameters)"
   ]
  },
  {
   "cell_type": "markdown",
   "metadata": {},
   "source": [
    "***\n",
    "![image](https://user-images.githubusercontent.com/58775072/156376945-a9373a0d-655e-4361-bef6-4d42a0236720.gif)"
   ]
  }
 ],
 "metadata": {
  "colab": {
   "include_colab_link": true,
   "name": "prog01-aprendendo-pythonV2.ipynb",
   "provenance": []
  },
  "kernelspec": {
   "display_name": "Python 3 (ipykernel)",
   "language": "python",
   "name": "python3"
  },
  "language_info": {
   "codemirror_mode": {
    "name": "ipython",
    "version": 3
   },
   "file_extension": ".py",
   "mimetype": "text/x-python",
   "name": "python",
   "nbconvert_exporter": "python",
   "pygments_lexer": "ipython3",
   "version": "3.8.10"
  }
 },
 "nbformat": 4,
 "nbformat_minor": 1
}
