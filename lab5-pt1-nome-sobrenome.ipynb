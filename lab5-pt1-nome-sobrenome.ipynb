{
 "cells": [
  {
   "cell_type": "markdown",
   "id": "52ab7690",
   "metadata": {},
   "source": [
    "![banner-pdi](https://user-images.githubusercontent.com/58775072/141189378-b5df3287-e8c0-48a1-ad11-825ba317463b.png)"
   ]
  },
  {
   "cell_type": "markdown",
   "id": "76838349",
   "metadata": {},
   "source": [
    "## Universidade Federal de Campina Grande (UFCG)\n",
    "## Centro de Engenharia Elétrica e Informática (CEEI) \n",
    "## Disciplina: Int. ao Processamento de Imagem Digital e Visão Computacional\n",
    "## Professora: Luciana Ribeiro Veloso\n",
    "## Aluno(a): Coloque seu nome aqui"
   ]
  },
  {
   "cell_type": "markdown",
   "id": "381ff7d2",
   "metadata": {},
   "source": [
    "## Observações\n",
    "***\n",
    "\n",
    "1. Os arquivos de laboratório devem ser salvos seguindo o seguinte padrão: `lab-x-nome-sobrenome.ipynb`.\n",
    "2. Não esqueça de colocar o seu nome no cabeçalho acima.\n",
    "3. Não altere a ordem das células e realize as implementações somente nos campos específicados.  \n",
    "4. Ao longo do laboratório será solicitado perguntas teóricas relativas aos assuntos das aulas da disciplina e implementações de código utilizando a linguagem de programação Python. \n",
    "5. As células de implementação com código serão indicadas pelos seguintes comentários: `# IMPLEMENTE O SEU CÓDIGO AQUI`.\n",
    "6. Para editar uma célula de texto, basta clicar duas vezes com o cursos do mouse para editar, e `Ctrl + Enter` para finalizar a edição. \n",
    "7. Para rodar as células com os códigos desenvolvidos, digite `Ctrl + Enter` ou clique em `Run` no menu do Jupyter.\n",
    "8. Dúvidas, problemas de execução de código ou dificuldades com a linguagem de programação Python devem ser feitas durante as aulas de laboratório, encaminhadas para o grupo de WhatsApp da turma ou fórum do PVAE da disciplina.\n",
    "9. Os laboratórios devem ser enviados nos campos especificados pelo PVAE. ATENTE-SE AOS PRAZOS DE ENTREGA!"
   ]
  },
  {
   "cell_type": "markdown",
   "id": "9838d359",
   "metadata": {},
   "source": [
    "# <span style=\"color:red\">Laboratório 5.1: Segmentação em Imagens</span>\n",
    "***"
   ]
  },
  {
   "cell_type": "markdown",
   "id": "e22e9ade",
   "metadata": {},
   "source": [
    "### Importação dos Pacotes"
   ]
  },
  {
   "cell_type": "code",
   "execution_count": null,
   "id": "ca5d5429",
   "metadata": {},
   "outputs": [],
   "source": [
    "import os                                    # operational system para manipulação de arquivos\n",
    "import cv2                                   # opencv para manipulação de imagens\n",
    "import numpy as np                           # numpy para manipulação de matrizes e arrays\n",
    "import urllib.request as url                 # urllib para baixar arquivos via HTTPS\n",
    "import zipfile                               # zipfile para lidar com arquivos compactados\n",
    "import matplotlib.pyplot as plt              # pyplot para plotagem de gráficos e imagens\n",
    "import matplotlib.patheffects as PathEffects # função utilitária de plotagem gráfica"
   ]
  },
  {
   "cell_type": "code",
   "execution_count": null,
   "id": "38ead3b1",
   "metadata": {},
   "outputs": [],
   "source": [
    "# baixando as imagens de referência\n",
    "url.urlretrieve('https://github.com/Alyssonmach/pdi-labs/raw/main/imagens.zip', 'imagens.zip')\n",
    "with zipfile.ZipFile('imagens.zip', 'r') as zip_ref:\n",
    "    zip_ref.extractall('')"
   ]
  },
  {
   "cell_type": "markdown",
   "id": "ab5e1d4a",
   "metadata": {},
   "source": [
    "### Funções Auxiliares"
   ]
  },
  {
   "cell_type": "code",
   "execution_count": null,
   "id": "1a383681",
   "metadata": {},
   "outputs": [],
   "source": [
    "def ruido_gaussiano(img, media, var):\n",
    "    '''introduz ruido gaussiano na imagem'''\n",
    "    \n",
    "    return img + np.random.normal(media, var, img.shape)"
   ]
  },
  {
   "cell_type": "code",
   "execution_count": null,
   "id": "67ececa1",
   "metadata": {},
   "outputs": [],
   "source": [
    "def display_values(ax, im):\n",
    "    '''escreve os valores na imagem'''\n",
    "\n",
    "    h, w = im.shape[:2]\n",
    "    for x in range(w):\n",
    "        for y in range(h):\n",
    "            txt = ax.text(x, y, im[y, x], color = \"lime\", ha = \"center\", va = \"center\")\n",
    "            txt.set_path_effects([PathEffects.withStroke(linewidth = 3, foreground = \"black\")])"
   ]
  },
  {
   "cell_type": "code",
   "execution_count": null,
   "id": "2b6d8d8b",
   "metadata": {},
   "outputs": [],
   "source": [
    "def custom_padding(src_img):\n",
    "    '''aplica zero-padding à imagem'''\n",
    "    \n",
    "    H, W = src_img.shape\n",
    "    padded = np.zeros( (H + 2, W + 2) )\n",
    "    padded[1:H + 1, 1:W + 1] = src_img\n",
    "    \n",
    "    return padded"
   ]
  },
  {
   "cell_type": "markdown",
   "id": "af265e2e",
   "metadata": {},
   "source": [
    "### Detecção de Bordas\n",
    "\n",
    "A biblioteca OpenCV disponibiliza diversas funções para a aplicação de filtros espaciais, a exemplo de:\n",
    "\n",
    "1. **Filtro Gaussiano**:  \n",
    "    * Filtro passa-baixas gaussiano de altura H, largura W e desvio padrão sigma.\n",
    "    * `dst_img = cv2.GaussianBlur( src_img, (H, W), sigma)`\n",
    "    * O filtro na direção y pode ser obtido utilizando: `kernel_y = cv2.getGaussianKernel(H, sigma, ktype = dtype)`\n",
    "    * O filtro na direção x pode ser obtido ao transpor o filtro acima: `kernel_x = kernel_y.T`\n",
    "    * Um filtro 2D pode ser obtido a partir do produto vetorial (`np.dot()`) entre os filtros.\n",
    "2. **Filtro Laplaciano**:\n",
    "    * Filtro que aproxima a operação de Laplaciano retornando uma imagem tipo dtype.\n",
    "    * dtype deve ser especificado segundo flags do OpenCV: cv2.CV_8U para uint8, cv2.CV_32F para float32, cv2.CV_16S para int16, etc.\n",
    "    * `dst_img = cv2.Laplacian(src_gray, dtype)` \n",
    "3. **Filtragem arbitrária**:\n",
    "    * O OpenCV também disponibiliza uma função para filtragem espacial 2D a partir de uma imagem de entrada e um filtro (kernel).\n",
    "    * Essa função implementa a filtragem de maneira limitada, permitindo apenas a produção de saídas com mesmas dimensões da entrada.\n",
    "    * Para garantir que a entrada e a saída tenham a mesma dimensão a imagem é preenchida com zeros antes da convolução.\n",
    "    * `dst_img = cv2.filter2D( src_img, dtype, kernel )`"
   ]
  },
  {
   "cell_type": "markdown",
   "id": "1d8a2e9e",
   "metadata": {},
   "source": [
    " ## <span style='color:blue'>Questão 1: [Valor da Questão: 2.5][Taxa de acerto: x.x]</span>\n",
    "\n",
    "* O código abaixo realiza a detecção de bordas da imagem **Fig0458(a)(blurry_moon).tif** após a introdução de ruído gaussiano. Explique o funcionamento do código abaixo e responda as perguntas a seguir. Utilize quantas células de código achar necessário para responder as questões.\n",
    " * (a) Qual é o propósito da suavização na detecção de bordas?\n",
    " * (b) Reduza o ruído ao setar mu = 0 e sigma = 3, depois retire o ruído setando mu = sigma = 0. O filtro utilizado é sensível ao ruído?\n",
    " * (c) Qual a função da variável T? Ajuste a variável para valores entre [0, 1] e comente os resultados observados.\n",
    " * (d) Na sua opinião, qual o melhor valor de T para a detecção de bordas nessa imagem com esse filtro? Justifique."
   ]
  },
  {
   "cell_type": "code",
   "execution_count": null,
   "id": "1e41d171",
   "metadata": {
    "scrolled": false
   },
   "outputs": [],
   "source": [
    "T, mu, sigma = 0.1, 30, 7.5\n",
    "\n",
    "# a função 'os.path.join' concatena textos para produzir caminhos de arquivos que serão válidos \n",
    "# independentemente do sistema operacional utilizado.\n",
    "src_img = cv2.imread(\"imagens/Fig0338(a)(blurry_moon).tif\",0)\n",
    "\n",
    "# primeira imagem da primeira linha\n",
    "gau_img = ruido_gaussiano(src_img, mu, sigma)\n",
    "\n",
    "# segunda imagem da primeira linha\n",
    "kernel  = np.array([[-1, -1, -1], [-1,  8, -1], [-1, -1, -1]], dtype = np.int16)\n",
    "flt_img = cv2.filter2D(gau_img, cv2.CV_64F, kernel)\n",
    "\n",
    "# terceira imagem da primeira linha\n",
    "abs_img = np.abs(flt_img)\n",
    "\n",
    "# quarta imagem da primeira linha\n",
    "threshold = int(T * np.max(abs_img))\n",
    "_, dst_img = cv2.threshold(abs_img, threshold, 255, cv2.THRESH_BINARY)\n",
    "\n",
    "# primeira imagem da segunda linha\n",
    "blr_img = cv2.GaussianBlur(gau_img, (5, 5), 1.4)\n",
    "\n",
    "# segunda imagem da primeira linha\n",
    "flt_img_2 = cv2.filter2D(blr_img, cv2.CV_64F, kernel)\n",
    "\n",
    "# terceira imagem da primeira linha\n",
    "abs_img_2 = np.abs(flt_img_2)\n",
    "\n",
    "# quarta imagem da primeira linha\n",
    "threshold = int(T * np.max(abs_img_2))\n",
    "_, dst_img_2_a = cv2.threshold(abs_img_2, threshold, 255, cv2.THRESH_BINARY)\n",
    "\n",
    "# plotagem\n",
    "fig, axs = plt.subplots(nrows = 2, ncols = 4, figsize=(16, 10))\n",
    "\n",
    "# primeira Subfigura da primeira linha\n",
    "axs[0][0].imshow(gau_img, vmin = 0, vmax = 255, cmap = \"gray\")\n",
    "axs[0][0].set_title(\"Original com Ruído\", fontsize = 16)\n",
    "axs[0][0].set_xlabel(r\"$\\mu = {}, \\sigma = {}$\".format(mu, sigma), fontsize = 16)\n",
    "\n",
    "# segunda Subfigura da primeira linha\n",
    "axs[0][1].imshow(flt_img, vmin=np.min(flt_img), vmax=np.max(flt_img), cmap = \"gray\")\n",
    "axs[0][1].set_title(\"flt_img\", fontsize = 16)\n",
    "\n",
    "# terceira Subfigura da primeira linha\n",
    "axs[0][2].imshow(abs_img, vmin = 0, vmax = 255, cmap = \"gray\")\n",
    "axs[0][2].set_title(\"abs_img\", fontsize = 16)\n",
    "\n",
    "# quarta Subfigura da primeira linha\n",
    "axs[0][3].imshow(dst_img, vmin = 0, vmax = 255, cmap = \"gray\")\n",
    "axs[0][3].set_title(\"Bordas s/ Suavização\", fontsize = 16)\n",
    "\n",
    "# primeira Subfigura da segunda linha\n",
    "axs[1][0].imshow(blr_img, vmin = 0, vmax = 255, cmap = \"gray\")\n",
    "axs[1][0].set_title(\"Imagem Suavizada\", fontsize = 16)\n",
    "\n",
    "# segunda Subfigura da primeira linha\n",
    "axs[1][1].imshow(flt_img_2, vmin = np.min(flt_img), vmax = np.max(flt_img), cmap = \"gray\")\n",
    "axs[1][1].set_title(\"flt_img_2\", fontsize = 16)\n",
    "\n",
    "# terceira Subfigura da primeira linha\n",
    "axs[1][2].imshow(abs_img_2, vmin = 0, vmax = 255, cmap = \"gray\")\n",
    "axs[1][2].set_title(\"abs_img_2\", fontsize = 16)\n",
    "\n",
    "# quarta Subfigura da primeira linha\n",
    "axs[1][3].imshow(dst_img_2_a, vmin = 0, vmax = 255, cmap = \"gray\")\n",
    "axs[1][3].set_title(\"Bordas c/ Suavização\", fontsize = 16)"
   ]
  },
  {
   "cell_type": "code",
   "execution_count": null,
   "id": "91667369",
   "metadata": {},
   "outputs": [],
   "source": [
    "# IMPLEMENTE SEUS CÓDIGOS AQUI - QUESTÃO 1"
   ]
  },
  {
   "cell_type": "markdown",
   "id": "7b5837d3",
   "metadata": {},
   "source": [
    "## <span style='color:green'>Respostas da Questão 1:</span>\n",
    "\n",
    "* Explique o funcionamento do código aqui.\n",
    "\n",
    "* (a) Adicione sua resposta aqui.\n",
    "* (b) Adicione sua resposta aqui.\n",
    "* (c) Adicione sua resposta aqui.\n",
    "* (d) Adicione sua resposta aqui."
   ]
  },
  {
   "cell_type": "markdown",
   "id": "69e3f2cb",
   "metadata": {},
   "source": [
    "### Aplicações em outras imagens"
   ]
  },
  {
   "cell_type": "code",
   "execution_count": null,
   "id": "3a277bb8",
   "metadata": {},
   "outputs": [],
   "source": [
    "def edge_detector_plot(relative_directory, image,T=0.1, mu=30, sigma=7.5, figsize=(16,10)):\n",
    "    '''plota as etapas do detector de bordas'''\n",
    "\n",
    "    src_img = cv2.imread(os.path.join(\".\", relative_directory, image), 0)\n",
    "    gau_img = ruido_gaussiano(src_img, mu, sigma)\n",
    "    kernel  = np.array([[-1, -1, -1], [-1,  8, -1], [-1, -1, -1] ], dtype = np.int16)\n",
    "    flt_img = cv2.filter2D(gau_img, cv2.CV_64F, kernel)\n",
    "    abs_img = np.abs(flt_img)\n",
    "    threshold = int(T * np.max(abs_img))\n",
    "    _, dst_img = cv2.threshold(abs_img, threshold, 255, cv2.THRESH_BINARY)\n",
    "    blr_img = cv2.GaussianBlur( gau_img, (5, 5), 1.4)\n",
    "    flt_img_2 = cv2.filter2D(blr_img, cv2.CV_64F, kernel)\n",
    "    abs_img_2 = np.abs(flt_img_2)\n",
    "    threshold = int(T * np.max(abs_img_2))\n",
    "    _, dst_img_2_a = cv2.threshold(abs_img_2, threshold, 255, cv2.THRESH_BINARY)\n",
    "\n",
    "    fig, axs = plt.subplots(nrows = 2, ncols = 4, figsize = figsize)\n",
    "\n",
    "    axs[0][0].imshow(gau_img, vmin = 0, vmax = 255, cmap = \"gray\")\n",
    "    axs[0][0].set_title(\"Original com Ruído\", fontsize = 16)\n",
    "    axs[0][0].set_xlabel(r\"$\\mu = {}, \\sigma = {}$\".format(mu, sigma), fontsize = 16)\n",
    "\n",
    "    axs[0][1].imshow(flt_img, vmin = np.min(flt_img), vmax = np.max(flt_img), cmap = \"gray\")\n",
    "    axs[0][1].set_title(\"flt_img\", fontsize = 16)\n",
    "\n",
    "    axs[0][2].imshow(abs_img, vmin = 0, vmax = 255, cmap = \"gray\")\n",
    "    axs[0][2].set_title(\"abs_img\", fontsize = 16)\n",
    "\n",
    "    axs[0][3].imshow(dst_img, vmin = 0, vmax = 255, cmap = \"gray\")\n",
    "    axs[0][3].set_title(\"Bordas s/ Suavização\", fontsize = 16)\n",
    "    axs[0][3].set_xlabel(r\"$T = {}$\".format(T), fontsize = 16)\n",
    "\n",
    "    axs[1][0].imshow(blr_img, vmin = 0, vmax = 255, cmap = \"gray\")\n",
    "    axs[1][0].set_title(\"Imagem Suavizada\", fontsize = 16)\n",
    "\n",
    "    axs[1][1].imshow(flt_img_2, vmin = np.min(flt_img), vmax = np.max(flt_img), cmap = \"gray\")\n",
    "    axs[1][1].set_title(\"flt_img_2\", fontsize = 16)\n",
    "\n",
    "    axs[1][2].imshow(abs_img_2, vmin = 0, vmax = 255, cmap = \"gray\")\n",
    "    axs[1][2].set_title(\"abs_img_2\", fontsize = 16)\n",
    "\n",
    "    axs[1][3].imshow(dst_img_2_a, vmin = 0, vmax = 255, cmap = \"gray\")\n",
    "    axs[1][3].set_title(\"Bordas c/ Suavização\", fontsize = 16)\n",
    "    axs[1][3].set_xlabel(r\"$T = {}$\".format(T), fontsize = 16)\n",
    "\n",
    "    return None"
   ]
  },
  {
   "cell_type": "code",
   "execution_count": null,
   "id": "98ee95e0",
   "metadata": {},
   "outputs": [],
   "source": [
    "edge_detector_plot('imagens', 'dr_strange.jpg', T = 0.1, mu = 30, sigma = 7.5)"
   ]
  },
  {
   "cell_type": "code",
   "execution_count": null,
   "id": "dc28e5b3",
   "metadata": {},
   "outputs": [],
   "source": [
    "edge_detector_plot('imagens', 'shang_chi.jpg', T = 0.1, mu = 30, sigma = 7.5, figsize = (16,12))"
   ]
  },
  {
   "cell_type": "code",
   "execution_count": null,
   "id": "f2d5eabf",
   "metadata": {},
   "outputs": [],
   "source": [
    "edge_detector_plot('imagens', 'back_to_the_future.jpeg', T = 0.1, mu = 30, sigma = 7.5, figsize = (16, 12))"
   ]
  },
  {
   "cell_type": "code",
   "execution_count": null,
   "id": "4e6cf9f7",
   "metadata": {},
   "outputs": [],
   "source": [
    "edge_detector_plot('imagens', 'cubo_magico.jpg', T = 0.1, mu = 0, sigma = 0, figsize = (20, 10))"
   ]
  },
  {
   "cell_type": "markdown",
   "id": "f0e16389",
   "metadata": {},
   "source": [
    "### Prewitt e Sobel\n",
    "A detecção de bordas também pode ser realizada a partir dos filtros de Sobel e Prewitt:\n",
    "\n",
    "* **Prewitt**:\n",
    "    * `kernel_x    = [ [-1, -1, -1], [ 0,  0,  0], [ 1,  1,  1] ]` \n",
    "    * `kernel_y    = [ [-1,  0,  1], [-1,  0,  1], [-1,  0,  1] ]` \n",
    "    * `kernel_diag = [ [-1, -1,  0], [-1,  0,  1], [ 0,  1,  1] ]`\n",
    "\n",
    "* **Sobel**:\n",
    "    * `kernel_x    = [ [-1, -2, -1], [ 0,  0,  0], [ 1,  2,  1] ]` \n",
    "    * `kernel_y    = [ [-1,  0,  1], [-2,  0,  2], [-1,  0,  1] ]` \n",
    "    * `kernel_diag = [ [-2, -1,  0], [-1,  0,  1], [ 0,  1,  2] ]`\n",
    "    \n",
    "* **Descrição**:  \n",
    "    * **kernel_x** detecta bordas horizontais;\n",
    "    * **kernel_y** detecta bordas verticais;\n",
    "    * **kernel_diag** detecta bordas diagonais (+45°);"
   ]
  },
  {
   "cell_type": "code",
   "execution_count": null,
   "id": "3e18ac4a",
   "metadata": {},
   "outputs": [],
   "source": [
    "# prewitt\n",
    "prewitt_x    = np.array([[-1,  0,  1], [-1, 0,  1], [-1,  0, 1]], dtype = np.int8)\n",
    "prewitt_y    = np.array([[-1, -1, -1], [ 0, 0,  0], [ 1,  1, 1]], dtype = np.int8)\n",
    "prewitt_diag = np.array([[ 0,  1,  1], [-1, 0,  1], [-1, -1, 0]], dtype = np.int8)\n",
    "\n",
    "# sobel\n",
    "sobel_x    = np.array([[-1,  0,  1], [-2, 0,  2], [-1, 0, 1]], dtype = np.int8)\n",
    "sobel_y    = np.array([[-1, -2, -1], [ 0, 0,  0], [ 1, 2, 1]], dtype = np.int8)\n",
    "sobel_diag = np.array([[ 0,  1,  2], [-1, 0,  1], [-2,-1, 0]], dtype = np.int8)\n",
    "\n",
    "# plots\n",
    "fig, axs = plt.subplots(nrows = 2, ncols = 3, figsize=(16, 12))\n",
    "\n",
    "# primeira subfigura da primeira linha\n",
    "axs[0][0].imshow(prewitt_x, vmin = -1, vmax = 1, cmap = \"gray\")\n",
    "axs[0][0].set_title(\"Prewitt Horizontal\", fontsize = 16)\n",
    "display_values(axs[0][0], prewitt_x)\n",
    "\n",
    "# segunda subfigura da primeira linha\n",
    "axs[0][1].imshow(prewitt_y, vmin = -1, vmax = 1, cmap = \"gray\")\n",
    "axs[0][1].set_title(\"Prewitt Vertical\", fontsize = 16)\n",
    "display_values(axs[0][1], prewitt_y)\n",
    "\n",
    "# terceira subfigura da primeira linha\n",
    "axs[0][2].imshow(prewitt_diag, vmin = -1, vmax = 1, cmap = \"gray\")\n",
    "axs[0][2].set_title(\"Prewitt Diagonal (45°)\", fontsize = 16)\n",
    "display_values(axs[0][2], prewitt_diag)\n",
    "\n",
    "# primeira subfigura da segunda linha\n",
    "axs[1][0].imshow(sobel_x, vmin = -2, vmax = 2, cmap = \"gray\")\n",
    "axs[1][0].set_title(\"Sobel Horizontal\", fontsize = 16)\n",
    "display_values(axs[1][0], sobel_x)\n",
    "\n",
    "# segunda subfigura da segunda linha\n",
    "axs[1][1].imshow(sobel_y, vmin = -2, vmax = 2, cmap = \"gray\")\n",
    "axs[1][1].set_title(\"Sobel Vertical\", fontsize = 16)\n",
    "display_values(axs[1][1], sobel_y)\n",
    "\n",
    "# terceira subfigura da segunda linha\n",
    "axs[1][2].imshow(sobel_diag, vmin = -2, vmax = 2, cmap = \"gray\")\n",
    "axs[1][2].set_title(\"Sobel Diagonal (45°)\", fontsize = 16)\n",
    "display_values(axs[1][2], sobel_diag)"
   ]
  },
  {
   "cell_type": "markdown",
   "id": "2bc86798",
   "metadata": {},
   "source": [
    " ## <span style='color:blue'>Questão 2: [Valor da Questão: 2.5][Taxa de acerto: x.x]</span>\n",
    " \n",
    "* (a) Aplique as diferentes versões dos filtros de Prewitt em quatro figuras da pasta de imagens. Comente os resultados obtidos.\n",
    "    * Lembre de computar o módulo das imagens após a filtragem.\n",
    "    * Defina vmin e vmax de acordo com o menor/maior valores da imagem.\n",
    "* (b) Aplique as diferentes versões dos filtros de Sobel em quatro figuras da pasta de imagens. Comente os resultados obtidos."
   ]
  },
  {
   "cell_type": "code",
   "execution_count": null,
   "id": "6d8560f7",
   "metadata": {},
   "outputs": [],
   "source": [
    "# IMPLEMENTE SEU CÓDIGO AQUI --> QUESTÃO 2 - letra (a)"
   ]
  },
  {
   "cell_type": "code",
   "execution_count": null,
   "id": "10dfabcc",
   "metadata": {},
   "outputs": [],
   "source": [
    "# IMPLEMENTE SEU CÓDIGO AQUI -> QUESTÃO 2 - letra (b)"
   ]
  },
  {
   "cell_type": "markdown",
   "id": "2bc82169",
   "metadata": {},
   "source": [
    "## <span style='color:green'>Respostas da Questão 2:</span>\n",
    "\n",
    "* (a) Adicione sua resposta aqui.\n",
    "* (b) Adicione sua resposta aqui."
   ]
  },
  {
   "cell_type": "markdown",
   "id": "d66ed219",
   "metadata": {},
   "source": [
    " ## <span style='color:blue'>Questão 3: [Valor da Questão: 2.0][Taxa de acerto: x.x]</span>\n",
    "* Escreva uma função que detecta bordas horizontais e verticais utilizando os filtros de Sobel. A função deve retornar uma única imagem com o somatório das máscaras produzidas. Valide sua função em pelo menos 4 figuras da pasta de imagens. Comente os resultados."
   ]
  },
  {
   "cell_type": "code",
   "execution_count": null,
   "id": "653fcbdf",
   "metadata": {},
   "outputs": [],
   "source": [
    "# IMPLEMENTE SEU CÓDIGO AQUI -> QUESTÃO 3 - construção da função"
   ]
  },
  {
   "cell_type": "code",
   "execution_count": null,
   "id": "19b086db",
   "metadata": {},
   "outputs": [],
   "source": [
    "# IMPLEMENTE SEU CÓDIGO AQUI --> QUESTÃO 3"
   ]
  },
  {
   "cell_type": "markdown",
   "id": "d1ab7bd6",
   "metadata": {},
   "source": [
    "## <span style='color:green'>Respostas da Questão 3:</span>\n",
    "\n",
    "* Adicione sua resposta aqui."
   ]
  },
  {
   "cell_type": "markdown",
   "id": "a644973a",
   "metadata": {},
   "source": [
    "### Detector de Canny\n",
    "\n",
    "Uma alternativa mais robusta para a detecção de bordas é o detector de Canny, que se propõe a detectar as bordas mais finas possíveis com uma menor frequência de falsos postivos (bordas falsas). Esse algoritmo corresponde à sequência dos seguintes passos:\n",
    "\n",
    "1. Suavizar a imagem com  filtro gaussiano.   \n",
    "2. Cálculo da magnitude e da fase referentes ao gradiente das imagens.     \n",
    "3. Aplicar a supressão não máxima na imagem da magnitude do gradiente.   \n",
    "4. Usar a dupla limiarização e a análise de conectividade para detectar e conectar as bordas.   "
   ]
  },
  {
   "cell_type": "code",
   "execution_count": null,
   "id": "988b7607",
   "metadata": {},
   "outputs": [],
   "source": [
    "def get_refmat(shape):\n",
    "    '''cria uma matriz de referência de dimensões (H, W, 4). Cada um dos seus canais corresponde a um valor\n",
    "    de referência, sendo todos os elementos dos canais 0, 1, 2 e 3 iguais a 0°, 45°, 90° e 135°, respectivamente'''\n",
    "    \n",
    "    H, W = shape[:2]\n",
    "    mat = np.zeros((H, W, 4))\n",
    "    mat[:, :, 1] = 45\n",
    "    mat[:, :, 2] = 90\n",
    "    mat[:, :, 3] = 135\n",
    "    \n",
    "    return mat"
   ]
  },
  {
   "cell_type": "code",
   "execution_count": null,
   "id": "12677083",
   "metadata": {},
   "outputs": [],
   "source": [
    "def round_angles(angles):\n",
    "    '''ajusta os valores dos ângulos para identificar bordas a 0°, 45°, 90° e 135°'''\n",
    "    \n",
    "    H, W = angles.shape[:2]\n",
    "    \n",
    "    # corrige valores de ângulo negativos\n",
    "    angles[ angles < 0 ] += 180\n",
    "    angles[ angles > 157.5 ] = 0\n",
    "    \n",
    "    # produz uma matriz de referência de dimensões H, W, 4\n",
    "    # cada canal dessa matriz é composta apenas de um dos valores de referência: 0, 45, 90 ou 135\n",
    "    ref_mat = get_refmat(angles.shape)\n",
    "    \n",
    "    # calcula o erro absoluto entre os ângulos e os elementos da matriz de referência\n",
    "    # em uma subtração de matrizes (H, W, 4) - (H, W, 1) o numpy repete a última matriz 4x para igualar as dimensões\n",
    "    # após essa repetição a operação pode ser realizada e retorna um array (H, W, 4)\n",
    "    # mais informações: https://numpy.org/devdocs/user/basics.broadcasting.html\n",
    "    dif_mat = np.abs( ref_mat - angles.reshape((H, W, 1)))\n",
    "    \n",
    "    # aplica o argmin pra identifiar o menor erro absoluto entre um ângulo e um elemento de dif_mat\n",
    "    # o retorno é o índice do elemento que, multiplicado por 45 produz o próprio elemento\n",
    "    # isso equivale a arredondar os ângulos para o valor mais próximo entre 0, 45, 90 e 135,\n",
    "    # mas sem utilizar laços (fors / while), o que é mais eficiente.\n",
    "    rounded_mat = 45 * np.argmin( dif_mat, axis = -1 )\n",
    "    \n",
    "    return rounded_mat"
   ]
  },
  {
   "cell_type": "code",
   "execution_count": null,
   "id": "1448e17a",
   "metadata": {},
   "outputs": [],
   "source": [
    "def get_edge_grad_mask(angle):\n",
    "    '''produz uma máscara para filtrar a vizinhança na supressão não máxima\n",
    "    a máscara elimina os valores dos pixels que não estão na direção do gradiente'''\n",
    "    \n",
    "    # Força um erro se o valor do ângulo é diferente dos valores esperados.\n",
    "    assert angle in [0, 45, 90, 135]\n",
    "    \n",
    "    # retorna a máscara correspondente ao ângulo.\n",
    "    if angle == 0:\n",
    "        return np.array([ [0, 0, 0], [1, 1, 1], [0, 0, 0] ])\n",
    "    if angle == 45:\n",
    "        return np.array([ [0, 0, 1], [0, 1, 0], [1, 0, 0] ])\n",
    "    if angle == 90:\n",
    "        return np.array([ [0, 1, 0], [0, 1, 0], [0, 1, 0] ])\n",
    "    if angle == 135:\n",
    "        return np.array([ [1, 0, 0], [0, 1, 0], [0, 0, 1] ])"
   ]
  },
  {
   "cell_type": "code",
   "execution_count": null,
   "id": "b9427b71",
   "metadata": {},
   "outputs": [],
   "source": [
    "def non_max_supression(abs_img, ang_img):\n",
    "    '''realiza a Supressão não máxima'''\n",
    "    \n",
    "    H, W = abs_img.shape\n",
    "    \n",
    "    # aplica padding ao modulo e à fase\n",
    "    pad_abs = custom_padding(abs_img)\n",
    "    pad_ang = custom_padding(ang_img)\n",
    "    \n",
    "    # instancia a matriz de saída\n",
    "    output = np.zeros((H, W))\n",
    "    \n",
    "    # itera os pixels\n",
    "    for i in range(1, H + 1):\n",
    "        for j in range(1, W + 1):\n",
    "            \n",
    "            # ignora um elemento se ele é igual a 0\n",
    "            if pad_abs[i][j] == 0:\n",
    "                continue\n",
    "            \n",
    "            # extrai as vizinhanças de módulo e aplica uma máscara para\n",
    "            # eliminar os elementos que não estão na direção do gradiente da borda\n",
    "            n8_abs = pad_abs[(i - 1):(i + 2), (j - 1):(j + 2)]\n",
    "            n8_abs *= get_edge_grad_mask(pad_ang[i][j])\n",
    "            \n",
    "            # se o módulo do pixel atual for igual ao máx da vizinhança \n",
    "            # restrita aos pixels com mesma fase:\n",
    "            if np.max(n8_abs) == pad_abs[i][j]:\n",
    "                # O pixel atual é adicionado à saída;\n",
    "                # Caso contrário ele é ignorado;\n",
    "                output[i - 1, j - 1] = pad_abs[i, j]\n",
    "    \n",
    "    return output"
   ]
  },
  {
   "cell_type": "code",
   "execution_count": null,
   "id": "64540f92",
   "metadata": {},
   "outputs": [],
   "source": [
    "def custom_histerese(src_img, lmin, lmax):\n",
    "    '''realiza a limiarização por histerese'''\n",
    "    \n",
    "    # instancia a matriz de saída\n",
    "    output = np.zeros(src_img.shape)\n",
    "    \n",
    "    # considera todas as bordas acima de lmax como bordas fortes\n",
    "    strong_edges = src_img * (src_img > lmax)\n",
    "    \n",
    "    # produz uma nova matriz só com as bordas fracas e ignora as bordas fortes\n",
    "    weak_edges = (src_img - strong_edges) * (lmin < src_img)\n",
    "    \n",
    "    # aplica padding na imagem com bordas fortes\n",
    "    pad_str = custom_padding(strong_edges)\n",
    "    \n",
    "    # itera weak_edges para identificar bordas fracas conectadas a bordas fortes\n",
    "    for i in range(1, weak_edges.shape[0] + 1):\n",
    "        for j in range(1, weak_edges.shape[1] + 1):\n",
    "            # ignora se o pixel atual é 0 (não é uma borda fraca)\n",
    "            if weak_edges[i - 1, j - 1] == 0:\n",
    "                continue\n",
    "            \n",
    "            # identifica a vizinhança do elemento analisado nessa iteração\n",
    "            n8_str = pad_str[(i - 1):(i + 2), (j - 1):(j + 2)]\n",
    "            \n",
    "            # testa se existe algum elemento na vizinhança que seja uma borda forte\n",
    "            if np.max(n8_str) > lmax:\n",
    "                # de sim, considera a borda fraca como uma borda real\n",
    "                output[i - 1, j - 1] = 255\n",
    "    \n",
    "    # adiciona as bordas fortes à saída\n",
    "    output[strong_edges > 0] = 255\n",
    "                \n",
    "    return output"
   ]
  },
  {
   "cell_type": "code",
   "execution_count": null,
   "id": "6ca54108",
   "metadata": {},
   "outputs": [],
   "source": [
    "def custom_canny(src_img, L_min, L_max):\n",
    "    \n",
    "    # se a imagem não está em escala de cinza, converte de BGR para escala de cinza\n",
    "    if len(src_img.shape) > 2:\n",
    "        src_img = cv2.cvtColor(src_img, cv2.COLOR_BGR2GRAY)\n",
    "    \n",
    "    # suavizar a imagem com um filtro Gaussiano\n",
    "    img = cv2.GaussianBlur( src_img, (3, 3), 0 )\n",
    "    \n",
    "    # calcula a magnitude do gradiente e os ângulos das imagens\n",
    "    \n",
    "    # aplica Sobel na horizontal\n",
    "    sobel_x = np.array( [ [-1,  0,  1], [-2, 0,  2], [-1, 0, 1] ], dtype = np.float64 )\n",
    "    Gx = cv2.filter2D( img, cv2.CV_64F, sobel_x )\n",
    "    \n",
    "    # aplica Sobel na vertical\n",
    "    sobel_y = np.array( [ [-1, -2, -1], [ 0, 0,  0], [ 1, 2, 1] ], dtype = np.float64 )\n",
    "    Gy = cv2.filter2D( img, cv2.CV_64F, sobel_y )\n",
    "    \n",
    "    # calcula a magnitude do gradiente\n",
    "    G_abs = np.sqrt( Gx**2 + Gy**2 )\n",
    "    G_ang = np.arctan2( Gy, Gx ) * 180 / np.pi\n",
    "    \n",
    "    # ajusta os valores dos ângulos para identificar bordas a 0°, 45°, 90° e 135°\n",
    "    G_ang = round_angles(G_ang)\n",
    "    \n",
    "    # passo 3: Supressão não máxima\n",
    "    G_sup = non_max_supression(G_abs, G_ang)\n",
    "    \n",
    "    # passo 4: Limiarização por Histerese\n",
    "    G_hist = custom_histerese(G_sup, L_min, L_max)\n",
    "    \n",
    "    return G_hist"
   ]
  },
  {
   "cell_type": "markdown",
   "id": "45c03767",
   "metadata": {},
   "source": [
    " ## <span style='color:blue'>Questão 4: [Valor da Questão: 1.0][Taxa de acerto: x.x]</span>\n",
    " \n",
    "* O código das células abaixo implementa um detector de Canny. Execute-as e comente os resultados observados.\n",
    " * Atente-se à espessura das bordas e o tempo de execução do algoritmo.\n",
    " * Como esse algoritmo se compara com relação aos outros detectores de bordas vistos neste experimento?"
   ]
  },
  {
   "cell_type": "code",
   "execution_count": null,
   "id": "b8a6714f",
   "metadata": {
    "scrolled": false
   },
   "outputs": [],
   "source": [
    "lista = [\"imagens/Fig1034(a)(marion_airport).tif\",\n",
    "         \"imagens/Fig1049(a)(spot_shaded_text_image).tif\",\n",
    "         \"imagens/Fig1026(a)(headCT-Vandy).tif\",\n",
    "         \"imagens/Fig1016(a)(building_original).tif\",]\n",
    "\n",
    "# plots\n",
    "fig, axs = plt.subplots(nrows = 4, ncols = 2, figsize=(16, 24))\n",
    "\n",
    "for i in range(4):\n",
    "    \n",
    "    # imagem original\n",
    "    filepath = lista[i]\n",
    "    src_img = cv2.imread(filepath, 0)\n",
    "    axs[i][0].imshow(src_img, cmap=\"gray\")\n",
    "    axs[i][0].set_title(\"Original\", fontsize = 16)\n",
    "    \n",
    "    # filtragem\n",
    "    dst_img = custom_canny( src_img, 90, 180 )\n",
    "    axs[i][1].imshow(dst_img, vmin = 0, vmax = 255, cmap=\"gray\")\n",
    "    axs[i][1].set_title(\"Bordas Detectadas\", fontsize = 16)\n",
    "    axs[i][1].set_xlabel(str(np.unique(dst_img)), fontsize = 16)"
   ]
  },
  {
   "cell_type": "markdown",
   "id": "dd24e3eb",
   "metadata": {},
   "source": [
    "## <span style='color:green'>Respostas da Questão 4:</span>\n",
    "\n",
    "* Adicione sua resposta aqui."
   ]
  },
  {
   "cell_type": "markdown",
   "id": "6205b1fd",
   "metadata": {},
   "source": [
    "A biblioteca OpenCV também disponibiliza funções para a detecção de bordas utilizando algumas das alternativas mais populares, como os detectores de Canny e de Sobel. A sintaxe das funções é: \n",
    "\n",
    " 1. `dst_img = cv2.Canny(src_img, L_min, L_max, L2gradient = False )`    \n",
    " 2. `dst_img = cv2.Sobel(src_img, ddepth, x_order, y_order, ksize = 3)`   \n",
    "\n",
    "* Descrição:\n",
    "    * **dst_img** representa a imagem de saída;\n",
    "    * **src_img** representa a imagem de entrada;\n",
    "    * **L_min** representa o limiar inferior;\n",
    "    * **L_max** representa o limiar superior;\n",
    "    * **L2gradient** é um flag que indica se o gradiente deve ser calculado (True) ou aproximado (False).\n",
    "    * **x_order** corresponde à ordem do gradiente na direção horizontal.\n",
    "    * **y_order** corresponde à ordem do gradiente na direção vertical.\n",
    "    * **ksize** corresponde ao tamanho do filtro.\n",
    "\n",
    "O uso dessas funções é consideravelmente vantajoso, pois as funções da biblioteca são extremamente otimizadas e de fácil utilização, viabilizando o uso de técnicas robustas como o Detector de Canny em um tempo de execução reduzido e sem necessidade de implementação."
   ]
  },
  {
   "cell_type": "code",
   "execution_count": null,
   "id": "7f0525cf",
   "metadata": {},
   "outputs": [],
   "source": [
    "# plots\n",
    "fig, axs = plt.subplots(nrows = 4, ncols = 2, figsize = (16, 24))\n",
    "\n",
    "for i in range(4):\n",
    "    \n",
    "    # imagem Original\n",
    "    filepath = lista[i]\n",
    "    src_img = cv2.imread(filepath, 0)\n",
    "    axs[i][0].imshow(src_img, cmap = \"gray\")\n",
    "    axs[i][0].set_title(\"Original\", fontsize = 16)\n",
    "    \n",
    "    # filtragem\n",
    "    dst_img = cv2.Canny(src_img, 90, 180, L2gradient = True )\n",
    "    axs[i][1].imshow(dst_img, vmin = 0, vmax = 255, cmap = \"gray\")\n",
    "    axs[i][1].set_title(\"Bordas Detectadas\", fontsize = 16)\n",
    "    axs[i][1].set_xlabel(str(np.unique(dst_img)), fontsize = 16)"
   ]
  },
  {
   "cell_type": "markdown",
   "id": "b7017f40",
   "metadata": {},
   "source": [
    "## <span style='color:blue'>Questão 5: [Valor da Questão: 1.0][Taxa de acerto: x.x]</span>\n",
    " \n",
    "* Meça o tempo de execução dos algoritmos de detecção de bordas de Canny e de Sobel disponibilizados pelo opencv e comente os resultados observados."
   ]
  },
  {
   "cell_type": "code",
   "execution_count": null,
   "id": "40e2c475",
   "metadata": {},
   "outputs": [],
   "source": [
    "ex_img = cv2.imread(\"imagens/Fig1049(a)(spot_shaded_text_image).tif\", 0 )\n",
    "print(\"ex_img.shape:\", ex_img.shape)"
   ]
  },
  {
   "cell_type": "code",
   "execution_count": null,
   "id": "e431a405",
   "metadata": {},
   "outputs": [],
   "source": [
    "%%timeit\n",
    "canny_output = cv2.Canny(ex_img, 90, 180, L2gradient = True )"
   ]
  },
  {
   "cell_type": "code",
   "execution_count": null,
   "id": "1376f135",
   "metadata": {},
   "outputs": [],
   "source": [
    "%%timeit\n",
    "sobel_x = cv2.convertScaleAbs(cv2.Sobel(ex_img, cv2.CV_16S, 1, 0, ksize=3))\n",
    "sobel_y = cv2.convertScaleAbs(cv2.Sobel(ex_img, cv2.CV_16S, 0, 1, ksize=3))\n",
    "sobel_output = sobel_x + sobel_y"
   ]
  },
  {
   "cell_type": "markdown",
   "id": "6a644757",
   "metadata": {},
   "source": [
    "|**Método Utilizado**|**Dimensão da Imagem**|**Tempo**|\n",
    "|:-|:-:|:-|\n",
    "|*Detecção de Sobel*|(686, 772)|2.16 ms ± 185 µs|\n",
    "|*Detecção de Canny*|(686, 772)|5.64 ms ± 1.39 ms|  "
   ]
  },
  {
   "cell_type": "markdown",
   "id": "c5d0e3c8",
   "metadata": {},
   "source": [
    "## <span style='color:green'>Respostas da Questão 5:</span>\n",
    "\n",
    "* Adicione sua resposta aqui."
   ]
  },
  {
   "cell_type": "markdown",
   "id": "ea5480fc",
   "metadata": {},
   "source": [
    " ## <span style='color:blue'>Questão 6: [Valor da Questão: 1.0][Taxa de acerto: x.x]</span>\n",
    "* Visualize algumas das figuras da pasta images na célula abaixo e comente as principais diferenças observadas entre as duas abordagens."
   ]
  },
  {
   "cell_type": "code",
   "execution_count": null,
   "id": "62ef4db6",
   "metadata": {},
   "outputs": [],
   "source": [
    "ex_img = cv2.imread(\"imagens/Fig1049(a)(spot_shaded_text_image).tif\", 0 )\n",
    "canny_output = cv2.Canny(ex_img, 90, 180, L2gradient = True )\n",
    "sobel_x = cv2.convertScaleAbs(cv2.Sobel(ex_img, cv2.CV_16S, 1, 0, ksize=3))\n",
    "sobel_y = cv2.convertScaleAbs(cv2.Sobel(ex_img, cv2.CV_16S, 0, 1, ksize=3))\n",
    "sobel_output = sobel_x + sobel_y\n",
    "\n",
    "# Plots\n",
    "fig, axs = plt.subplots(nrows = 1, ncols = 3, figsize=(16, 24))\n",
    "    \n",
    "# Imagem Original\n",
    "axs[1].imshow(ex_img, cmap=\"gray\")\n",
    "axs[1].set_title(\"Original\", fontsize = 16)\n",
    "\n",
    "# Filtragem\n",
    "axs[0].imshow(sobel_output, vmin = 0, vmax = 255, cmap=\"gray\")\n",
    "axs[0].set_title(\"Detector de Sobel\", fontsize = 16)\n",
    "\n",
    "# Filtragem\n",
    "axs[2].imshow(canny_output, vmin = 0, vmax = 255, cmap=\"gray\")\n",
    "axs[2].set_title(\"Detector de Canny\", fontsize = 16)"
   ]
  },
  {
   "cell_type": "code",
   "execution_count": null,
   "id": "1783ab9c",
   "metadata": {},
   "outputs": [],
   "source": [
    "ex_img = cv2.imread(\"imagens/dr_strange.jpg\", 0 )\n",
    "canny_output = cv2.Canny(ex_img, 90, 180, L2gradient = True )\n",
    "sobel_x = cv2.convertScaleAbs(cv2.Sobel(ex_img, cv2.CV_16S, 1, 0, ksize=3))\n",
    "sobel_y = cv2.convertScaleAbs(cv2.Sobel(ex_img, cv2.CV_16S, 0, 1, ksize=3))\n",
    "sobel_output = sobel_x + sobel_y\n",
    "\n",
    "# Plots\n",
    "fig, axs = plt.subplots(nrows = 1, ncols = 3, figsize=(16, 24))\n",
    "    \n",
    "# Imagem Original\n",
    "axs[1].imshow(ex_img, cmap=\"gray\")\n",
    "axs[1].set_title(\"Original\", fontsize = 16)\n",
    "\n",
    "# Filtragem\n",
    "axs[0].imshow(sobel_output, vmin = 0, vmax = 255, cmap=\"gray\")\n",
    "axs[0].set_title(\"Detector de Sobel\", fontsize = 16)\n",
    "\n",
    "# Filtragem\n",
    "axs[2].imshow(canny_output, vmin = 0, vmax = 255, cmap=\"gray\")\n",
    "axs[2].set_title(\"Detector de Canny\", fontsize = 16)"
   ]
  },
  {
   "cell_type": "code",
   "execution_count": null,
   "id": "9365e7ab",
   "metadata": {},
   "outputs": [],
   "source": [
    "ex_img = cv2.imread(\"imagens/shang_chi.jpg\", 0 )\n",
    "canny_output = cv2.Canny(ex_img, 90, 180, L2gradient = True )\n",
    "sobel_x = cv2.convertScaleAbs(cv2.Sobel(ex_img, cv2.CV_16S, 1, 0, ksize=3))\n",
    "sobel_y = cv2.convertScaleAbs(cv2.Sobel(ex_img, cv2.CV_16S, 0, 1, ksize=3))\n",
    "sobel_output = sobel_x + sobel_y\n",
    "\n",
    "# Plots\n",
    "fig, axs = plt.subplots(nrows = 1, ncols = 3, figsize=(16, 24))\n",
    "    \n",
    "# Imagem Original\n",
    "axs[1].imshow(ex_img, cmap=\"gray\")\n",
    "axs[1].set_title(\"Original\", fontsize = 16)\n",
    "\n",
    "# Filtragem\n",
    "axs[0].imshow(sobel_output, vmin = 0, vmax = 255, cmap=\"gray\")\n",
    "axs[0].set_title(\"Detector de Sobel\", fontsize = 16)\n",
    "\n",
    "# Filtragem\n",
    "axs[2].imshow(canny_output, vmin = 0, vmax = 255, cmap=\"gray\")\n",
    "axs[2].set_title(\"Detector de Canny\", fontsize = 16)"
   ]
  },
  {
   "cell_type": "code",
   "execution_count": null,
   "id": "88d28038",
   "metadata": {},
   "outputs": [],
   "source": [
    "ex_img = cv2.imread(\"imagens/cubo_magico.jpg\", 0 )\n",
    "canny_output = cv2.Canny(ex_img, 90, 180, L2gradient = True )\n",
    "sobel_x = cv2.convertScaleAbs(cv2.Sobel(ex_img, cv2.CV_16S, 1, 0, ksize=3))\n",
    "sobel_y = cv2.convertScaleAbs(cv2.Sobel(ex_img, cv2.CV_16S, 0, 1, ksize=3))\n",
    "sobel_output = sobel_x + sobel_y\n",
    "\n",
    "# Plots\n",
    "fig, axs = plt.subplots(nrows = 1, ncols = 3, figsize=(16, 24))\n",
    "    \n",
    "# Imagem Original\n",
    "axs[1].imshow(ex_img, cmap=\"gray\")\n",
    "axs[1].set_title(\"Original\", fontsize = 16)\n",
    "\n",
    "# Filtragem\n",
    "axs[0].imshow(sobel_output, vmin = 0, vmax = 255, cmap=\"gray\")\n",
    "axs[0].set_title(\"Detector de Sobel\", fontsize = 16)\n",
    "\n",
    "# Filtragem\n",
    "axs[2].imshow(canny_output, vmin = 0, vmax = 255, cmap=\"gray\")\n",
    "axs[2].set_title(\"Detector de Canny\", fontsize = 16)"
   ]
  },
  {
   "cell_type": "code",
   "execution_count": null,
   "id": "5f3e42df",
   "metadata": {},
   "outputs": [],
   "source": [
    "ex_img = cv2.imread(\"imagens/back_to_the_future.jpeg\", 0 )\n",
    "canny_output = cv2.Canny(ex_img, 90, 180, L2gradient = True )\n",
    "sobel_x = cv2.convertScaleAbs(cv2.Sobel(ex_img, cv2.CV_16S, 1, 0, ksize=3))\n",
    "sobel_y = cv2.convertScaleAbs(cv2.Sobel(ex_img, cv2.CV_16S, 0, 1, ksize=3))\n",
    "sobel_output = sobel_x + sobel_y\n",
    "\n",
    "# Plots\n",
    "fig, axs = plt.subplots(nrows = 1, ncols = 3, figsize=(16, 24))\n",
    "    \n",
    "# Imagem Original\n",
    "axs[1].imshow(ex_img, cmap=\"gray\")\n",
    "axs[1].set_title(\"Original\", fontsize = 16)\n",
    "\n",
    "# Filtragem\n",
    "axs[0].imshow(sobel_output, vmin = 0, vmax = 255, cmap=\"gray\")\n",
    "axs[0].set_title(\"Detector de Sobel\", fontsize = 16)\n",
    "\n",
    "# Filtragem\n",
    "axs[2].imshow(canny_output, vmin = 0, vmax = 255, cmap=\"gray\")\n",
    "axs[2].set_title(\"Detector de Canny\", fontsize = 16)"
   ]
  },
  {
   "cell_type": "code",
   "execution_count": null,
   "id": "d6cd2c40",
   "metadata": {},
   "outputs": [],
   "source": [
    "ex_img = cv2.imread(\"imagens/Fig0427(a)(woman).tif\", 0 )\n",
    "canny_output = cv2.Canny(ex_img, 90, 180, L2gradient = True )\n",
    "sobel_x = cv2.convertScaleAbs(cv2.Sobel(ex_img, cv2.CV_16S, 1, 0, ksize=3))\n",
    "sobel_y = cv2.convertScaleAbs(cv2.Sobel(ex_img, cv2.CV_16S, 0, 1, ksize=3))\n",
    "sobel_output = sobel_x + sobel_y\n",
    "\n",
    "# Plots\n",
    "fig, axs = plt.subplots(nrows = 1, ncols = 3, figsize=(16, 24))\n",
    "    \n",
    "# Imagem Original\n",
    "axs[1].imshow(ex_img, cmap=\"gray\")\n",
    "axs[1].set_title(\"Original\", fontsize = 16)\n",
    "\n",
    "# Filtragem\n",
    "axs[0].imshow(sobel_output, vmin = 0, vmax = 255, cmap=\"gray\")\n",
    "# Bons pesadelos!\n",
    "axs[0].set_title(\"Detector de Sobel\", fontsize = 16)\n",
    "\n",
    "# Filtragem\n",
    "axs[2].imshow(canny_output, vmin = 0, vmax = 255, cmap=\"gray\")\n",
    "axs[2].set_title(\"Detector de Canny\", fontsize = 16)"
   ]
  },
  {
   "cell_type": "markdown",
   "id": "c38ae6b7",
   "metadata": {},
   "source": [
    "## <span style='color:green'>Respostas da Questão 6:</span>\n",
    "\n",
    "* Adicione sua resposta aqui."
   ]
  },
  {
   "cell_type": "markdown",
   "id": "61e36a5a",
   "metadata": {},
   "source": [
    "***\n",
    "![image](https://user-images.githubusercontent.com/58775072/156389092-033499e1-688e-4a03-899a-e3db166c01d4.gif)"
   ]
  }
 ],
 "metadata": {
  "kernelspec": {
   "display_name": "Python 3 (ipykernel)",
   "language": "python",
   "name": "python3"
  },
  "language_info": {
   "codemirror_mode": {
    "name": "ipython",
    "version": 3
   },
   "file_extension": ".py",
   "mimetype": "text/x-python",
   "name": "python",
   "nbconvert_exporter": "python",
   "pygments_lexer": "ipython3",
   "version": "3.8.10"
  }
 },
 "nbformat": 4,
 "nbformat_minor": 5
}
