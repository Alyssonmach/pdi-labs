{
 "cells": [
  {
   "cell_type": "markdown",
   "id": "f9b60eb1",
   "metadata": {},
   "source": [
    "![banner-pdi](https://user-images.githubusercontent.com/58775072/141189378-b5df3287-e8c0-48a1-ad11-825ba317463b.png)"
   ]
  },
  {
   "cell_type": "markdown",
   "id": "6f98c037",
   "metadata": {},
   "source": [
    "## Universidade Federal de Campina Grande (UFCG)\n",
    "## Centro de Engenharia Elétrica e Informática (CEEI) \n",
    "## Disciplina: Int. ao Processamento de Imagem Digital e Visão Computacional\n",
    "## Professora: Luciana Ribeiro Veloso\n",
    "## Aluno(a): Coloque seu nome aqui"
   ]
  },
  {
   "cell_type": "markdown",
   "id": "ca683b69",
   "metadata": {},
   "source": [
    "# <span style=\"color:red\">Laboratório 3.2: Domínio da Frequência e Filtragem</span>\n",
    "***"
   ]
  },
  {
   "cell_type": "markdown",
   "id": "813a8eef",
   "metadata": {},
   "source": [
    "## Observações\n",
    "***\n",
    "\n",
    "1. Os arquivos de laboratório devem ser salvos seguindo o seguinte padrão: `lab-x-nome-sobrenome.ipynb`.\n",
    "2. Não esqueça de colocar o seu nome no cabeçalho acima.\n",
    "3. Não altere a ordem das células e realize as implementações somente nos campos específicados.  \n",
    "4. Ao longo do laboratório será solicitado perguntas teóricas relativas aos assuntos das aulas da disciplina e implementações de código utilizando a linguagem de programação Python. \n",
    "5. As células de implementação com código serão indicadas pelos seguintes comentários: `# IMPLEMENTE O SEU CÓDIGO AQUI`.\n",
    "6. Para editar uma célula de texto, basta clicar duas vezes com o cursos do mouse para editar, e `Ctrl + Enter` para finalizar a edição. \n",
    "7. Para rodar as células com os códigos desenvolvidos, digite `Ctrl + Enter` ou clique em `Run` no menu do Jupyter.\n",
    "8. Dúvidas, problemas de execução de código ou dificuldades com a linguagem de programação Python devem ser feitas durante as aulas de laboratório, encaminhadas para o grupo de WhatsApp da turma ou fórum do PVAE da disciplina.\n",
    "9. Os laboratórios devem ser enviados nos campos especificados pelo PVAE. ATENTE-SE AOS PRAZOS DE ENTREGA!"
   ]
  },
  {
   "cell_type": "markdown",
   "id": "e5b6ad02",
   "metadata": {},
   "source": [
    "### Importação dos Pacotes"
   ]
  },
  {
   "cell_type": "code",
   "execution_count": null,
   "id": "8f4784a5",
   "metadata": {},
   "outputs": [],
   "source": [
    "import os                            # operational System para manipulação de arquivos.\n",
    "import cv2                           # opencv para manipulação de imagens.\n",
    "import numpy as np                   # numpy para manipulação de matrizes e arrays.\n",
    "import matplotlib.pyplot as plt      # pyplot para plotagem de gráficos e imagens.\n",
    "from scipy.signal import convolve2d  # scipy para realização de convoluções 2D."
   ]
  },
  {
   "cell_type": "code",
   "execution_count": null,
   "id": "db22d370",
   "metadata": {},
   "outputs": [],
   "source": [
    "# baixando as imagens de referência (Caso ja tenha baixado no lab 2 não há necessidade de executar essa célula)\n",
    "url.urlretrieve('https://github.com/Alyssonmach/pdi-labs/raw/main/imagens.zip', 'imagens.zip')\n",
    "with zipfile.ZipFile('imagens.zip', 'r') as zip_ref:\n",
    "    zip_ref.extractall('')"
   ]
  },
  {
   "cell_type": "markdown",
   "id": "34f150e8",
   "metadata": {},
   "source": [
    "### Imagens no Domínio da Frequência\n",
    "\n",
    "Uma imagem pode ser convertida do domínio espacial para o domínio da frequência através de várias transformadas, sendo uma delas a transformada de Fourier bidimensional. A FFT bidimensional está disponível no pacote Numpy, sendo geralmente utilizada em conjunto de uma função para deslocar o componente de frequência zero para o centro do arranjo bidimensional resultante. Naturalmente, a transformada inversa, IFFT, também está disponível.\n",
    "\n",
    "* A FFT pode ser computada a partir de uma imagem por: **src_img_fft = np.fft.fft2( src_img )**\n",
    "* A versão transladada da FFT pode ser obtida por: **shifted_fft = np.fft.fftshift( src_img_fft )**\n",
    "* A IFFT pode ser obtida a partir de uma FFT com: **src_img = np.fft.ifft2( src_img_fft )**"
   ]
  },
  {
   "cell_type": "markdown",
   "id": "cbd6b2bb",
   "metadata": {},
   "source": [
    " ## <span style='color:blue'>Questão 1: [Valor da Questão: 2.0][Taxa de acerto: x.x]</span>"
   ]
  },
  {
   "cell_type": "markdown",
   "id": "54f4283b",
   "metadata": {},
   "source": [
    "* (a) O código abaixo utiliza as funções acima para misturar duas imagens:\n",
    "    * Qual componente das misturas retém mais informações referentes à imagem original? Justifique.\n",
    "* (b) A partir da imagem \"tiger.jpg\":\n",
    "    * Calcule sua FFT e analise os valores do seu espectro.\n",
    "    * Utilize a função fftshift para mover a origem da transformada para a região central e visualize novamente o espectro da FFT.\n",
    "    * Aplique o logaritmo ao espectro para melhorar a visualização da imagem.\n",
    "    * Calcule a IFFT da transformada após aplicar a translação. É possível reconhecer a imagem?"
   ]
  },
  {
   "cell_type": "code",
   "execution_count": null,
   "id": "fd9d8e20",
   "metadata": {
    "scrolled": true
   },
   "outputs": [],
   "source": [
    "#  IMPLEMENTE SEU CÓDIGO AQUI -> QUESTÃO 1 - letra (a)\n",
    "# carrega as imagens a e b como escala de cinza\n",
    "imagem_a = cv2.imread(\"imagens/elaine.512.tiff\", 0)\n",
    "imagem_b = cv2.imread(\"imagens/leon.jpg\", 0)\n",
    "\n",
    "# redimenciona a imagem b para ter o mesmo tamanho da imagem a\n",
    "im_b =cv2.resize(imagem_b, (imagem_a.shape[0], imagem_a.shape[1]))\n",
    "\n",
    "# aplica a transformada rápida de fourier\n",
    "fft_a = np.fft.fft2(imagem_a)\n",
    "fft_b = np.fft.fft2(im_b)\n",
    "\n",
    "# aplica translação às transformadas\n",
    "fft_a_shift = np.fft.fftshift(fft_a)\n",
    "fft_b_shift = np.fft.fftshift(fft_b)\n",
    "\n",
    "# combina as imagens\n",
    "fft_c = np.abs(fft_a) * np.exp(1j * np.angle(fft_b))\n",
    "fft_d = np.abs(fft_b) * np.exp(1j * np.angle(fft_a))\n",
    "\n",
    "# aplica a transformada inversa\n",
    "imagem_c = np.fft.ifft2(fft_c).real\n",
    "imagem_d = np.fft.ifft2(fft_d).real\n",
    "\n",
    "imagem_c = (255 * ((imagem_c - np.min(imagem_c )) / np.max(imagem_c - np.min(imagem_c )))).astype(np.uint8)\n",
    "print(imagem_c.dtype)\n",
    "\n",
    "fig, axs = plt.subplots(nrows = 2, ncols = 4, figsize=(16, 10))\n",
    "\n",
    "# primeira subfigura da primeira linha\n",
    "axs[0][0].imshow(imagem_a, cmap=\"gray\")\n",
    "axs[0][0].set_title(\"Imagem A\", fontsize = 16)\n",
    "axs[0][0].set_xlabel(\"Shape: {}\".format(imagem_a.shape), fontsize = 16)\n",
    "\n",
    "# segunda subfigura da primeira linha\n",
    "axs[0][1].imshow(np.log( np.abs(fft_a_shift)+1 ), cmap=\"gray\")\n",
    "axs[0][1].set_title(\"Módulo da FFT de A c/ Translação\")\n",
    "axs[0][1].set_xlabel(\"Shape: {}\".format(fft_a_shift.shape), fontsize = 16)\n",
    "\n",
    "# terceira subfigura da primeira linha\n",
    "axs[0][2].imshow(np.angle(fft_a_shift), cmap=\"gray\")\n",
    "axs[0][2].set_title(\"Fase da FFT de A c/ Translação\")\n",
    "axs[0][2].set_xlabel(\"Shape: {}\".format(imagem_a.shape), fontsize = 16)\n",
    "\n",
    "# quarta subfigura da primeira linha\n",
    "axs[0][3].imshow(imagem_c, cmap=\"gray\")\n",
    "axs[0][3].set_title(\"Imagem C\", fontsize = 16)\n",
    "axs[0][3].set_xlabel(\"Shape: {}\".format(imagem_c.shape), fontsize = 16)\n",
    "\n",
    "# primeira subfigura da segunda linha\n",
    "axs[1][0].imshow(im_b, cmap=\"gray\")\n",
    "axs[1][0].set_title(\"Imagem B c/ Zero Padding\", fontsize = 16)\n",
    "axs[1][0].set_xlabel(\"Shape: {}\".format(im_b.shape), fontsize = 16)\n",
    "\n",
    "# segunda subfigura da segunda linha\n",
    "axs[1][1].imshow(np.log( np.abs(fft_b_shift)+1 ), cmap=\"gray\")\n",
    "axs[1][1].set_title(\"Módulo da FFT de B c/ Translação\")\n",
    "axs[1][1].set_xlabel(\"Shape: {}\".format(fft_b_shift.shape), fontsize = 16)\n",
    "\n",
    "# terceira subfigura da segunda linha\n",
    "axs[1][2].imshow(np.angle(fft_b_shift), cmap=\"gray\")\n",
    "axs[1][2].set_title(\"Fase da FFT de B c/ Translação\")\n",
    "axs[1][2].set_xlabel(\"Shape: {}\".format(fft_b_shift.shape), fontsize = 16)\n",
    "\n",
    "# quarta subfigura da segunda linha\n",
    "axs[1][3].imshow(imagem_d, cmap=\"gray\")\n",
    "axs[1][3].set_title(\"Imagem d\", fontsize = 16)\n",
    "axs[1][3].set_xlabel(\"Shape: {}\".format(imagem_d.shape), fontsize = 16)"
   ]
  },
  {
   "cell_type": "code",
   "execution_count": null,
   "id": "c10ac9fe",
   "metadata": {},
   "outputs": [],
   "source": [
    "#  IMPLEMENTE SEU CÓDIGO AQUI -> QUESTÃO 1 - LETRA (b)"
   ]
  },
  {
   "cell_type": "markdown",
   "id": "e9854c39",
   "metadata": {},
   "source": [
    "## <span style='color:green'>Respostas da Questão 1:</span>\n",
    "\n",
    "* (a) Adicione sua resposta aqui.\n",
    "* (b) Adicione sua resposta aqui."
   ]
  },
  {
   "cell_type": "markdown",
   "id": "991131d8",
   "metadata": {},
   "source": [
    "### Filtragem em Frequência"
   ]
  },
  {
   "cell_type": "markdown",
   "id": "d9e6607b",
   "metadata": {},
   "source": [
    "Conforme visto nas aulas de PDI, imagens também podem ser filtradas no domínio da frequência utilizando FFT, uma abordagem mais condizente com o termo \"filtragem\". Para realizar a filtragem, é necessário realizar os seguintes passos:\n",
    "\n",
    "1. Obter os parâmetros de preenchimento Mp e Np. \n",
    "2. Realizar o preenchimento da imagem de entrada.\n",
    "3. Calcular a FFT da imagem de entrada.\n",
    "4. Aplicar a translação para centralizar a transformada da imagem.\n",
    "5. Realizar o preenchimento do filtro utilizado.\n",
    "6. Calcular a FFT do filtro utilizado.\n",
    "7. Aplicar a translação para centralizar a transformada do filtro.\n",
    "8. Obter a FFT da imagem filtrada a partir do produto entre as FFTs da imagem e do filtro.\n",
    "9. Desfazer a translação e realizar a transformada inversa.\n",
    "\n",
    "Esse procedimento é realizado nas duas células a seguir, em que a primeira célula define algumas funções auxiliares e a segunda realiza a filtragem em frequência e a filtragem no espaço para que se possa comparar os resultados."
   ]
  },
  {
   "cell_type": "code",
   "execution_count": null,
   "id": "d7d622de",
   "metadata": {},
   "outputs": [],
   "source": [
    "# essa célula contém funções auxiliares para a realização da filtragem em frequência.\n",
    "def get_2d_gaussian_kernel(size, sigma, dtype = cv2.CV_32F):\n",
    "    '''essa função retorna um filtro gaussiano 2d com base no tamanho e sgima especificados.'''\n",
    "    \n",
    "    # produz filtros 1d nas direções x e y\n",
    "    kernel_y = cv2.getGaussianKernel(size, sigma, ktype = dtype)\n",
    "    kernel_x = cv2.getGaussianKernel(size, sigma, ktype = dtype).T\n",
    "    \n",
    "    # retorna o produto matricial dos filtros para produzir um filtro 2d\n",
    "    return np.dot( kernel_y, kernel_x )\n",
    "\n",
    "def paddedsize(src_img, kernel):\n",
    "    '''essa função determina o menor tamanho apropriado para a realização da \n",
    "    filtragem em frequência a partir de uma imagem (scr_img) e um filtro (kernel)'''\n",
    "    \n",
    "    # extrai as dimensões da imagem e do filtro\n",
    "    H_i, W_i = src_img.shape\n",
    "    H_k, W_k = kernel.shape\n",
    "    \n",
    "    # encontra o menor tamanho que satisfaz as condições de filtragem\n",
    "    H = H_i + H_k -1\n",
    "    W = W_i + W_k -1\n",
    "    \n",
    "    # ajusta H e W para que sejam pares\n",
    "    H = (H+1) if H % 2 != 0 else H\n",
    "    W = (W+1) if W % 2 != 0 else W\n",
    "    \n",
    "    return H, W\n",
    "\n",
    "def apply_padding(img, shape, dtype):\n",
    "    '''essa função aplica zero-padding em uma imagem com base no shape fornecido'''\n",
    "    \n",
    "    padded = np.zeros(shape, dtype)\n",
    "    padded[:img.shape[0], :img.shape[1]] = img\n",
    "    \n",
    "    return padded"
   ]
  },
  {
   "cell_type": "markdown",
   "id": "3f25bcc5",
   "metadata": {},
   "source": [
    " ## <span style='color:blue'>Questão 2: [Valor da Questão: 2.0][Taxa de acerto: x.x]</span>\n",
    " \n",
    "* O código abaixo realiza a filtragem a partir de um filtro passa-baixas Gaussiano:\n",
    "    * (a) Que elementos na FFT do filtro permitem identificar que se trata de um filtro passa-baixas?\n",
    "    * (b) Ajuste o tamanho do filtro a partir da variável ksize e comente o que acontece com o módulo da sua FFT."
   ]
  },
  {
   "cell_type": "code",
   "execution_count": null,
   "id": "2225a6c9",
   "metadata": {},
   "outputs": [],
   "source": [
    "# imagem a ser filtrada\n",
    "src_img  = cv2.imread('imagens/boat.512.tiff', 0)\n",
    "\n",
    "# filtro utilizado\n",
    "sigma  = 0\n",
    "ksize  = 7\n",
    "kernel = get_2d_gaussian_kernel( ksize, sigma)\n",
    "\n",
    "# Encontra o tamanho minimo das imagens\n",
    "H, W = paddedsize(src_img, kernel)\n",
    "\n",
    "# aplica padding na imagem e no filtro\n",
    "pad_img = apply_padding(src_img, (H, W), np.float64)\n",
    "pad_knl = apply_padding(kernel,  (H, W), np.float64)\n",
    "\n",
    "# aplica a transformada\n",
    "img_fft = np.fft.fft2( pad_img )\n",
    "knl_fft = np.fft.fft2( pad_knl )\n",
    "\n",
    "# aplica translação para centralizar a imagem\n",
    "img_shift = np.fft.fftshift( img_fft )\n",
    "knl_shift = np.fft.fftshift( knl_fft )\n",
    "\n",
    "# multiplica para realizar a filtragem\n",
    "dst_shift = img_shift * knl_shift\n",
    "\n",
    "# desfaz a translação e obtém a imagem correspondente no domínio do tempo a partir da IFFT\n",
    "dst_fft = np.fft.ifftshift( dst_shift )\n",
    "frq_dst_img = np.fft.ifft2( dst_fft ).real\n",
    "\n",
    "# filtragem no espaço\n",
    "spa_dst_img  = convolve2d( src_img, kernel, mode = \"full\", boundary = \"fill\", fillvalue = 0).astype(np.float64)\n",
    "\n",
    "# FFT para obter a resposta em frequência da convolução no espaço\n",
    "pad_spa_dst_img   = apply_padding(spa_dst_img, (H, W), np.float64)\n",
    "spa_dst_img_fft   = np.fft.fft2( pad_spa_dst_img )\n",
    "spa_dst_img_shift = np.fft.fftshift( spa_dst_img_fft )\n",
    "\n",
    "fig, axs = plt.subplots(nrows = 4, ncols = 3, figsize = (16, 24))\n",
    "\n",
    "axs[0][0].imshow(pad_img, cmap = \"gray\")\n",
    "axs[0][0].set_title(\"Imagem Original\", fontsize = 16)\n",
    "axs[0][0].set_xlabel(\"Shape: {}\".format(pad_img.shape), fontsize = 16)\n",
    "\n",
    "axs[0][1].imshow( np.log(np.abs(img_shift)+1) , cmap = \"gray\")\n",
    "axs[0][1].set_title(\"Log do Módulo da FFT da Img\")\n",
    "axs[0][1].set_xlabel(\"Shape: {}\".format(img_shift.shape), fontsize = 16)\n",
    "\n",
    "axs[0][2].imshow(np.angle(img_shift), cmap = \"gray\")\n",
    "axs[0][2].set_title(\"Fase da FFT da Img\")\n",
    "axs[0][2].set_xlabel(\"Shape: {}\".format(img_shift.shape), fontsize = 16)\n",
    "\n",
    "axs[1][0].imshow(pad_knl, cmap=\"gray\")\n",
    "axs[1][0].set_title(\"Filtro Original\", fontsize = 16)\n",
    "axs[1][0].set_xlabel(\"Shape: {}\".format(pad_knl.shape), fontsize = 16)\n",
    "\n",
    "axs[1][1].imshow( np.log(np.abs(knl_shift)+1) , cmap = \"gray\")\n",
    "axs[1][1].set_title(\"Log do Módulo da FFT do Filtro\")\n",
    "axs[1][1].set_xlabel(\"Shape: {}\".format(knl_shift.shape), fontsize = 16)\n",
    "\n",
    "axs[1][2].imshow(np.angle(knl_shift), cmap = \"gray\")\n",
    "axs[1][2].set_title(\"Fase da FFT do Filtro\")\n",
    "axs[1][2].set_xlabel(\"Shape: {}\".format(knl_shift.shape), fontsize = 16)\n",
    "\n",
    "axs[2][0].imshow(frq_dst_img, cmap = \"gray\")\n",
    "axs[2][0].set_title(\"Imagem Filtrada na Frequência\", fontsize = 16)\n",
    "axs[2][0].set_xlabel(\"Shape: {}\".format(frq_dst_img.shape), fontsize = 16)\n",
    "\n",
    "axs[2][1].imshow( np.log(np.abs(dst_shift)+1) , cmap = \"gray\")\n",
    "axs[2][1].set_title(\"Log do Módulo da FFT da Img Filtrada\")\n",
    "axs[2][1].set_xlabel(\"Shape: {}\".format(dst_shift.shape), fontsize = 16)\n",
    "\n",
    "axs[2][2].imshow(np.angle(dst_shift), cmap = \"gray\")\n",
    "axs[2][2].set_title(\"Fase da FFT da Img Filtrada\")\n",
    "axs[2][2].set_xlabel(\"Shape: {}\".format(dst_shift.shape), fontsize = 16)\n",
    "\n",
    "axs[3][0].imshow(spa_dst_img, cmap = \"gray\")\n",
    "axs[3][0].set_title(\"Imagem Filtrada no Espaço\", fontsize = 16)\n",
    "axs[3][0].set_xlabel(\"Shape: {}\".format(spa_dst_img.shape), fontsize = 16)\n",
    "\n",
    "axs[3][1].imshow( np.log(np.abs(spa_dst_img_shift)+1) , cmap = \"gray\")\n",
    "axs[3][1].set_title(\"Log do Módulo da FFT da Img Filtrada\")\n",
    "axs[3][1].set_xlabel(\"Shape: {}\".format(spa_dst_img_shift.shape), fontsize = 16)\n",
    "\n",
    "axs[3][2].imshow(np.angle(spa_dst_img_shift), cmap = \"gray\")\n",
    "axs[3][2].set_title(\"Fase da FFT da Img Filtrada\")\n",
    "axs[3][2].set_xlabel(\"Shape: {}\".format(spa_dst_img_shift.shape), fontsize = 16)"
   ]
  },
  {
   "cell_type": "markdown",
   "id": "f489aa92",
   "metadata": {},
   "source": [
    "## <span style='color:green'>Respostas da Questão 2:</span>\n",
    "\n",
    "* (a) Adicione sua resposta aqui.\n",
    "* (b) Adicione sua resposta aqui."
   ]
  },
  {
   "cell_type": "markdown",
   "id": "116fe6ca",
   "metadata": {},
   "source": [
    "* **Observe que a filtragem em frequência foi equivalente a uma filtragem espacial utilizando convoluções do tipo \"full\", o que resulta em uma borda escura em torno da imagem de saída e de uma imagem de saída pouco maior que a imagem de entrada.**\n",
    "* **Se quiséssemos uma convolução do tipo \"same\" ou \"valid\", bastaria recortar a imagem de saída para eliminar elementos da borda e obteríamos imagens idênticas.**"
   ]
  },
  {
   "cell_type": "markdown",
   "id": "4efa60bd",
   "metadata": {},
   "source": [
    "## <span style='color:blue'>Questão 3: [Valor da Questão: 2.0][Taxa de acerto: x.x]</span>\n",
    "\n",
    "* O código abaixo ilustra a magnitude da FFT de diversos filtros. Classifique-os em filtros passa-baixas e filtros passa-altas. Justifique."
   ]
  },
  {
   "cell_type": "code",
   "execution_count": null,
   "id": "52d1e075",
   "metadata": {},
   "outputs": [],
   "source": [
    "# filtro da média\n",
    "mean_filter  = np.ones((3, 3)) / 9\n",
    "\n",
    "# filtro gaussiano\n",
    "gauss_filter = get_2d_gaussian_kernel(5, 0)\n",
    "\n",
    "# filtros de detecção de borda\n",
    "# scharr in x-direction\n",
    "scharr_filter = np.array([[-3, 0, 3], [-10,0,10], [-3, 0, 3]])\n",
    "\n",
    "# sobel in x direction\n",
    "sobel_x = np.array([[-1, 0, 1], [-2, 0, 2], [-1, 0, 1]])\n",
    "\n",
    "# sobel in y direction\n",
    "sobel_y = np.array([[-1,-2,-1], [0, 0, 0], [1, 2, 1]])\n",
    "\n",
    "# laplacian\n",
    "laplacian = np.array([[0, 1, 0], [1,-4, 1], [0, 1, 0]])\n",
    "\n",
    "# lista os filtros\n",
    "filters = [mean_filter, gauss_filter, laplacian, sobel_x, sobel_y, scharr_filter]\n",
    "\n",
    "# lista os nomes dos filtros\n",
    "filter_name = [\"Filtro da Média\", \"Filtro Gaussiano\",\"Filtro Laplaciano\", \"Filtro Sobel X\", \"Filtro Sobel Y\", \"Scharr X\"]\n",
    "\n",
    "# computa a FFT dos filtros da lista\n",
    "fft_filters = [np.fft.fft2(x, (128,128)) for x in filters]\n",
    "\n",
    "# aplica fftshift na FFT de cada filtro\n",
    "fft_shift = [np.fft.fftshift(y) for y in fft_filters]\n",
    "\n",
    "# obtém a magnitude da FFT de cada filtro\n",
    "mag_spectrum = [np.log(np.abs(z)+1) for z in fft_shift]\n",
    "\n",
    "fig, axs = plt.subplots(nrows = 2, ncols = 3, figsize=(16, 12))\n",
    "\n",
    "# plota todos os filtros\n",
    "for i, ax in enumerate(axs.flat):\n",
    "    plt.sca(ax)\n",
    "    plt.imshow(mag_spectrum[i], cmap = 'gray')\n",
    "    plt.title(filter_name[i]), plt.xticks([]), plt.yticks([])"
   ]
  },
  {
   "cell_type": "markdown",
   "id": "875f6ed0",
   "metadata": {},
   "source": [
    "## <span style='color:green'>Respostas da Questão 3:</span>\n",
    "\n",
    "* Adicione sua resposta aqui."
   ]
  },
  {
   "cell_type": "markdown",
   "id": "47c7ee5c",
   "metadata": {},
   "source": [
    " ## <span style='color:blue'>Questão 4: [Valor da Questão: 2.0][Taxa de acerto: x.x]</span>\n",
    "\n",
    "* Substitua no código abaixo kernel pelos filtros acima e teste os resultados. Utilize quantas células for necessário."
   ]
  },
  {
   "cell_type": "code",
   "execution_count": null,
   "id": "e67a7daf",
   "metadata": {},
   "outputs": [],
   "source": [
    "# SUBSTITUA OS FILTROS AQUI --> QUESTÃO 4 \n",
    "# imagem a ser filtrada\n",
    "src_img  = cv2.imread(\"imagens/boat.512.tiff\", 0 )\n",
    " \n",
    "# filtro utilizado\n",
    "kernel = # adicione o filtro aqui\n",
    "\n",
    "# encontra o tamanho minimo das imagens\n",
    "H, W = paddedsize(src_img, kernel)\n",
    "\n",
    "# aplica padding na imagem e no filtro\n",
    "pad_img = apply_padding(src_img, (H, W), np.float64)\n",
    "pad_knl = apply_padding(kernel,  (H, W), np.float64)\n",
    "\n",
    "# aplica a transformada\n",
    "img_fft = np.fft.fft2(pad_img)\n",
    "knl_fft = np.fft.fft2(pad_knl)\n",
    "\n",
    "# aplica translação para centralizar a imagem\n",
    "img_shift = np.fft.fftshift(img_fft)\n",
    "knl_shift = np.fft.fftshift(knl_fft)\n",
    "\n",
    "# multiplica para realizar a filtragem\n",
    "dst_shift = img_shift * knl_shift\n",
    "\n",
    "# desfaz a translação e obtém a imagem correspondente no domínio do tempo a partir da IFFT\n",
    "dst_fft = np.fft.ifftshift(dst_shift)\n",
    "frq_dst_img = np.fft.ifft2(dst_fft ).real\n",
    "\n",
    "# filtragem no espaço\n",
    "spa_dst_img  = convolve2d(src_img, kernel, mode = \"full\", boundary = \"fill\", fillvalue = 0).astype(np.float64)\n",
    "\n",
    "# FFT para obter a resposta em frequência da convolução no espaço\n",
    "pad_spa_dst_img   = apply_padding(spa_dst_img, (H, W), np.float64)\n",
    "spa_dst_img_fft   = np.fft.fft2( pad_spa_dst_img )\n",
    "spa_dst_img_shift = np.fft.fftshift( spa_dst_img_fft )\n",
    "\n",
    "fig, axs = plt.subplots(nrows = 4, ncols = 3, figsize=(16, 24))\n",
    "\n",
    "axs[0][0].imshow(pad_img, cmap=\"gray\")\n",
    "axs[0][0].set_title(\"Imagem Original\", fontsize = 16)\n",
    "axs[0][0].set_xlabel(\"Shape: {}\".format(pad_img.shape), fontsize = 16)\n",
    "\n",
    "axs[0][1].imshow( np.log(np.abs(img_shift)+1) , cmap=\"gray\" )\n",
    "axs[0][1].set_title(\"Log do Módulo da FFT da Img\")\n",
    "axs[0][1].set_xlabel(\"Shape: {}\".format(img_shift.shape), fontsize = 16)\n",
    "\n",
    "axs[0][2].imshow(np.angle(img_shift), cmap=\"gray\")\n",
    "axs[0][2].set_title(\"Fase da FFT da Img\")\n",
    "axs[0][2].set_xlabel(\"Shape: {}\".format(img_shift.shape), fontsize = 16)\n",
    "\n",
    "axs[1][0].imshow(pad_knl, vmin=0, vmax=1, cmap=\"gray\")\n",
    "axs[1][0].set_title(\"Filtro da Média\", fontsize = 16)\n",
    "axs[1][0].set_xlabel(\"Shape: {}\".format(pad_knl.shape), fontsize = 16)\n",
    "\n",
    "axs[1][1].imshow( np.log(np.abs(knl_shift)+1) , cmap=\"gray\" )\n",
    "axs[1][1].set_title(\"Log do Módulo da FFT do Filtro\")\n",
    "axs[1][1].set_xlabel(\"Shape: {}\".format(knl_shift.shape), fontsize = 16)\n",
    "\n",
    "axs[1][2].imshow(np.angle(knl_shift), cmap=\"gray\")\n",
    "axs[1][2].set_title(\"Fase da FFT do Filtro\")\n",
    "axs[1][2].set_xlabel(\"Shape: {}\".format(knl_shift.shape), fontsize = 16)\n",
    "\n",
    "axs[2][0].imshow(frq_dst_img, cmap=\"gray\")\n",
    "axs[2][0].set_title(\"Imagem Filtrada na Frequência\", fontsize = 16)\n",
    "axs[2][0].set_xlabel(\"Shape: {}\".format(frq_dst_img.shape), fontsize = 16)\n",
    "\n",
    "axs[2][1].imshow( np.log(np.abs(dst_shift)+1) , cmap=\"gray\" )\n",
    "axs[2][1].set_title(\"Log do Módulo da FFT da Img Filtrada\")\n",
    "axs[2][1].set_xlabel(\"Shape: {}\".format(dst_shift.shape), fontsize = 16)\n",
    "\n",
    "axs[2][2].imshow(np.angle(dst_shift), cmap=\"gray\")\n",
    "axs[2][2].set_title(\"Fase da FFT da Img Filtrada\")\n",
    "axs[2][2].set_xlabel(\"Shape: {}\".format(dst_shift.shape), fontsize = 16)\n",
    "\n",
    "axs[3][0].imshow(spa_dst_img, cmap=\"gray\")\n",
    "axs[3][0].set_title(\"Imagem Filtrada no Espaço\", fontsize = 16)\n",
    "axs[3][0].set_xlabel(\"Shape: {}\".format(spa_dst_img.shape), fontsize = 16)\n",
    "\n",
    "axs[3][1].imshow( np.log(np.abs(spa_dst_img_shift)+1) , cmap=\"gray\" )\n",
    "axs[3][1].set_title(\"Log do Módulo da FFT da Img Filtrada\")\n",
    "axs[3][1].set_xlabel(\"Shape: {}\".format(spa_dst_img_shift.shape), fontsize = 16)\n",
    "\n",
    "axs[3][2].imshow(np.angle(spa_dst_img_shift), cmap=\"gray\")\n",
    "axs[3][2].set_title(\"Fase da FFT da Img Filtrada\")\n",
    "axs[3][2].set_xlabel(\"Shape: {}\".format(spa_dst_img_shift.shape), fontsize = 16)"
   ]
  },
  {
   "cell_type": "markdown",
   "id": "71500eae",
   "metadata": {},
   "source": [
    "### Tempo de processamento"
   ]
  },
  {
   "cell_type": "markdown",
   "id": "b9dfdb98",
   "metadata": {},
   "source": [
    "Observe que o tamanho dos filtros é uma variável de baixo impacto no número de operações realizado na filtragem em frequência, o que não pode ser dito para a filtragem no espaço. Para medir o impacto desse fenômeno sobre o tempo de execução dos algoritmos, as células abaixo utilizam a mágica **%%timeit**, que computa o tempo médio de execução de uma célula."
   ]
  },
  {
   "cell_type": "code",
   "execution_count": null,
   "id": "0e015005",
   "metadata": {},
   "outputs": [],
   "source": [
    "def freq_filt(src_img, kernel):\n",
    "    '''essa função realiza a filtragem em frequência a partir de uma imagem (src_img) e um filtro (kernel).'''\n",
    "    \n",
    "    # encontra o tamanho minimo das imagens\n",
    "    H, W = paddedsize(src_img, kernel)\n",
    "    \n",
    "    # aplica padding na imagem e no filtro\n",
    "    pad_img = apply_padding(src_img, (H, W), np.float64)\n",
    "    pad_knl = apply_padding(kernel, (H, W), np.float64)\n",
    "    \n",
    "    # aplica a transformada\n",
    "    img_fft = np.fft.fft2(pad_img)\n",
    "    knl_fft = np.fft.fft2(pad_knl)\n",
    "    \n",
    "    # aplica translação para centralizar a imagem\n",
    "    img_shift = np.fft.fftshift(img_fft)\n",
    "    knl_shift = np.fft.fftshift(knl_fft)\n",
    "    \n",
    "    # multiplica para realizar a filtragem\n",
    "    dst_shift = img_shift * knl_shift\n",
    "    \n",
    "    # desfaz a translação\n",
    "    dst_fft = np.fft.ifftshift(dst_shift)\n",
    "    dst_img = np.fft.ifft2(dst_fft).real\n",
    "    \n",
    "    return dst_img"
   ]
  },
  {
   "cell_type": "markdown",
   "id": "8896d527",
   "metadata": {},
   "source": [
    " ## <span style='color:blue'>Questão 5: [Valor da Questão: 2.0][Taxa de acerto: x.x]</span>\n",
    "* Execute as células abaixo utilizando filtros de lado 3, 7, 11 e 25 e comente os resultados observados."
   ]
  },
  {
   "cell_type": "code",
   "execution_count": null,
   "id": "775dca3c",
   "metadata": {},
   "outputs": [],
   "source": [
    "ksize = 3\n",
    "sigma = 0\n",
    "kernel = get_2d_gaussian_kernel( ksize, sigma )\n",
    "lenna = cv2.imread(\"imagens/lenna.tif\", 0 )\n",
    "print(\"lenna.shape:\", lenna.shape)"
   ]
  },
  {
   "cell_type": "code",
   "execution_count": null,
   "id": "5a936190",
   "metadata": {},
   "outputs": [],
   "source": [
    "%%timeit\n",
    "output = convolve2d( lenna, kernel, mode=\"full\", boundary=\"fill\", fillvalue=0 ).astype(np.float64)"
   ]
  },
  {
   "cell_type": "code",
   "execution_count": null,
   "id": "a8f01f75",
   "metadata": {},
   "outputs": [],
   "source": [
    "%%timeit\n",
    "output = freq_filt( lenna, kernel )"
   ]
  },
  {
   "cell_type": "code",
   "execution_count": null,
   "id": "21016487",
   "metadata": {},
   "outputs": [],
   "source": [
    "ksize = 7\n",
    "sigma = 0\n",
    "kernel = get_2d_gaussian_kernel( ksize, sigma)\n",
    "lenna = cv2.imread(\"imagens/lenna.tif\", 0)\n",
    "print(\"lenna.shape:\", lenna.shape)"
   ]
  },
  {
   "cell_type": "code",
   "execution_count": null,
   "id": "f9c19d06",
   "metadata": {},
   "outputs": [],
   "source": [
    "%%timeit\n",
    "output = convolve2d( lenna, kernel, mode=\"full\", boundary=\"fill\", fillvalue=0 ).astype(np.float64)"
   ]
  },
  {
   "cell_type": "code",
   "execution_count": null,
   "id": "7d8ec1d6",
   "metadata": {},
   "outputs": [],
   "source": [
    "%%timeit\n",
    "output = freq_filt( lenna, kernel )"
   ]
  },
  {
   "cell_type": "code",
   "execution_count": null,
   "id": "476ab66b",
   "metadata": {},
   "outputs": [],
   "source": [
    "ksize = 11\n",
    "sigma = 0\n",
    "kernel = get_2d_gaussian_kernel(ksize, sigma)\n",
    "lenna = cv2.imread(\"imagens/lenna.tif\", 0)\n",
    "print(\"lenna.shape:\", lenna.shape)"
   ]
  },
  {
   "cell_type": "code",
   "execution_count": null,
   "id": "227d9911",
   "metadata": {},
   "outputs": [],
   "source": [
    "%%timeit\n",
    "output = convolve2d(lenna, kernel, mode=\"full\", boundary=\"fill\", fillvalue=0 ).astype(np.float64)"
   ]
  },
  {
   "cell_type": "code",
   "execution_count": null,
   "id": "7f778b92",
   "metadata": {},
   "outputs": [],
   "source": [
    "%%timeit\n",
    "output = freq_filt(lenna, kernel)"
   ]
  },
  {
   "cell_type": "code",
   "execution_count": null,
   "id": "c3261cd8",
   "metadata": {},
   "outputs": [],
   "source": [
    "ksize = 25\n",
    "sigma = 0\n",
    "kernel = get_2d_gaussian_kernel(ksize, sigma)\n",
    "lenna = cv2.imread(\"imagens/lenna.tif\", 0)\n",
    "print(\"lenna.shape:\", lenna.shape)"
   ]
  },
  {
   "cell_type": "code",
   "execution_count": null,
   "id": "ec871bc8",
   "metadata": {},
   "outputs": [],
   "source": [
    "%%timeit\n",
    "output = convolve2d( lenna, kernel, mode=\"full\", boundary=\"fill\", fillvalue=0 ).astype(np.float64)"
   ]
  },
  {
   "cell_type": "code",
   "execution_count": null,
   "id": "2f21becc",
   "metadata": {},
   "outputs": [],
   "source": [
    "%%timeit\n",
    "output = freq_filt(lenna, kernel)"
   ]
  },
  {
   "cell_type": "markdown",
   "id": "13cc1527",
   "metadata": {},
   "source": [
    "## <span style='color:green'>Respostas da Questão 4:</span>\n",
    "* Adicione sua resposta aqui."
   ]
  },
  {
   "cell_type": "markdown",
   "id": "c3eafd4d",
   "metadata": {},
   "source": [
    "***\n",
    "![cat](https://user-images.githubusercontent.com/58775072/135619414-a3044859-b099-46dc-aa61-fe32c72ee8fe.gif)"
   ]
  }
 ],
 "metadata": {
  "kernelspec": {
   "display_name": "Python 3 (ipykernel)",
   "language": "python",
   "name": "python3"
  },
  "language_info": {
   "codemirror_mode": {
    "name": "ipython",
    "version": 3
   },
   "file_extension": ".py",
   "mimetype": "text/x-python",
   "name": "python",
   "nbconvert_exporter": "python",
   "pygments_lexer": "ipython3",
   "version": "3.8.10"
  }
 },
 "nbformat": 4,
 "nbformat_minor": 5
}
