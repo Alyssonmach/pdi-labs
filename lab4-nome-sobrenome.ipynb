{
 "cells": [
  {
   "cell_type": "markdown",
   "id": "2ddec1f4",
   "metadata": {},
   "source": [
    "![banner-pdi](https://user-images.githubusercontent.com/58775072/141189378-b5df3287-e8c0-48a1-ad11-825ba317463b.png)"
   ]
  },
  {
   "cell_type": "markdown",
   "id": "bbc571da",
   "metadata": {},
   "source": [
    "## Universidade Federal de Campina Grande (UFCG)\n",
    "## Centro de Engenharia Elétrica e Informática (CEEI) \n",
    "## Disciplina: Int. ao Processamento de Imagem Digital e Visão Computacional\n",
    "## Professora: Luciana Ribeiro Veloso\n",
    "## Aluno(a): Coloque seu nome aqui"
   ]
  },
  {
   "cell_type": "markdown",
   "id": "8874a721",
   "metadata": {},
   "source": [
    "## Observações\n",
    "***\n",
    "\n",
    "1. Os arquivos de laboratório devem ser salvos seguindo o seguinte padrão: `lab-x-nome-sobrenome.ipynb`.\n",
    "2. Não esqueça de colocar o seu nome no cabeçalho acima.\n",
    "3. Não altere a ordem das células e realize as implementações somente nos campos específicados.  \n",
    "4. Ao longo do laboratório será solicitado perguntas teóricas relativas aos assuntos das aulas da disciplina e implementações de código utilizando a linguagem de programação Python. \n",
    "5. As células de implementação com código serão indicadas pelos seguintes comentários: `# IMPLEMENTE O SEU CÓDIGO AQUI`.\n",
    "6. Para editar uma célula de texto, basta clicar duas vezes com o cursos do mouse para editar, e `Ctrl + Enter` para finalizar a edição. \n",
    "7. Para rodar as células com os códigos desenvolvidos, digite `Ctrl + Enter` ou clique em `Run` no menu do Jupyter.\n",
    "8. Dúvidas, problemas de execução de código ou dificuldades com a linguagem de programação Python devem ser feitas durante as aulas de laboratório, encaminhadas para o grupo de WhatsApp da turma ou fórum do PVAE da disciplina.\n",
    "9. Os laboratórios devem ser enviados nos campos especificados pelo PVAE. ATENTE-SE AOS PRAZOS DE ENTREGA!"
   ]
  },
  {
   "cell_type": "markdown",
   "id": "80c38e99",
   "metadata": {},
   "source": [
    "# <span style='color:red'>Laboratório 4: Morfologia Matemática</span>\n",
    "***"
   ]
  },
  {
   "cell_type": "markdown",
   "id": "6405b3a0",
   "metadata": {},
   "source": [
    "### Importação dos Pacotes"
   ]
  },
  {
   "cell_type": "code",
   "execution_count": null,
   "id": "8bf20f28",
   "metadata": {},
   "outputs": [],
   "source": [
    "import os                            # operational system para manipulação de arquivos\n",
    "import cv2                           # opencv para manipulação de imagens\n",
    "import numpy as np                   # numpy para manipulação de matrizes e arrays\n",
    "import matplotlib.pyplot as plt      # pyplot para plotagem de gráficos e imagens\n",
    "import skimage.morphology            # scikit-image para produzir elementos estruturantes\n",
    "import urllib.request as url         # urllib para baixar arquivos via HTTPS\n",
    "import zipfile                       # zipfile para lidar com pastas compactadas"
   ]
  },
  {
   "cell_type": "code",
   "execution_count": null,
   "id": "a0290deb",
   "metadata": {},
   "outputs": [],
   "source": [
    "# baixando as imagens de referência\n",
    "url.urlretrieve('https://github.com/Alyssonmach/pdi-labs/raw/main/imagens.zip', 'imagens.zip')\n",
    "with zipfile.ZipFile('imagens.zip', 'r') as zip_ref:\n",
    "    zip_ref.extractall('')"
   ]
  },
  {
   "cell_type": "markdown",
   "id": "c8101b64",
   "metadata": {},
   "source": [
    "### Operações Lógicas em Imagens Binárias\n",
    "\n",
    "É possível submeter imagens a operações lógicas de modo a obter novas imagens. Nesse contexto, a biblioteca OpenCV disponibiliza um conjunto de funções para implementação dessas operações:\n",
    "\n",
    "1. AND: **C = A $\\cap$ B**   \n",
    "    * `C = cv2.bitwise_and( A, B )`\n",
    "2. OR: $C = A \\cup B$   \n",
    "    * `C = cv2.bitwise_or( A, B )`\n",
    "3. XOR: $C = A \\oplus B$   \n",
    "    * `C = cv2.bitwise_xor( A, B )`\n",
    "4. Not: $C = \\overline{A}$   \n",
    "    * `C = ~A`\n",
    "5. Diferença: $C = A \\cap \\overline{B} $   \n",
    "    *  `C = A - B` \n",
    "    \n",
    "    \n",
    "**Obs:** a função `cv2.threshold( src_img, limiar, vmax, cv2.THRESH_BINARY)` pode ser utilizada para binarizar imagens de tipo `uint`, sendo necessário informar o limiar de binarização e o valor do nível alto. A função retorna o limiar utilizado e a imagem binarizada, com pixels de nível alto setados para `vmax` e os demais para 0."
   ]
  },
  {
   "cell_type": "markdown",
   "id": "8afa712d",
   "metadata": {},
   "source": [
    " ## <span style='color:blue'>Questão 1: [Valor da Questão: 1.0][Taxa de acerto: x.x]</span>\n",
    "\n",
    "* Carregue as imagens “**A.tif**” e “**B.tif**”. Faça uma binarização e realize as operações abaixo. Plote os resultados e os comente.\n",
    "\n",
    "    * 1. $A$  \n",
    "    * 2. $B$  \n",
    "    * 3. $C = A \\cap B$ \n",
    "    * 4. $D = A - B$   \n",
    "    * 5. $E = \\overline{A}$    \n",
    "    * 6. $F = \\overline{B}$  \n",
    "    * 7. $G = A \\cup B$  \n",
    "    * 8. $H = B - A$ "
   ]
  },
  {
   "cell_type": "code",
   "execution_count": null,
   "id": "1fce0bd7",
   "metadata": {
    "scrolled": false
   },
   "outputs": [],
   "source": [
    "ima = cv2.imread('imagens/A.tif')\n",
    "ima = cv2.cvtColor(ima, cv2.COLOR_BGR2GRAY)\n",
    "imb = cv2.imread('imagens/B.tif')\n",
    "imb = cv2.cvtColor(imb, cv2.COLOR_BGR2GRAY)\n",
    " \n",
    "# aplicando a binarização nas imagens carregadas\n",
    "ima_bin = cv2.threshold( ima, 127.5, 255, cv2.THRESH_BINARY)[1]\n",
    "imb_bin = cv2.threshold( imb, 127.5, 255, cv2.THRESH_BINARY)[1]\n",
    "\n",
    "fig, axs = plt.subplots(nrows = 1, ncols = 2, figsize = (15, 15))\n",
    "\n",
    "# primeira figura da subplotagem\n",
    "axs[0].imshow(ima_bin, cmap = 'gray', vmin = np.min(ima_bin), vmax = np.max(ima_bin))\n",
    "axs[0].set_title('Imagem A Binarizada', size = 15)\n",
    "axs[0].set_xlabel('Dimensões ' + str(ima_bin.shape), size = 15)\n",
    "\n",
    "# segunda figura da subplotagem\n",
    "axs[1].imshow(imb_bin, cmap = 'gray', vmin = np.min(imb_bin), vmax = np.max(imb_bin))\n",
    "axs[1].set_title('Imagem B Binarizada', size = 15)\n",
    "axs[1].set_xlabel('Dimensões ' + str(imb_bin.shape), size = 15) "
   ]
  },
  {
   "cell_type": "code",
   "execution_count": null,
   "id": "f45efd64",
   "metadata": {
    "scrolled": true
   },
   "outputs": [],
   "source": [
    "# IMPLEMENTE SEU CÓDIGO AQUI --> QUESTÃO 1\n",
    "# operação lógica 3\n",
    "imc = # adicione a operação aqui\n",
    "# operação lógica 4\n",
    "imd = # adicione a operação aqui\n",
    "# operação lógica 5\n",
    "ime = # adicione a operação aqui\n",
    "# operação lógica 6\n",
    "imf = # adicione a operação aqui\n",
    "# operação lógica 7\n",
    "img = # adicione a operação aqui\n",
    "# operação lógica 8\n",
    "imh = # adicione a operação aqui\n",
    "\n",
    "fig, axs = plt.subplots(nrows = 3, ncols = 2, figsize = (15, 15))\n",
    "plt.subplots_adjust(left = 0, bottom = 0, right = 0.7, top = 0.92, wspace = 0, hspace = 0.3)\n",
    "fig.suptitle('Imagens Binarizadas', size = 30, x = 0.35) \n",
    "\n",
    "# primeira figura da subplotagem\n",
    "axs[0,0].imshow(imc, cmap='gray', vmin = np.min(imc), vmax = np.max(imc))\n",
    "axs[0,0].set_title('$C = A \\cap B$', size = 20)\n",
    "axs[0,0].set_xlabel('Dimensões ' + str(imc.shape), size = 20)\n",
    "\n",
    "# segunda figura da subplotagem\n",
    "axs[0,1].imshow(imd, cmap='gray', vmin = np.min(imd), vmax = np.max(imd))\n",
    "axs[0,1].set_title('$D = A - B$ ', size = 20)\n",
    "axs[0,1].set_xlabel('Dimensões ' + str(imd.shape), size = 20)\n",
    "\n",
    "# terceira figura da subplotagem\n",
    "axs[1,0].imshow(ime, cmap='gray', vmin=np.min(ime), vmax=np.max(ime))\n",
    "axs[1,0].set_title('$E = \\overline{A}$', size=20)\n",
    "axs[1,0].set_xlabel('Dimensões ' + str(ime.shape), size=20)\n",
    "\n",
    "# quarta figura da subplotagem\n",
    "axs[1,1].imshow(imf, cmap='gray', vmin = np.min(imf), vmax = np.max(imf))\n",
    "axs[1,1].set_title('$F = \\overline{B}$', size = 20)\n",
    "axs[1,1].set_xlabel('Dimensões ' + str(imf.shape), size = 20)\n",
    "\n",
    "# quinta figura da subplotagem\n",
    "axs[2,0].imshow(img, cmap='gray', vmin = np.min(img), vmax = np.max(img))\n",
    "axs[2,0].set_title('$G = A \\cup B$', size = 20)\n",
    "axs[2,0].set_xlabel('Dimensões ' + str(img.shape), size = 20)\n",
    "\n",
    "# sexta figura da subplotagem\n",
    "axs[2,1].imshow(imh, cmap = 'gray', vmin = np.min(imh), vmax = np.max(imh))\n",
    "axs[2,1].set_title('$H = B - A$', size = 20)\n",
    "axs[2,1].set_xlabel('Dimensões ' + str(imh.shape), size = 20) "
   ]
  },
  {
   "cell_type": "markdown",
   "id": "0cf58768",
   "metadata": {},
   "source": [
    "## <span style='color:green'>Respostas da Questão 1:</span>\n",
    "\n",
    "* Adicione suas respostas aqui."
   ]
  },
  {
   "cell_type": "markdown",
   "id": "85b6006c",
   "metadata": {},
   "source": [
    "## <span style='color:blue'>Questão 2: [Valor da Questão: 1.0][Taxa de acerto: x.x]</span>\n",
    "\n",
    "* O código abaixo aplica uma das máscaras binárias da questão anterior sobre uma imagem. Com relação à imagem resultante, responda:\n",
    " * (a) Qual o efeito de aplicar uma máscara binária sobre uma imagem?\n",
    " * (b) Cite pelo menos duas possíveis aplicações dessa operação. Qual o papel das máscaras nessas aplicações?\n",
    " * (c) Tendo em vista a quantidade de tons de cinza na máscara, qual a importância do tipo de interpolação utilizado?  "
   ]
  },
  {
   "cell_type": "code",
   "execution_count": null,
   "id": "bf6de754",
   "metadata": {},
   "outputs": [],
   "source": [
    "# imagem mandala\n",
    "mandala = cv2.imread( os.path.join(\".\", \"imagens\", \"mandala.jpg\"), 0 )\n",
    "H, W = mandala.shape\n",
    "\n",
    "# imagem b\n",
    "B = cv2.imread( os.path.join(\".\", \"imagens\", \"B.tif\"), 0 )\n",
    "_, B = cv2.threshold(B, 127, 255, cv2.THRESH_BINARY)\n",
    "B_resized = cv2.resize(B, (W, H), interpolation = cv2.INTER_NEAREST)\n",
    "\n",
    "# imagem d\n",
    "combined = cv2.bitwise_and( mandala, B_resized )\n",
    "\n",
    "# plotagem\n",
    "fig, axs = plt.subplots(nrows = 1, ncols = 3, figsize=(16, 8))\n",
    "\n",
    "# primeira subfigura da primeira linha\n",
    "axs[0].imshow(mandala, vmin=0, vmax=255, cmap=\"gray\")\n",
    "axs[0].set_title(\"Imagem Original\", fontsize = 16)\n",
    "\n",
    "# segunda subfigura da primeira linha\n",
    "axs[1].imshow(B_resized, vmin=0, vmax=255, cmap=\"gray\")\n",
    "axs[1].set_title(\"Máscara Binária\", fontsize = 16)\n",
    "\n",
    "# terceira subfigura da primeira linha\n",
    "axs[2].imshow(combined, vmin=0, vmax=255, cmap=\"gray\")\n",
    "axs[2].set_title(\"Imagem Resultante\", fontsize = 16)"
   ]
  },
  {
   "cell_type": "markdown",
   "id": "bdc6d45e",
   "metadata": {},
   "source": [
    "## <span style='color:green'>Respostas da Questão 02:</span>\n",
    "* (a) Adicione sua resposta aqui.\n",
    "* (b) Adicione sua resposta aqui.\n",
    "* (c) Adicione sua resposta aqui."
   ]
  },
  {
   "cell_type": "markdown",
   "id": "188274f1",
   "metadata": {},
   "source": [
    "### Transformações Lineares\n",
    "\n",
    "Também é possível realizar transformações lineares como rotação e translação com o OpenCV. Para isso, faz-se uso da função **warpAffine**.\n",
    "\n",
    "`dst_img = cv2.warpAffine(src_img, M, (cols, rows))`\n",
    "\n",
    "Descrição:  \n",
    "* **dst_img** representa a imagem de saída;\n",
    "* **src_img** representa a imagem de entrada;\n",
    "* **M** corresponde à matriz de transformação utilizada;\n",
    "* **rows** corresponde ao número de linhas da imagem;\n",
    "* **cols** corresponde ao número de colunas da imagem;\n",
    "\n",
    "Alguns exemplos de transformações que podem ser produzidas a partir desta função são:\n",
    "\n",
    "1. Translações:\n",
    "    * Para transladar a imagem Tx pixels para a direita e Ty pixels para baixo, faz-se uso de uma matriz com forma: \n",
    "    * **M = [ [1, 0, Tx], [0, 1, Ty] ]**\n",
    "2. Rotações:\n",
    "    * A matriz de transformação para uma rotacão de $\\theta$ graus com relação ao ponto (Px, Py) pode ser obtida utilizando a função **getRotationMatrix2D**: \n",
    "    * `M = cv2.getRotationMatrix2D( (Px, Py), $\\theta$, scale)`\n",
    "3. Reflexão:\n",
    "    * A imagem pode ser refletida utilizando as seguintes matrizes: \n",
    "    * **M = [ [-1, 0, cols-1], [0, 1, 0] ]**\n",
    "    * **M = [ [1, 0, 0], [0, -1, rows-1] ]**"
   ]
  },
  {
   "cell_type": "markdown",
   "id": "a6caf3e9",
   "metadata": {},
   "source": [
    "## <span style='color:blue'>Questão 3: [Valor da Questão: 1.0][Taxa de acerto: x.x]</span>\n",
    "\n",
    "* (a) O código abaixo implementa algumas das transformações descritas. Comente todas as linhas desse código e explique o que o programa faz.\n",
    "* (b) Que transformações são implementadas pelas matrizes Ma, Mb, Mc e Md?\n",
    "* (c) As imagens 2 e 4 são diferentes apesar de terem sofrido as mesmas transformações. Por que isso aconteceu?"
   ]
  },
  {
   "cell_type": "code",
   "execution_count": null,
   "id": "6b1794f5",
   "metadata": {},
   "outputs": [],
   "source": [
    "# COMENTE AS LINHAS DE CÓDIGO ABAIXO --> QUESTÃO 3 - LETRA (a)\n",
    "Tx    = 100\n",
    "Ty    =  50\n",
    "theta =  45\n",
    "\n",
    "src_img = cv2.imread(os.path.join(\".\", \"imagens\", \"cameraman.jpg\"), 0)\n",
    "rows, cols = src_img.shape\n",
    "\n",
    "Ma = np.array( [ [1, 0, Tx], [0, 1, Ty] ], dtype=np.float32 )\n",
    "Mb = cv2.getRotationMatrix2D( (cols/2, rows/2),  theta , 1)\n",
    "Mc = np.array( [[-1, 0, cols-1], [0, 1, 0]], dtype = np.float32 )\n",
    "Md = np.array( [[1, 0, 0], [0, -1, rows-1]], dtype = np.float32 )\n",
    "\n",
    "fig, axs = plt.subplots(nrows = 3, ncols = 3, figsize=(16, 12))\n",
    "\n",
    "axs[0][0].imshow(src_img, cmap=\"gray\")\n",
    "axs[0][0].set_title(\"Original\", fontsize = 16)\n",
    "\n",
    "dst_img = cv2.warpAffine(src_img, Ma, (cols, rows))\n",
    "axs[0][1].imshow(dst_img, cmap=\"gray\")\n",
    "axs[0][1].set_title(\"Imagem 1\", fontsize = 16)\n",
    "\n",
    "dst_img = cv2.warpAffine(dst_img, Mb, (cols, rows))\n",
    "axs[0][2].imshow(dst_img, cmap=\"gray\")\n",
    "axs[0][2].set_title(\"Imagem 2\", fontsize = 16)\n",
    "\n",
    "axs[1][0].imshow(src_img, cmap=\"gray\")\n",
    "axs[1][0].set_title(\"Original\", fontsize = 16)\n",
    "\n",
    "dst_img = cv2.warpAffine(src_img, Mb, (cols, rows))\n",
    "axs[1][1].imshow(dst_img, cmap=\"gray\")\n",
    "axs[1][1].set_title(\"Imagem 3\", fontsize = 16)\n",
    "\n",
    "dst_img = cv2.warpAffine(dst_img, Ma, (cols, rows))\n",
    "axs[1][2].imshow(dst_img, cmap=\"gray\")\n",
    "axs[1][2].set_title(\"Imagem 4\", fontsize = 16)\n",
    "\n",
    "axs[2][0].imshow(src_img, cmap=\"gray\")\n",
    "axs[2][0].set_title(\"Original\", fontsize = 16)\n",
    "\n",
    "dst_img = cv2.warpAffine(src_img, Mc, (cols, rows))\n",
    "axs[2][1].imshow(dst_img, cmap=\"gray\")\n",
    "axs[2][1].set_title(\"Imagem 5\", fontsize = 16)\n",
    "\n",
    "dst_img = cv2.warpAffine(dst_img, Md, (cols, rows))\n",
    "axs[2][2].imshow(dst_img, cmap=\"gray\")\n",
    "axs[2][2].set_title(\"Imagem 6\", fontsize = 16)"
   ]
  },
  {
   "cell_type": "markdown",
   "id": "10f36e0a",
   "metadata": {},
   "source": [
    "## <span style='color:green'>Respostas da Questão 03:</span>\n",
    "\n",
    "* (b) Adicione sua resposta aqui.\n",
    "* (c) Adicione sua resposta aqui."
   ]
  },
  {
   "cell_type": "markdown",
   "id": "6237643a",
   "metadata": {},
   "source": [
    "## <span style='color:blue'>Questão 4: [Valor da Questão: 1.5][Taxa de acerto: x.x]</span>\n",
    "\n",
    "* Abra a imagem \"**Seta.tif**\", realize operações abaixo e comente os resultados obtidos.\n",
    " * Translação de -50 pixels na horizontal e   0 pixels na vertical.\n",
    " * Translação de 125 pixels na horizontal e -75 pixels na vertical.\n",
    " * Reflexão horizontal.\n",
    " * Reflexão vertical.\n",
    " * Rotação de -25° com relação ao ponto (x =  59, y =  78) e escala   1.\n",
    " * Rotação de  25° com relação ao ponto (x = 118, y = 118) e escala   3.\n",
    " * Rotação de  25° com relação ao ponto (x = 118, y = 118) e escala 1/3.\n",
    " * Rotação de   0° com relação ao ponto (x =  59, y =  59) e escala 1/4."
   ]
  },
  {
   "cell_type": "code",
   "execution_count": null,
   "id": "1aadb8e6",
   "metadata": {},
   "outputs": [],
   "source": [
    "# funções auxiliares para ajudar na questão\n",
    "def make_translation(input_image, tx, ty):\n",
    "    '''função auxiliar para realizar transformação linear de translação'''\n",
    "    \n",
    "    # adicione as funções de translação aqui\n",
    "    \n",
    "    return # retorne a imagem de translação\n",
    "\n",
    "def make_rotation(input_image, x, y, theta, scale):\n",
    "    '''função auxiliar para realizar transformação linear de rotação'''\n",
    "    \n",
    "    # adicione as funções de rotação aqui\n",
    "    \n",
    "    return # retorne a imagem de rotação \n",
    "\n",
    "def make_reflection(input_image, label = 'x'):\n",
    "    '''função auxiliar para realizar transformação linear de reflexão '''\n",
    "    \n",
    "    # adicione as funções de reflexão aqui\n",
    "    \n",
    "    return # retorne a imagem de reflexão"
   ]
  },
  {
   "cell_type": "code",
   "execution_count": null,
   "id": "3632e9ea",
   "metadata": {},
   "outputs": [],
   "source": [
    "# IMPLEMENTE SEU CÓDIGO AQUI --> QUESTÃO 4"
   ]
  },
  {
   "cell_type": "markdown",
   "id": "4b88845c",
   "metadata": {},
   "source": [
    "## <span style='color:green'>Respostas da Questão 4:</span>\n",
    "\n",
    "* Adcione suas respostas aqui."
   ]
  },
  {
   "cell_type": "markdown",
   "id": "3f66f6f4",
   "metadata": {},
   "source": [
    "### Dilatação e Erosão\n",
    "\n",
    "A partir de um elemento estruturante é possível utilizar funções do OpenCV para realizar as transformações morfológicas de erosão (1) e dilatação (2). A sintaxe das funções é: \n",
    "\n",
    " 1. `dst_img = cv2.erode( src_img, kernel, iterations = 1 )`    \n",
    " 2. `dst_img = cv2.dilate( src_img, kernel, iterations = 1 )`   \n",
    "\n",
    "* **Descrição:**  \n",
    "    * **dst_img** representa a imagem de saída;\n",
    "    * **src_img** representa a imagem de entrada;\n",
    "    * **kernel** representa o elemento estruturante;\n",
    "    * **iterations** corresponde ao número de vezes que a operação deve ser repetida.\n",
    "\n",
    "Elementos estruturantes podem ser produzidos a partir de arrays do numpy."
   ]
  },
  {
   "cell_type": "markdown",
   "id": "84158488",
   "metadata": {},
   "source": [
    "## <span style='color:blue'>Questão 5: [Valor da Questão: 1.0][Taxa de acerto: x.x]</span>\n",
    "\n",
    "* Carregue a imagem \"**text.tif**\" e utilize o elemento estruturante abaixo para produzir uma versão dilatada da imagem e outra versão erodida. Comente os resultados encontrados.\n",
    "    * `kernel = np.array([[1, 0, 1], [0, 1, 0], [1, 0, 1]], dtype = np.uint8)`"
   ]
  },
  {
   "cell_type": "code",
   "execution_count": null,
   "id": "dcf5001a",
   "metadata": {},
   "outputs": [],
   "source": [
    "## IMPLEMENTE SEU CÓDIGO AQUI --> QUESTÃO 5"
   ]
  },
  {
   "cell_type": "markdown",
   "id": "e22f8c13",
   "metadata": {},
   "source": [
    "## <span style='color:green'>Respostas da Questão 5:</span>\n",
    "\n",
    "* Adicione suas respostas aqui."
   ]
  },
  {
   "cell_type": "markdown",
   "id": "a9f5151f",
   "metadata": {},
   "source": [
    "Elementos estruturantes também podem ser produzidos pela função **getStructuringElement** do OpenCV:\n",
    "\n",
    " * `kernel = cv2.getStructuringElement( FLAG, (W,H) )`\n",
    "\n",
    "* **Descrição:**\n",
    "    * **kernel** representa o elemento estruturante;\n",
    "    * **(W, H)** é uma tupla com as dimensões do elemento estruturante;\n",
    "    * **FLAG** é um parâmetro que indica o tipo de elemento estruturante produzido, pode ser:\n",
    "        * **cv2.MORPH_RECT** produz um elemento retangular;\n",
    "        * **cv2.MORPH_ELLIPSE** produz um elemento elíptico;\n",
    "        * **cv2.MORPH_CROSS** produz um elemento em forma de cruz;"
   ]
  },
  {
   "cell_type": "code",
   "execution_count": null,
   "id": "08b21e46",
   "metadata": {},
   "outputs": [],
   "source": [
    "H, W = 5, 5\n",
    "\n",
    "# plots\n",
    "fig, axs = plt.subplots(nrows = 1, ncols = 3, figsize = (16, 12))\n",
    "\n",
    "# primeira Subfigura da primeira linha\n",
    "kernel = cv2.getStructuringElement(cv2.MORPH_RECT, (W, H))\n",
    "axs[0].imshow(kernel, cmap = \"gray\")\n",
    "axs[0].set_title(\"cv2.MORPH_RECT\", fontsize = 16)\n",
    "\n",
    "# segunda Subfigura da primeira linha\n",
    "kernel = cv2.getStructuringElement(cv2.MORPH_ELLIPSE, (W, H))\n",
    "axs[1].imshow(kernel, cmap = \"gray\")\n",
    "axs[1].set_title(\"cv2.MORPH_ELLIPSE\", fontsize = 16)\n",
    "\n",
    "# terceira Subfigura da primeira linha\n",
    "kernel = cv2.getStructuringElement(cv2.MORPH_CROSS, (W, H))\n",
    "axs[2].imshow(kernel, cmap = \"gray\")\n",
    "axs[2].set_title(\"cv2.MORPH_CROSS\", fontsize = 16)"
   ]
  },
  {
   "cell_type": "markdown",
   "id": "e4fe76de",
   "metadata": {},
   "source": [
    "Ou ainda utilizando as funções do Scikit-Image:\n",
    "\n",
    " * `kernel = skimage.morphology.square( H )`\n",
    " * `kernel = skimage.morphology.rectangle( H, W )`\n",
    " * `kernel = skimage.morphology.diamond( H )`\n",
    " * `kernel = skimage.morphology.disk( R )`\n",
    " * `kernel = skimage.morphology.octagon( M, N )`\n",
    " * `kernel = skimage.morphology.star( A)`"
   ]
  },
  {
   "cell_type": "code",
   "execution_count": null,
   "id": "369c4399",
   "metadata": {},
   "outputs": [],
   "source": [
    "H =  5 # altura do quadrado/retângulo e lado do diamante\n",
    "W = 15 # largura do retângulo\n",
    "R = 25 # raio do disco\n",
    "M =  7 # comprimento dos lados retos do octágono\n",
    "N =  3 # comprimento dos lados inclinados do octágono\n",
    "A =  7 # variável que controla o tamanho da estrela, o quadrado que a contém tem lado H = 2 * a + 1 + 2 * floor(a / 2) \n",
    "\n",
    "# plots\n",
    "fig, axs = plt.subplots(nrows = 2, ncols = 3, figsize=(16, 12))\n",
    "\n",
    "# primeira Subfigura da primeira linha \n",
    "kernel = skimage.morphology.square(H)\n",
    "axs[0][0].imshow(kernel, vmin = 0, vmax = 1, cmap = \"gray\")\n",
    "axs[0][0].set_title(\"Square\", fontsize = 16)\n",
    "\n",
    "# segunda Subfigura da primeira linha\n",
    "kernel = skimage.morphology.rectangle(H, W)\n",
    "axs[0][1].imshow(kernel, vmin = 0, vmax = 1, cmap = \"gray\")\n",
    "axs[0][1].set_title(\"Rectangle\", fontsize = 16)\n",
    "\n",
    "# terceira Subfigura da primeira linha\n",
    "kernel = skimage.morphology.diamond(H)\n",
    "axs[0][2].imshow(kernel, vmin = 0, vmax = 1, cmap = \"gray\")\n",
    "axs[0][2].set_title(\"Diamond\", fontsize = 16)\n",
    "\n",
    "# primeira Subfigura da segunda linha\n",
    "kernel = skimage.morphology.disk(R)\n",
    "axs[1][0].imshow(kernel, vmin = 0, vmax = 1, cmap = \"gray\")\n",
    "axs[1][0].set_title(\"Disk\", fontsize = 16)\n",
    "\n",
    "# segunda Subfigura da segunda linha\n",
    "kernel = skimage.morphology.octagon(M, N)\n",
    "axs[1][1].imshow(kernel, vmin = 0, vmax = 1, cmap = \"gray\")\n",
    "axs[1][1].set_title(\"Octagon\", fontsize = 16)\n",
    "\n",
    "# terceira Subfigura da segunda linha\n",
    "kernel = skimage.morphology.star(A)\n",
    "axs[1][2].imshow(kernel, vmin = 0, vmax = 1, cmap = \"gray\")\n",
    "axs[1][2].set_title(\"Star\", fontsize = 16)"
   ]
  },
  {
   "cell_type": "code",
   "execution_count": null,
   "id": "d8f0b369",
   "metadata": {},
   "outputs": [],
   "source": [
    "# elemento estruturante correspondente a uma linha horizontal\n",
    "orig_kernel  = np.zeros((7, 7), dtype = np.uint8)\n",
    "orig_kernel[3, :] = 1\n",
    "\n",
    "# matriz de rotação para 45°\n",
    "M = cv2.getRotationMatrix2D((3, 3), 45, 1)\n",
    "\n",
    "# plots\n",
    "fig, axs = plt.subplots(nrows = 1, ncols = 3, figsize=(16, 12))\n",
    "\n",
    "# primeira subfigura da primeira linha\n",
    "axs[0].imshow(orig_kernel, cmap = \"gray\")\n",
    "axs[0].set_title(\"Linha Horizontal de 5 pontos\", fontsize = 16)\n",
    "\n",
    "# segunda subfigura da primeira linha\n",
    "kernel = cv2.warpAffine(orig_kernel, M, (7, 7))\n",
    "axs[1].imshow(kernel, cmap = \"gray\")\n",
    "axs[1].set_title(\"Linha de 5 pontos Inclinada 45°\", fontsize = 16)\n",
    "\n",
    "# terceira subfigura da primeira linha\n",
    "kernel = cv2.warpAffine(kernel, M, (7, 7))\n",
    "axs[2].imshow(kernel, cmap = \"gray\")\n",
    "axs[2].set_title(\"Linha Vertical de 5 pontos\", fontsize = 16) "
   ]
  },
  {
   "cell_type": "markdown",
   "id": "6136d58f",
   "metadata": {},
   "source": [
    "## <span style='color:blue'>Questão 6: [Valor da Questão: 1.0][Taxa de acerto: x.x]</span>\n",
    "\n",
    "* Usando as funções mostradas, gere os seguintes elementos estruturantes para dilatar a imagem 'text.tif'. Mostre as imagens resultantes e comente os resultados encontrados.\n",
    " * Disco de raio 9;\n",
    " * Estrela com A = 13;\n",
    " * Linha vertical de 11 pontos de tamanho;\n",
    " * Linha vertical de 9 pontos de tamanho;"
   ]
  },
  {
   "cell_type": "code",
   "execution_count": null,
   "id": "f9dde11c",
   "metadata": {},
   "outputs": [],
   "source": [
    "# IMPLEMENTE SEU CÓDIGO AQUI --> QUESTÃO 6"
   ]
  },
  {
   "cell_type": "markdown",
   "id": "7714538f",
   "metadata": {},
   "source": [
    "## <span style='color:green'>Respostas da Questão 6:</span>\n",
    "\n",
    "* Adicione suas respostas aqui."
   ]
  },
  {
   "cell_type": "markdown",
   "id": "ce0f594d",
   "metadata": {},
   "source": [
    "## <span style='color:blue'>Questão 7: [Valor da Questão: 1.5][Taxa de acerto: x.x]</span>\n",
    "\n",
    "* Realize a erosão na imagem \"**wirebond_mask.tif**\" com um elemento estruturante formado por um diamante de raio 6. Varie o tamanho (raio) do elemento estruturante para 4 e 8 e mostre os resultados. Comente os resultados encontrados."
   ]
  },
  {
   "cell_type": "code",
   "execution_count": null,
   "id": "943d6b70",
   "metadata": {},
   "outputs": [],
   "source": [
    "# IMPLEMENTE SEU CÓDIGO AQUI --> QUESTÃO 7"
   ]
  },
  {
   "cell_type": "markdown",
   "id": "13c7c4bb",
   "metadata": {},
   "source": [
    "## <span style='color:green'>Respostas da Questão 7:</span>\n",
    "\n",
    "* Adicione suas respostas aqui."
   ]
  },
  {
   "cell_type": "markdown",
   "id": "09a24b1f",
   "metadata": {},
   "source": [
    "### Abertura e Fechamento\n",
    "\n",
    "A partir de um elemento estruturante é possível utilizar funções do OpenCV para realizar as transformações morfológicas de abertura e fechamento a partir de uma mesma função. Sua sintaxe é: \n",
    "\n",
    "* `dst_img = cv2.morphologyEx(src_img, FLAG, kernel)`       \n",
    "\n",
    "* **Descrição:**\n",
    "    * **dst_img** representa a imagem de saída;\n",
    "    * **src_img** representa a imagem de entrada;\n",
    "    * **kernel** representa o elemento estruturante;\n",
    "    * **FLAG** é um parâmetro que indica a transformação realizada, pode ser:\n",
    "        * **cv2.MORPH_OPEN** realiza uma operação de abertura;\n",
    "        * **cv2.MORPH_CLOSE** realiza uma operação de fechamento;\n",
    "        * **cv2.MORPH_GRADIENT** realiza uma operação de gradiente morfológico (diferença entre as versões dilatada e erodida de uma imagem);\n",
    "        * **cv2.MORPH_TOPHAT** realiza uma operação de Tophat (diferença entre a imagem original e sua versão após abertura);\n",
    "        * **cv2.MORPH_BLACKHAT** realiza uma operação de Blackhat (diferença entre a versão da imagem após fechamento e a original);"
   ]
  },
  {
   "cell_type": "markdown",
   "id": "31b14ae7",
   "metadata": {},
   "source": [
    "## <span style='color:blue'>Questão 8: [Valor da Questão: 1.0][Taxa de acerto: x.x]</span>\n",
    "\n",
    "* Aplique os seguintes filtros morfológicos na imagem \"**shapes.tif**\". Comente os resultados encontrados em todos os itens acima. Utilize mais células se achar necessário.\n",
    "    * Abertura, utilizando um elemento estruturante quadrado (square) de altura 10.\n",
    "    * Fechamento, utilizando um elemento estruturante quadrado de altura 10.\n",
    "    * Uma abertura seguida de um fechamento, um elemento estruturante quadrado de altura 10.\n",
    "    * Repetir o item anterior variando a altura do elemento estruturante para 5 e depois para 15. Analise os resultados encontrados."
   ]
  },
  {
   "cell_type": "code",
   "execution_count": null,
   "id": "3dbe433b",
   "metadata": {},
   "outputs": [],
   "source": [
    "# IMPLEMENTE O SEU CÓDIGO AQUI --> QUESTÃO 7 (utilize mais células se achar necessário)"
   ]
  },
  {
   "cell_type": "markdown",
   "id": "6eb30769",
   "metadata": {},
   "source": [
    "## <span style='color:green'>Respostas da Questão 8:</span>\n",
    "\n",
    "* Adicione suas respostas aqui."
   ]
  },
  {
   "cell_type": "markdown",
   "id": "3c9a8114",
   "metadata": {},
   "source": [
    "## <span style='color:blue'>Questão 9: [Valor da Questão: 1.0][Taxa de acerto: x.x]</span>\n",
    "\n",
    "* Aplique os seguintes filtros morfológicos na imagem \"**finger.jpg**\". Comente os resultados encontrados em todos os itens.\n",
    "    * Abertura, utilizando um elemento estruturante em formato de disco de raio 1.\n",
    "    * Fechamento, utilizando um elemento estruturante em formato de disco de raio 1.\n",
    "    * Uma abertura seguida de um fechamento com um elemento estruturante em formato de disco de raio 1.\n",
    "    * Um fechamento seguido de uma abertura com um elemento estruturante em formato de disco de raio 1."
   ]
  },
  {
   "cell_type": "code",
   "execution_count": null,
   "id": "0831e969",
   "metadata": {},
   "outputs": [],
   "source": [
    "# IMPLEMENTE SEU CÓDIGO AQUI --> QUESTÃO 9"
   ]
  },
  {
   "cell_type": "markdown",
   "id": "a879b7f6",
   "metadata": {},
   "source": [
    "## <span style='color:green'>Respostas da Questão 9:</span>\n",
    "\n",
    "* Adicione suas respostas aqui."
   ]
  },
  {
   "cell_type": "markdown",
   "id": "dfcb207b",
   "metadata": {},
   "source": [
    "![gif2](https://user-images.githubusercontent.com/58775072/142712675-08fa8843-9a5e-4109-a94a-8ca2d60e4fa8.gif)"
   ]
  }
 ],
 "metadata": {
  "kernelspec": {
   "display_name": "Python 3 (ipykernel)",
   "language": "python",
   "name": "python3"
  },
  "language_info": {
   "codemirror_mode": {
    "name": "ipython",
    "version": 3
   },
   "file_extension": ".py",
   "mimetype": "text/x-python",
   "name": "python",
   "nbconvert_exporter": "python",
   "pygments_lexer": "ipython3",
   "version": "3.8.10"
  }
 },
 "nbformat": 4,
 "nbformat_minor": 5
}
